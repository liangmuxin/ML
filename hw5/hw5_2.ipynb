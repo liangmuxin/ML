{
 "cells": [
  {
   "cell_type": "code",
   "execution_count": 44,
   "metadata": {},
   "outputs": [],
   "source": [
    "library(LiblineaR)\n",
    "library(pROC)\n",
    "library(useful)\n",
    "library(caret)\n",
    "library(ROCR)\n",
    "library(clue)\n",
    "library(fpc)\n",
    "library(clues)\n",
    "library(pdist)\n",
    "library(tidyr)"
   ]
  },
  {
   "cell_type": "code",
   "execution_count": 6,
   "metadata": {},
   "outputs": [],
   "source": [
    "alldata= read.csv(\"Frogs_MFCCs.csv\")\n",
    "alldata$Family <- as.factor(alldata$Family)\n",
    "alldata$Genus <- as.factor(alldata$Genus)\n",
    "alldata$Species <- as.factor(alldata$Species)"
   ]
  },
  {
   "cell_type": "code",
   "execution_count": 7,
   "metadata": {},
   "outputs": [
    {
     "data": {
      "text/html": [
       "<ol class=list-inline>\n",
       "\t<li>7195</li>\n",
       "\t<li>26</li>\n",
       "</ol>\n"
      ],
      "text/latex": [
       "\\begin{enumerate*}\n",
       "\\item 7195\n",
       "\\item 26\n",
       "\\end{enumerate*}\n"
      ],
      "text/markdown": [
       "1. 7195\n",
       "2. 26\n",
       "\n",
       "\n"
      ],
      "text/plain": [
       "[1] 7195   26"
      ]
     },
     "metadata": {},
     "output_type": "display_data"
    }
   ],
   "source": [
    "dim(alldata)"
   ]
  },
  {
   "cell_type": "code",
   "execution_count": 39,
   "metadata": {},
   "outputs": [
    {
     "name": "stdout",
     "output_type": "stream",
     "text": [
      "[1] 7\n",
      "[1] 1758.525\n",
      "[1] 8\n",
      "[1] 1936.112\n",
      "[1] 9\n",
      "[1] 1907.195\n",
      "[1] 10\n",
      "[1] 1888.083\n",
      "[1] 11\n",
      "[1] 1794.541\n",
      "[1] 12\n",
      "[1] 1690.3\n",
      "[1] 13\n",
      "[1] 1575.92\n",
      "[1] 14\n",
      "[1] 1555.312\n",
      "[1] 15\n",
      "[1] 1473.464\n",
      "[1] 16\n",
      "[1] 1566.121\n",
      "[1] 17\n",
      "[1] 1283.872\n",
      "[1] 18\n",
      "[1] 1433.734\n",
      "[1] 19\n",
      "[1] 1429.261\n",
      "[1] 20\n",
      "[1] 1258.767\n"
     ]
    }
   ],
   "source": [
    "#CH to find optimal k\n",
    "for (i in 7:20){\n",
    "    km = kmeans(alldata[1:22], i)\n",
    "#     print(names(km))\n",
    "    B=km$betweenss\n",
    "    W=km$tot.withinss\n",
    "    CH = B*(nrow(alldata[1:22])-i)/((i-1)*W)\n",
    "    print(i)\n",
    "    print(CH)\n",
    "}"
   ]
  },
  {
   "cell_type": "code",
   "execution_count": 40,
   "metadata": {},
   "outputs": [],
   "source": [
    "optimalk = 8"
   ]
  },
  {
   "cell_type": "code",
   "execution_count": 46,
   "metadata": {},
   "outputs": [],
   "source": [
    "#do optimal kmeans\n",
    "km = kmeans(alldata[1:22],optimalk, nstart= 25)\n",
    "\n",
    "\n",
    "centers=km$centers"
   ]
  },
  {
   "cell_type": "code",
   "execution_count": 78,
   "metadata": {},
   "outputs": [
    {
     "name": "stdout",
     "output_type": "stream",
     "text": [
      "[1] 1\n",
      "      Bufonidae   Dendrobatidae         Hylidae Leptodactylidae \n",
      "              0               0               0              30 \n",
      "[1] 2\n",
      "      Bufonidae   Dendrobatidae         Hylidae Leptodactylidae \n",
      "              0              27               1               2 \n",
      "[1] 3\n",
      "      Bufonidae   Dendrobatidae         Hylidae Leptodactylidae \n",
      "              0               0              30               0 \n",
      "[1] 4\n",
      "      Bufonidae   Dendrobatidae         Hylidae Leptodactylidae \n",
      "              0               0              30               0 \n",
      "[1] 5\n",
      "      Bufonidae   Dendrobatidae         Hylidae Leptodactylidae \n",
      "              0               0               0              30 \n",
      "[1] 6\n",
      "      Bufonidae   Dendrobatidae         Hylidae Leptodactylidae \n",
      "              0               0               0              30 \n",
      "[1] 7\n",
      "      Bufonidae   Dendrobatidae         Hylidae Leptodactylidae \n",
      "              0               0              30               0 \n",
      "[1] 8\n",
      "      Bufonidae   Dendrobatidae         Hylidae Leptodactylidae \n",
      "              0               0               0              30 \n"
     ]
    }
   ],
   "source": [
    "#family\n",
    "\n",
    "for (i in 1:8){\n",
    "    clusteri=data.frame()\n",
    "    tmpdata = alldata\n",
    "    tmpdata$dist = apply(tmpdata,1,function(x) sqrt(sum((as.numeric(x[1:22])-centers[i,])^2)))\n",
    "\n",
    "    for (j in 1:30){\n",
    "        tmpmin =which(tmpdata$dist==(min(tmpdata$dist)))\n",
    "        if (length(tmpmin)>=1){\n",
    "            tmpmin = tmpmin[1]\n",
    "        }\n",
    "        clusteri = rbind(clusteri, tmpdata[tmpmin,])\n",
    "        tmpdata = tmpdata[-tmpmin,]\n",
    "\n",
    "\n",
    "    }\n",
    "    print(i)\n",
    "    print(summary(clusteri$Family))\n",
    "}"
   ]
  },
  {
   "cell_type": "code",
   "execution_count": 79,
   "metadata": {},
   "outputs": [
    {
     "name": "stdout",
     "output_type": "stream",
     "text": [
      "[1] 1\n",
      "    Adenomera      Ameerega Dendropsophus     Hypsiboas Leptodactylus \n",
      "           30             0             0             0             0 \n",
      "Osteocephalus      Rhinella        Scinax \n",
      "            0             0             0 \n",
      "[1] 2\n",
      "    Adenomera      Ameerega Dendropsophus     Hypsiboas Leptodactylus \n",
      "            2            27             1             0             0 \n",
      "Osteocephalus      Rhinella        Scinax \n",
      "            0             0             0 \n",
      "[1] 3\n",
      "    Adenomera      Ameerega Dendropsophus     Hypsiboas Leptodactylus \n",
      "            0             0             0            30             0 \n",
      "Osteocephalus      Rhinella        Scinax \n",
      "            0             0             0 \n",
      "[1] 4\n",
      "    Adenomera      Ameerega Dendropsophus     Hypsiboas Leptodactylus \n",
      "            0             0             0            30             0 \n",
      "Osteocephalus      Rhinella        Scinax \n",
      "            0             0             0 \n",
      "[1] 5\n",
      "    Adenomera      Ameerega Dendropsophus     Hypsiboas Leptodactylus \n",
      "           30             0             0             0             0 \n",
      "Osteocephalus      Rhinella        Scinax \n",
      "            0             0             0 \n",
      "[1] 6\n",
      "    Adenomera      Ameerega Dendropsophus     Hypsiboas Leptodactylus \n",
      "           30             0             0             0             0 \n",
      "Osteocephalus      Rhinella        Scinax \n",
      "            0             0             0 \n",
      "[1] 7\n",
      "    Adenomera      Ameerega Dendropsophus     Hypsiboas Leptodactylus \n",
      "            0             0             0            30             0 \n",
      "Osteocephalus      Rhinella        Scinax \n",
      "            0             0             0 \n",
      "[1] 8\n",
      "    Adenomera      Ameerega Dendropsophus     Hypsiboas Leptodactylus \n",
      "           30             0             0             0             0 \n",
      "Osteocephalus      Rhinella        Scinax \n",
      "            0             0             0 \n"
     ]
    }
   ],
   "source": [
    "#genus\n",
    "for (i in 1:8){\n",
    "    clusteri=data.frame()\n",
    "    tmpdata = alldata\n",
    "    tmpdata$dist = apply(tmpdata,1,function(x) sqrt(sum((as.numeric(x[1:22])-centers[i,])^2)))\n",
    "\n",
    "    for (j in 1:30){\n",
    "        tmpmin =which(tmpdata$dist==(min(tmpdata$dist)))\n",
    "        if (length(tmpmin)>=1){\n",
    "            tmpmin = tmpmin[1]\n",
    "        }\n",
    "        clusteri = rbind(clusteri, tmpdata[tmpmin,])\n",
    "        tmpdata = tmpdata[-tmpmin,]\n",
    "\n",
    "\n",
    "    }\n",
    "    print(i)\n",
    "    print(summary(clusteri$Genus))\n",
    "}"
   ]
  },
  {
   "cell_type": "code",
   "execution_count": 92,
   "metadata": {},
   "outputs": [
    {
     "name": "stdout",
     "output_type": "stream",
     "text": [
      "[1] 1\n",
      "        AdenomeraAndre AdenomeraHylaedactylus     Ameeregatrivittata \n",
      "                    30                      0                      0 \n",
      "            HylaMinuta   HypsiboasCinerascens      HypsiboasCordobae \n",
      "                     0                      0                      0 \n",
      "   LeptodactylusFuscus  OsteocephalusOophagus      Rhinellagranulosa \n",
      "                     0                      0                      0 \n",
      "           ScinaxRuber \n",
      "                     0 \n",
      "[1] 2\n",
      "        AdenomeraAndre AdenomeraHylaedactylus     Ameeregatrivittata \n",
      "                     2                      0                     27 \n",
      "            HylaMinuta   HypsiboasCinerascens      HypsiboasCordobae \n",
      "                     1                      0                      0 \n",
      "   LeptodactylusFuscus  OsteocephalusOophagus      Rhinellagranulosa \n",
      "                     0                      0                      0 \n",
      "           ScinaxRuber \n",
      "                     0 \n",
      "[1] 3\n",
      "        AdenomeraAndre AdenomeraHylaedactylus     Ameeregatrivittata \n",
      "                     0                      0                      0 \n",
      "            HylaMinuta   HypsiboasCinerascens      HypsiboasCordobae \n",
      "                     0                     30                      0 \n",
      "   LeptodactylusFuscus  OsteocephalusOophagus      Rhinellagranulosa \n",
      "                     0                      0                      0 \n",
      "           ScinaxRuber \n",
      "                     0 \n",
      "[1] 4\n",
      "        AdenomeraAndre AdenomeraHylaedactylus     Ameeregatrivittata \n",
      "                     0                      0                      0 \n",
      "            HylaMinuta   HypsiboasCinerascens      HypsiboasCordobae \n",
      "                     0                      0                     30 \n",
      "   LeptodactylusFuscus  OsteocephalusOophagus      Rhinellagranulosa \n",
      "                     0                      0                      0 \n",
      "           ScinaxRuber \n",
      "                     0 \n",
      "[1] 5\n",
      "        AdenomeraAndre AdenomeraHylaedactylus     Ameeregatrivittata \n",
      "                     0                     30                      0 \n",
      "            HylaMinuta   HypsiboasCinerascens      HypsiboasCordobae \n",
      "                     0                      0                      0 \n",
      "   LeptodactylusFuscus  OsteocephalusOophagus      Rhinellagranulosa \n",
      "                     0                      0                      0 \n",
      "           ScinaxRuber \n",
      "                     0 \n",
      "[1] 6\n",
      "        AdenomeraAndre AdenomeraHylaedactylus     Ameeregatrivittata \n",
      "                     0                     30                      0 \n",
      "            HylaMinuta   HypsiboasCinerascens      HypsiboasCordobae \n",
      "                     0                      0                      0 \n",
      "   LeptodactylusFuscus  OsteocephalusOophagus      Rhinellagranulosa \n",
      "                     0                      0                      0 \n",
      "           ScinaxRuber \n",
      "                     0 \n",
      "[1] 7\n",
      "        AdenomeraAndre AdenomeraHylaedactylus     Ameeregatrivittata \n",
      "                     0                      0                      0 \n",
      "            HylaMinuta   HypsiboasCinerascens      HypsiboasCordobae \n",
      "                     0                      0                     30 \n",
      "   LeptodactylusFuscus  OsteocephalusOophagus      Rhinellagranulosa \n",
      "                     0                      0                      0 \n",
      "           ScinaxRuber \n",
      "                     0 \n",
      "[1] 8\n",
      "        AdenomeraAndre AdenomeraHylaedactylus     Ameeregatrivittata \n",
      "                     0                     30                      0 \n",
      "            HylaMinuta   HypsiboasCinerascens      HypsiboasCordobae \n",
      "                     0                      0                      0 \n",
      "   LeptodactylusFuscus  OsteocephalusOophagus      Rhinellagranulosa \n",
      "                     0                      0                      0 \n",
      "           ScinaxRuber \n",
      "                     0 \n"
     ]
    }
   ],
   "source": [
    "#species\n",
    "for (i in 1:8){\n",
    "    clusteri=data.frame()\n",
    "    tmpdata = alldata\n",
    "    tmpdata$dist = apply(tmpdata,1,function(x) sqrt(sum((as.numeric(x[1:22])-centers[i,])^2)))\n",
    "\n",
    "    for (j in 1:30){\n",
    "        tmpmin =which(tmpdata$dist==(min(tmpdata$dist)))\n",
    "        if (length(tmpmin)>=1){\n",
    "            tmpmin = tmpmin[1]\n",
    "        }\n",
    "        clusteri = rbind(clusteri, tmpdata[tmpmin,])\n",
    "        tmpdata = tmpdata[-tmpmin,]\n",
    "\n",
    "\n",
    "    }\n",
    "    print(i)\n",
    "    print(summary(clusteri$Species))\n",
    "}"
   ]
  },
  {
   "cell_type": "code",
   "execution_count": 112,
   "metadata": {},
   "outputs": [],
   "source": [
    "#label custered data by polling results\n",
    "preddata=alldata\n",
    "\n",
    "\n",
    "for (i in 1:nrow(alldata)){\n",
    "    if (km$cluster[i]==1){\n",
    "        preddata[i,]$Family=\"Leptodactylidae\"\n",
    "        preddata[i,]$Genus=\"Adenomera\"\n",
    "        preddata[i,]$Species=\"AdenomeraAndre\"\n",
    "    }\n",
    "    else if (km$cluster[i]==2){\n",
    "        preddata[i,]$Family=\"Dendrobatidae\"\n",
    "        preddata[i,]$Genus=\"Ameerega\"\n",
    "        preddata[i,]$Species=\"Ameeregatrivittata\"\n",
    "    }\n",
    "    else if (km$cluster[i]==3){\n",
    "        preddata[i,]$Family=\"Hylidae\"\n",
    "        preddata[i,]$Genus=\"Hypsiboas\"\n",
    "        preddata[i,]$Species=\"HypsiboasCinerascens\"\n",
    "    }\n",
    "    else if (km$cluster[i]==4){\n",
    "        preddata[i,]$Family=\"Hylidae\"\n",
    "        preddata[i,]$Genus=\"Hypsiboas\"\n",
    "        preddata[i,]$Species=\"HypsiboasCordobae\"\n",
    "    }\n",
    "    else if (km$cluster[i]==5){\n",
    "        preddata[i,]$Family=\"Leptodactylidae\"\n",
    "        preddata[i,]$Genus=\"Adenomera\"\n",
    "        preddata[i,]$Species=\"AdenomeraHylaedactylus\"\n",
    "    }\n",
    "    else if (km$cluster[i]==6){\n",
    "        preddata[i,]$Family=\"Leptodactylidae\"\n",
    "        preddata[i,]$Genus=\"Adenomera\"\n",
    "        preddata[i,]$Species=\"AdenomeraHylaedactylus\"\n",
    "    }\n",
    "    else if (km$cluster[i]==7){\n",
    "        preddata[i,]$Family=\"Hylidae\"\n",
    "        preddata[i,]$Genus=\"Hypsiboas\"\n",
    "        preddata[i,]$Species=\"HypsiboasCordobae\"\n",
    "    }\n",
    "    else if (km$cluster[i]==8){\n",
    "        preddata[i,]$Family=\"Leptodactylidae\"\n",
    "        preddata[i,]$Genus=\"Adenomera\"\n",
    "        preddata[i,]$Species=\"AdenomeraHylaedactylus\"\n",
    "    }\n",
    "}"
   ]
  },
  {
   "cell_type": "code",
   "execution_count": 123,
   "metadata": {},
   "outputs": [],
   "source": [
    "#calculating average hamming distance\n",
    "hd = 0\n",
    "for (i in 1:nrow(alldata)){\n",
    "    if (preddata[i,]$Family!=alldata[i,]$Family){\n",
    "        hd = hd+1\n",
    "    }\n",
    "    if (preddata[i,]$Genus!=alldata[i,]$Genus){\n",
    "        hd = hd+1\n",
    "    }\n",
    "    if (preddata[i,]$Species!=alldata[i,]$Species){\n",
    "        hd = hd+1\n",
    "    }\n",
    "#     print(i)\n",
    "}\n",
    "avghm=hd/(nrow(alldata)*3)"
   ]
  },
  {
   "cell_type": "code",
   "execution_count": 121,
   "metadata": {},
   "outputs": [
    {
     "data": {
      "text/html": [
       "0.198934445216586"
      ],
      "text/latex": [
       "0.198934445216586"
      ],
      "text/markdown": [
       "0.198934445216586"
      ],
      "text/plain": [
       "[1] 0.1989344"
      ]
     },
     "metadata": {},
     "output_type": "display_data"
    }
   ],
   "source": [
    "avghm"
   ]
  },
  {
   "cell_type": "code",
   "execution_count": null,
   "metadata": {},
   "outputs": [],
   "source": []
  },
  {
   "cell_type": "code",
   "execution_count": null,
   "metadata": {},
   "outputs": [],
   "source": []
  },
  {
   "cell_type": "code",
   "execution_count": null,
   "metadata": {},
   "outputs": [],
   "source": []
  }
 ],
 "metadata": {
  "kernelspec": {
   "display_name": "R",
   "language": "R",
   "name": "ir"
  },
  "language_info": {
   "codemirror_mode": "r",
   "file_extension": ".r",
   "mimetype": "text/x-r-source",
   "name": "R",
   "pygments_lexer": "r",
   "version": "3.4.3"
  }
 },
 "nbformat": 4,
 "nbformat_minor": 2
}
