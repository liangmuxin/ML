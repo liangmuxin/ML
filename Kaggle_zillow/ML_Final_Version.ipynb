{
 "cells": [
  {
   "cell_type": "markdown",
   "metadata": {},
   "source": [
    "## Machin Learning works for the project"
   ]
  },
  {
   "cell_type": "markdown",
   "metadata": {},
   "source": [
    "## Read data, split train and test set"
   ]
  },
  {
   "cell_type": "code",
   "execution_count": 294,
   "metadata": {},
   "outputs": [],
   "source": [
    "library(dplyr)\n"
   ]
  },
  {
   "cell_type": "code",
   "execution_count": 295,
   "metadata": {},
   "outputs": [],
   "source": [
    "df_data = read.csv(\"data_after_EDA.csv\")"
   ]
  },
  {
   "cell_type": "code",
   "execution_count": 296,
   "metadata": {},
   "outputs": [
    {
     "data": {
      "text/html": [
       "<ol class=list-inline>\n",
       "\t<li>76092</li>\n",
       "\t<li>38</li>\n",
       "</ol>\n"
      ],
      "text/latex": [
       "\\begin{enumerate*}\n",
       "\\item 76092\n",
       "\\item 38\n",
       "\\end{enumerate*}\n"
      ],
      "text/markdown": [
       "1. 76092\n",
       "2. 38\n",
       "\n",
       "\n"
      ],
      "text/plain": [
       "[1] 76092    38"
      ]
     },
     "metadata": {},
     "output_type": "display_data"
    }
   ],
   "source": [
    "dim(df_data)"
   ]
  },
  {
   "cell_type": "code",
   "execution_count": 297,
   "metadata": {},
   "outputs": [
    {
     "data": {
      "text/html": [
       "<ol class=list-inline>\n",
       "\t<li>'airconditioningtypeid'</li>\n",
       "\t<li>'architecturalstyletypeid'</li>\n",
       "\t<li>'basementsqft'</li>\n",
       "\t<li>'bathroomcnt'</li>\n",
       "\t<li>'bedroomcnt'</li>\n",
       "\t<li>'buildingqualitytypeid'</li>\n",
       "\t<li>'calculatedbathnbr'</li>\n",
       "\t<li>'decktypeid'</li>\n",
       "\t<li>'finishedfloor1squarefeet'</li>\n",
       "\t<li>'calculatedfinishedsquarefeet'</li>\n",
       "\t<li>'finishedsquarefeet12'</li>\n",
       "\t<li>'finishedsquarefeet15'</li>\n",
       "\t<li>'finishedsquarefeet50'</li>\n",
       "\t<li>'finishedsquarefeet6'</li>\n",
       "\t<li>'fireplacecnt'</li>\n",
       "\t<li>'fullbathcnt'</li>\n",
       "\t<li>'garagecarcnt'</li>\n",
       "\t<li>'garagetotalsqft'</li>\n",
       "\t<li>'hashottuborspa'</li>\n",
       "\t<li>'heatingorsystemtypeid'</li>\n",
       "\t<li>'lotsizesquarefeet'</li>\n",
       "\t<li>'poolcnt'</li>\n",
       "\t<li>'poolsizesum'</li>\n",
       "\t<li>'pooltypeid10'</li>\n",
       "\t<li>'pooltypeid2'</li>\n",
       "\t<li>'pooltypeid7'</li>\n",
       "\t<li>'propertylandusetypeid'</li>\n",
       "\t<li>'roomcnt'</li>\n",
       "\t<li>'threequarterbathnbr'</li>\n",
       "\t<li>'typeconstructiontypeid'</li>\n",
       "\t<li>'unitcnt'</li>\n",
       "\t<li>'yardbuildingsqft17'</li>\n",
       "\t<li>'yardbuildingsqft26'</li>\n",
       "\t<li>'yearbuilt'</li>\n",
       "\t<li>'numberofstories'</li>\n",
       "\t<li>'fireplaceflag'</li>\n",
       "\t<li>'logerror'</li>\n",
       "\t<li>'logerror_interval'</li>\n",
       "</ol>\n"
      ],
      "text/latex": [
       "\\begin{enumerate*}\n",
       "\\item 'airconditioningtypeid'\n",
       "\\item 'architecturalstyletypeid'\n",
       "\\item 'basementsqft'\n",
       "\\item 'bathroomcnt'\n",
       "\\item 'bedroomcnt'\n",
       "\\item 'buildingqualitytypeid'\n",
       "\\item 'calculatedbathnbr'\n",
       "\\item 'decktypeid'\n",
       "\\item 'finishedfloor1squarefeet'\n",
       "\\item 'calculatedfinishedsquarefeet'\n",
       "\\item 'finishedsquarefeet12'\n",
       "\\item 'finishedsquarefeet15'\n",
       "\\item 'finishedsquarefeet50'\n",
       "\\item 'finishedsquarefeet6'\n",
       "\\item 'fireplacecnt'\n",
       "\\item 'fullbathcnt'\n",
       "\\item 'garagecarcnt'\n",
       "\\item 'garagetotalsqft'\n",
       "\\item 'hashottuborspa'\n",
       "\\item 'heatingorsystemtypeid'\n",
       "\\item 'lotsizesquarefeet'\n",
       "\\item 'poolcnt'\n",
       "\\item 'poolsizesum'\n",
       "\\item 'pooltypeid10'\n",
       "\\item 'pooltypeid2'\n",
       "\\item 'pooltypeid7'\n",
       "\\item 'propertylandusetypeid'\n",
       "\\item 'roomcnt'\n",
       "\\item 'threequarterbathnbr'\n",
       "\\item 'typeconstructiontypeid'\n",
       "\\item 'unitcnt'\n",
       "\\item 'yardbuildingsqft17'\n",
       "\\item 'yardbuildingsqft26'\n",
       "\\item 'yearbuilt'\n",
       "\\item 'numberofstories'\n",
       "\\item 'fireplaceflag'\n",
       "\\item 'logerror'\n",
       "\\item 'logerror\\_interval'\n",
       "\\end{enumerate*}\n"
      ],
      "text/markdown": [
       "1. 'airconditioningtypeid'\n",
       "2. 'architecturalstyletypeid'\n",
       "3. 'basementsqft'\n",
       "4. 'bathroomcnt'\n",
       "5. 'bedroomcnt'\n",
       "6. 'buildingqualitytypeid'\n",
       "7. 'calculatedbathnbr'\n",
       "8. 'decktypeid'\n",
       "9. 'finishedfloor1squarefeet'\n",
       "10. 'calculatedfinishedsquarefeet'\n",
       "11. 'finishedsquarefeet12'\n",
       "12. 'finishedsquarefeet15'\n",
       "13. 'finishedsquarefeet50'\n",
       "14. 'finishedsquarefeet6'\n",
       "15. 'fireplacecnt'\n",
       "16. 'fullbathcnt'\n",
       "17. 'garagecarcnt'\n",
       "18. 'garagetotalsqft'\n",
       "19. 'hashottuborspa'\n",
       "20. 'heatingorsystemtypeid'\n",
       "21. 'lotsizesquarefeet'\n",
       "22. 'poolcnt'\n",
       "23. 'poolsizesum'\n",
       "24. 'pooltypeid10'\n",
       "25. 'pooltypeid2'\n",
       "26. 'pooltypeid7'\n",
       "27. 'propertylandusetypeid'\n",
       "28. 'roomcnt'\n",
       "29. 'threequarterbathnbr'\n",
       "30. 'typeconstructiontypeid'\n",
       "31. 'unitcnt'\n",
       "32. 'yardbuildingsqft17'\n",
       "33. 'yardbuildingsqft26'\n",
       "34. 'yearbuilt'\n",
       "35. 'numberofstories'\n",
       "36. 'fireplaceflag'\n",
       "37. 'logerror'\n",
       "38. 'logerror_interval'\n",
       "\n",
       "\n"
      ],
      "text/plain": [
       " [1] \"airconditioningtypeid\"        \"architecturalstyletypeid\"    \n",
       " [3] \"basementsqft\"                 \"bathroomcnt\"                 \n",
       " [5] \"bedroomcnt\"                   \"buildingqualitytypeid\"       \n",
       " [7] \"calculatedbathnbr\"            \"decktypeid\"                  \n",
       " [9] \"finishedfloor1squarefeet\"     \"calculatedfinishedsquarefeet\"\n",
       "[11] \"finishedsquarefeet12\"         \"finishedsquarefeet15\"        \n",
       "[13] \"finishedsquarefeet50\"         \"finishedsquarefeet6\"         \n",
       "[15] \"fireplacecnt\"                 \"fullbathcnt\"                 \n",
       "[17] \"garagecarcnt\"                 \"garagetotalsqft\"             \n",
       "[19] \"hashottuborspa\"               \"heatingorsystemtypeid\"       \n",
       "[21] \"lotsizesquarefeet\"            \"poolcnt\"                     \n",
       "[23] \"poolsizesum\"                  \"pooltypeid10\"                \n",
       "[25] \"pooltypeid2\"                  \"pooltypeid7\"                 \n",
       "[27] \"propertylandusetypeid\"        \"roomcnt\"                     \n",
       "[29] \"threequarterbathnbr\"          \"typeconstructiontypeid\"      \n",
       "[31] \"unitcnt\"                      \"yardbuildingsqft17\"          \n",
       "[33] \"yardbuildingsqft26\"           \"yearbuilt\"                   \n",
       "[35] \"numberofstories\"              \"fireplaceflag\"               \n",
       "[37] \"logerror\"                     \"logerror_interval\"           "
      ]
     },
     "metadata": {},
     "output_type": "display_data"
    }
   ],
   "source": [
    "names(df_data)"
   ]
  },
  {
   "cell_type": "code",
   "execution_count": 298,
   "metadata": {},
   "outputs": [],
   "source": [
    "df_data$abs_logerror = abs(df_data$logerror)"
   ]
  },
  {
   "cell_type": "code",
   "execution_count": 299,
   "metadata": {},
   "outputs": [
    {
     "data": {
      "text/html": [
       "<ol class=list-inline>\n",
       "\t<li>76092</li>\n",
       "\t<li>39</li>\n",
       "</ol>\n"
      ],
      "text/latex": [
       "\\begin{enumerate*}\n",
       "\\item 76092\n",
       "\\item 39\n",
       "\\end{enumerate*}\n"
      ],
      "text/markdown": [
       "1. 76092\n",
       "2. 39\n",
       "\n",
       "\n"
      ],
      "text/plain": [
       "[1] 76092    39"
      ]
     },
     "metadata": {},
     "output_type": "display_data"
    }
   ],
   "source": [
    "dim(df_data)"
   ]
  },
  {
   "cell_type": "code",
   "execution_count": 300,
   "metadata": {},
   "outputs": [],
   "source": [
    "smp_size <- floor(0.7 * nrow(df_data))\n",
    "set.seed(123)\n",
    "train_ind <- sample(nrow(df_data), size = smp_size)\n",
    "train <- df_data[train_ind, ]\n",
    "test <- df_data[-train_ind, ]\n",
    "rownames(train) <- seq(length=nrow(train))\n",
    "rownames(test) <- seq(length=nrow(test))"
   ]
  },
  {
   "cell_type": "code",
   "execution_count": 301,
   "metadata": {},
   "outputs": [
    {
     "data": {
      "text/html": [
       "<ol class=list-inline>\n",
       "\t<li>53264</li>\n",
       "\t<li>39</li>\n",
       "</ol>\n"
      ],
      "text/latex": [
       "\\begin{enumerate*}\n",
       "\\item 53264\n",
       "\\item 39\n",
       "\\end{enumerate*}\n"
      ],
      "text/markdown": [
       "1. 53264\n",
       "2. 39\n",
       "\n",
       "\n"
      ],
      "text/plain": [
       "[1] 53264    39"
      ]
     },
     "metadata": {},
     "output_type": "display_data"
    }
   ],
   "source": [
    "dim(train)"
   ]
  },
  {
   "cell_type": "code",
   "execution_count": 302,
   "metadata": {},
   "outputs": [
    {
     "data": {
      "text/html": [
       "<ol class=list-inline>\n",
       "\t<li>22828</li>\n",
       "\t<li>39</li>\n",
       "</ol>\n"
      ],
      "text/latex": [
       "\\begin{enumerate*}\n",
       "\\item 22828\n",
       "\\item 39\n",
       "\\end{enumerate*}\n"
      ],
      "text/markdown": [
       "1. 22828\n",
       "2. 39\n",
       "\n",
       "\n"
      ],
      "text/plain": [
       "[1] 22828    39"
      ]
     },
     "metadata": {},
     "output_type": "display_data"
    }
   ],
   "source": [
    "dim(test)"
   ]
  },
  {
   "cell_type": "markdown",
   "metadata": {},
   "source": [
    "## Regression Approaches on absolute logerror to find significant features that influence prediction accuracy"
   ]
  },
  {
   "cell_type": "code",
   "execution_count": 9,
   "metadata": {},
   "outputs": [],
   "source": [
    "#fit a linear model using all features\n",
    "rawlms = lm(abs_logerror~.-logerror-logerror_interval, data = train)"
   ]
  },
  {
   "cell_type": "code",
   "execution_count": 10,
   "metadata": {},
   "outputs": [
    {
     "data": {
      "text/plain": [
       "\n",
       "Call:\n",
       "lm(formula = abs_logerror ~ . - logerror - logerror_interval, \n",
       "    data = train)\n",
       "\n",
       "Residuals:\n",
       "    Min      1Q  Median      3Q     Max \n",
       "-0.4160 -0.0520 -0.0328 -0.0001  4.3745 \n",
       "\n",
       "Coefficients: (3 not defined because of singularities)\n",
       "                               Estimate Std. Error t value Pr(>|t|)    \n",
       "(Intercept)                   5.661e-01  9.296e-02   6.090 1.13e-09 ***\n",
       "airconditioningtypeid        -1.975e-03  3.820e-04  -5.170 2.35e-07 ***\n",
       "architecturalstyletypeid     -9.982e-04  3.434e-03  -0.291 0.771329    \n",
       "basementsqft                  6.389e-05  2.912e-05   2.194 0.028246 *  \n",
       "bathroomcnt                  -6.260e-03  2.244e-02  -0.279 0.780280    \n",
       "bedroomcnt                   -7.134e-03  9.436e-04  -7.561 4.07e-14 ***\n",
       "buildingqualitytypeid        -3.222e-03  5.136e-04  -6.274 3.55e-10 ***\n",
       "calculatedbathnbr            -1.432e-02  2.301e-02  -0.622 0.533802    \n",
       "decktypeid                    4.712e-05  1.197e-04   0.394 0.693887    \n",
       "finishedfloor1squarefeet     -8.526e-06  1.166e-05  -0.731 0.464693    \n",
       "calculatedfinishedsquarefeet  3.591e-05  7.418e-06   4.840 1.30e-06 ***\n",
       "finishedsquarefeet12         -1.170e-05  7.456e-06  -1.570 0.116525    \n",
       "finishedsquarefeet15         -1.648e-05  7.673e-06  -2.148 0.031751 *  \n",
       "finishedsquarefeet50          5.826e-06  1.131e-05   0.515 0.606461    \n",
       "finishedsquarefeet6                  NA         NA      NA       NA    \n",
       "fireplacecnt                 -7.173e-03  2.434e-03  -2.947 0.003213 ** \n",
       "fullbathcnt                   1.212e-02  4.955e-03   2.446 0.014463 *  \n",
       "garagecarcnt                 -2.429e-03  2.244e-03  -1.082 0.279071    \n",
       "garagetotalsqft              -8.510e-06  7.046e-06  -1.208 0.227146    \n",
       "hashottuborspa               -1.693e-01  3.779e-02  -4.479 7.51e-06 ***\n",
       "heatingorsystemtypeid         7.289e-04  2.201e-04   3.312 0.000927 ***\n",
       "lotsizesquarefeet             2.090e-08  5.882e-09   3.553 0.000381 ***\n",
       "poolcnt                       1.685e-01  3.730e-02   4.517 6.30e-06 ***\n",
       "poolsizesum                  -4.221e-05  1.366e-05  -3.089 0.002009 ** \n",
       "pooltypeid10                  1.768e-01  3.867e-02   4.574 4.81e-06 ***\n",
       "pooltypeid2                          NA         NA      NA       NA    \n",
       "pooltypeid7                  -1.707e-01  3.732e-02  -4.574 4.79e-06 ***\n",
       "propertylandusetypeid        -1.369e-03  3.521e-04  -3.890 0.000100 ***\n",
       "roomcnt                       2.819e-03  7.244e-04   3.891 9.98e-05 ***\n",
       "threequarterbathnbr                  NA         NA      NA       NA    \n",
       "typeconstructiontypeid       -2.180e-03  4.581e-03  -0.476 0.634128    \n",
       "unitcnt                       2.197e-02  4.286e-03   5.126 2.97e-07 ***\n",
       "yardbuildingsqft17           -7.115e-06  1.219e-05  -0.584 0.559547    \n",
       "yardbuildingsqft26           -1.449e-05  7.514e-05  -0.193 0.847134    \n",
       "yearbuilt                    -7.154e-05  6.654e-06 -10.751  < 2e-16 ***\n",
       "numberofstories              -3.101e-03  2.603e-03  -1.191 0.233607    \n",
       "fireplaceflag                 7.980e-03  1.766e-02   0.452 0.651351    \n",
       "---\n",
       "Signif. codes:  0 '***' 0.001 '**' 0.01 '*' 0.05 '.' 0.1 ' ' 1\n",
       "\n",
       "Residual standard error: 0.1537 on 53230 degrees of freedom\n",
       "Multiple R-squared:  0.01712,\tAdjusted R-squared:  0.01651 \n",
       "F-statistic:  28.1 on 33 and 53230 DF,  p-value: < 2.2e-16\n"
      ]
     },
     "metadata": {},
     "output_type": "display_data"
    }
   ],
   "source": [
    "summary(rawlms)"
   ]
  },
  {
   "cell_type": "code",
   "execution_count": 407,
   "metadata": {},
   "outputs": [
    {
     "data": {
      "text/html": [
       "0.0242081038796396"
      ],
      "text/latex": [
       "0.0242081038796396"
      ],
      "text/markdown": [
       "0.0242081038796396"
      ],
      "text/plain": [
       "[1] 0.0242081"
      ]
     },
     "metadata": {},
     "output_type": "display_data"
    }
   ],
   "source": [
    "praw = predict(rawlms, data = test)\n",
    "mseraw = mean((praw[1]-test[,39])^2)\n",
    "mseraw"
   ]
  },
  {
   "cell_type": "code",
   "execution_count": 122,
   "metadata": {},
   "outputs": [],
   "source": [
    "#lasso and ridge regression using all features\n",
    "library(glmnet)\n",
    "library(methods)\n",
    "grid = 10^seq(1,-3,length = 100)\n",
    "x = data.matrix(train)\n",
    "testm = data.matrix(test)"
   ]
  },
  {
   "cell_type": "code",
   "execution_count": 123,
   "metadata": {},
   "outputs": [],
   "source": [
    "cvridge = cv.glmnet(x[,1:36],x[,39],alpha = 0, nfolds = 5)#alpha = 0 for ridge, use 5-fold cv\n",
    "cvridge"
   ]
  },
  {
   "cell_type": "code",
   "execution_count": 186,
   "metadata": {},
   "outputs": [
    {
     "data": {
      "text/html": [
       "0.0236886171322725"
      ],
      "text/latex": [
       "0.0236886171322725"
      ],
      "text/markdown": [
       "0.0236886171322725"
      ],
      "text/plain": [
       "[1] 0.02368862"
      ]
     },
     "metadata": {},
     "output_type": "display_data"
    }
   ],
   "source": [
    "p=predict(cvridge, testm[,1:36], s=\"lambda.min\")\n",
    "\n",
    "mseridge=mean((p-test[,39])^2)\n",
    "mseridge"
   ]
  },
  {
   "cell_type": "code",
   "execution_count": 127,
   "metadata": {},
   "outputs": [
    {
     "data": {
      "text/plain": [
       "$lambda\n",
       " [1] 1.063082e-02 9.686408e-03 8.825895e-03 8.041826e-03 7.327413e-03\n",
       " [6] 6.676466e-03 6.083347e-03 5.542919e-03 5.050501e-03 4.601829e-03\n",
       "[11] 4.193015e-03 3.820519e-03 3.481115e-03 3.171862e-03 2.890083e-03\n",
       "[16] 2.633336e-03 2.399397e-03 2.186241e-03 1.992022e-03 1.815056e-03\n",
       "[21] 1.653811e-03 1.506891e-03 1.373023e-03 1.251048e-03 1.139908e-03\n",
       "[26] 1.038642e-03 9.463717e-04 8.622987e-04 7.856944e-04 7.158955e-04\n",
       "[31] 6.522973e-04 5.943490e-04 5.415487e-04 4.934390e-04 4.496032e-04\n",
       "[36] 4.096617e-04 3.732685e-04 3.401084e-04 3.098941e-04 2.823639e-04\n",
       "[41] 2.572795e-04 2.344235e-04 2.135980e-04 1.946225e-04 1.773328e-04\n",
       "[46] 1.615790e-04 1.472248e-04 1.341457e-04 1.222286e-04 1.113702e-04\n",
       "[51] 1.014763e-04 9.246146e-05 8.424744e-05 7.676313e-05 6.994370e-05\n",
       "[56] 6.373010e-05 5.806849e-05 5.290985e-05 4.820948e-05 4.392669e-05\n",
       "[61] 4.002436e-05 3.646871e-05 3.322893e-05 3.027696e-05 2.758724e-05\n",
       "[66] 2.513646e-05 2.290341e-05 2.086873e-05 1.901481e-05 1.732559e-05\n",
       "[71] 1.578643e-05 1.438401e-05 1.310617e-05 1.194186e-05 1.088098e-05\n",
       "[76] 9.914339e-06 9.033577e-06 8.231059e-06 7.499834e-06 6.833570e-06\n",
       "[81] 6.226494e-06 5.673350e-06 5.169345e-06 4.710114e-06 4.291681e-06\n",
       "[86] 3.910420e-06 3.563029e-06 3.246499e-06 2.958089e-06 2.695301e-06\n",
       "[91] 2.455858e-06 2.237686e-06\n",
       "\n",
       "$cvm\n",
       " [1] 0.02402149 0.02400482 0.02398580 0.02396714 0.02394840 0.02393019\n",
       " [7] 0.02391270 0.02389747 0.02388258 0.02386735 0.02385274 0.02383962\n",
       "[13] 0.02382844 0.02381851 0.02380689 0.02379198 0.02377486 0.02375893\n",
       "[19] 0.02374552 0.02373443 0.02372517 0.02371751 0.02371118 0.02370580\n",
       "[25] 0.02370056 0.02369583 0.02369115 0.02368639 0.02368248 0.02367900\n",
       "[31] 0.02367556 0.02367229 0.02366963 0.02366740 0.02366557 0.02366406\n",
       "[37] 0.02366280 0.02366179 0.02366096 0.02366029 0.02365970 0.02365920\n",
       "[43] 0.02365881 0.02365862 0.02365854 0.02365850 0.02365846 0.02365843\n",
       "[49] 0.02365844 0.02365845 0.02365849 0.02365851 0.02365852 0.02365856\n",
       "[55] 0.02365858 0.02365865 0.02365870 0.02365891 0.02365942 0.02365998\n",
       "[61] 0.02366049 0.02366101 0.02366153 0.02366203 0.02366252 0.02366300\n",
       "[67] 0.02366346 0.02366391 0.02366433 0.02366472 0.02366509 0.02366544\n",
       "[73] 0.02366575 0.02366605 0.02366633 0.02366658 0.02366682 0.02366704\n",
       "[79] 0.02366724 0.02366744 0.02366762 0.02366779 0.02366795 0.02366810\n",
       "[85] 0.02366823 0.02366836 0.02366849 0.02366860 0.02366869 0.02366878\n",
       "[91] 0.02366886 0.02366895\n",
       "\n",
       "$cvsd\n",
       " [1] 0.0005046637 0.0005047718 0.0005044915 0.0005052939 0.0005056488\n",
       " [6] 0.0005061956 0.0005069550 0.0005074538 0.0005070124 0.0005069872\n",
       "[11] 0.0005066277 0.0005059068 0.0005054833 0.0005051060 0.0005048000\n",
       "[16] 0.0005048372 0.0005038890 0.0005041289 0.0005045392 0.0005048398\n",
       "[21] 0.0005050974 0.0005053059 0.0005054838 0.0005056911 0.0005060246\n",
       "[26] 0.0005062286 0.0005062249 0.0005058780 0.0005056431 0.0005054014\n",
       "[31] 0.0005050544 0.0005045952 0.0005042506 0.0005039142 0.0005035952\n",
       "[36] 0.0005032980 0.0005030260 0.0005028212 0.0005026380 0.0005024659\n",
       "[41] 0.0005023087 0.0005021508 0.0005020107 0.0005019148 0.0005018539\n",
       "[46] 0.0005017403 0.0005016472 0.0005015640 0.0005015195 0.0005014350\n",
       "[51] 0.0005013651 0.0005013149 0.0005012392 0.0005011553 0.0005011137\n",
       "[56] 0.0005010227 0.0005009462 0.0005008343 0.0005005659 0.0005004755\n",
       "[61] 0.0005003646 0.0005002433 0.0005001174 0.0004999873 0.0004998611\n",
       "[66] 0.0004997369 0.0004996189 0.0004995073 0.0004993987 0.0004992948\n",
       "[71] 0.0004992008 0.0004991156 0.0004990285 0.0004989532 0.0004988849\n",
       "[76] 0.0004988239 0.0004987615 0.0004987040 0.0004986524 0.0004986064\n",
       "[81] 0.0004985621 0.0004985239 0.0004984919 0.0004984601 0.0004984336\n",
       "[86] 0.0004984075 0.0004983818 0.0004983610 0.0004983408 0.0004983259\n",
       "[91] 0.0004983051 0.0004982886\n",
       "\n",
       "$cvup\n",
       " [1] 0.02452616 0.02450959 0.02449029 0.02447243 0.02445405 0.02443639\n",
       " [7] 0.02441966 0.02440493 0.02438959 0.02437434 0.02435937 0.02434552\n",
       "[13] 0.02433392 0.02432361 0.02431169 0.02429682 0.02427875 0.02426306\n",
       "[19] 0.02425006 0.02423927 0.02423027 0.02422281 0.02421666 0.02421149\n",
       "[25] 0.02420658 0.02420205 0.02419737 0.02419227 0.02418813 0.02418441\n",
       "[31] 0.02418062 0.02417688 0.02417388 0.02417131 0.02416916 0.02416736\n",
       "[37] 0.02416583 0.02416461 0.02416360 0.02416275 0.02416201 0.02416135\n",
       "[43] 0.02416082 0.02416054 0.02416040 0.02416024 0.02416011 0.02415999\n",
       "[49] 0.02415996 0.02415988 0.02415985 0.02415983 0.02415976 0.02415972\n",
       "[55] 0.02415970 0.02415967 0.02415964 0.02415974 0.02415998 0.02416046\n",
       "[61] 0.02416085 0.02416125 0.02416164 0.02416201 0.02416238 0.02416274\n",
       "[67] 0.02416308 0.02416341 0.02416373 0.02416402 0.02416429 0.02416455\n",
       "[73] 0.02416478 0.02416500 0.02416521 0.02416540 0.02416558 0.02416574\n",
       "[79] 0.02416590 0.02416605 0.02416618 0.02416632 0.02416644 0.02416656\n",
       "[85] 0.02416666 0.02416677 0.02416687 0.02416696 0.02416703 0.02416710\n",
       "[91] 0.02416717 0.02416723\n",
       "\n",
       "$cvlo\n",
       " [1] 0.02351683 0.02350004 0.02348131 0.02346184 0.02344275 0.02342400\n",
       " [7] 0.02340575 0.02339002 0.02337557 0.02336037 0.02334612 0.02333371\n",
       "[13] 0.02332295 0.02331340 0.02330209 0.02328714 0.02327097 0.02325480\n",
       "[19] 0.02324098 0.02322959 0.02322007 0.02321220 0.02320570 0.02320011\n",
       "[25] 0.02319453 0.02318960 0.02318492 0.02318051 0.02317684 0.02317360\n",
       "[31] 0.02317051 0.02316769 0.02316538 0.02316348 0.02316197 0.02316076\n",
       "[37] 0.02315978 0.02315897 0.02315833 0.02315782 0.02315739 0.02315705\n",
       "[43] 0.02315680 0.02315671 0.02315669 0.02315676 0.02315681 0.02315686\n",
       "[49] 0.02315692 0.02315701 0.02315712 0.02315720 0.02315729 0.02315741\n",
       "[55] 0.02315747 0.02315763 0.02315775 0.02315807 0.02315885 0.02315950\n",
       "[61] 0.02316013 0.02316076 0.02316141 0.02316204 0.02316266 0.02316326\n",
       "[67] 0.02316384 0.02316440 0.02316493 0.02316543 0.02316589 0.02316632\n",
       "[73] 0.02316673 0.02316709 0.02316744 0.02316775 0.02316806 0.02316833\n",
       "[79] 0.02316859 0.02316883 0.02316906 0.02316927 0.02316946 0.02316964\n",
       "[85] 0.02316980 0.02316995 0.02317011 0.02317024 0.02317035 0.02317045\n",
       "[91] 0.02317056 0.02317066\n",
       "\n",
       "$nzero\n",
       " s0  s1  s2  s3  s4  s5  s6  s7  s8  s9 s10 s11 s12 s13 s14 s15 s16 s17 s18 s19 \n",
       "  0   1   2   2   2   3   3   3   3   4   5   5   6   7   8  10  12  12  14  14 \n",
       "s20 s21 s22 s23 s24 s25 s26 s27 s28 s29 s30 s31 s32 s33 s34 s35 s36 s37 s38 s39 \n",
       " 14  14  14  15  15  16  16  17  19  20  22  23  24  24  24  25  25  25  26  26 \n",
       "s40 s41 s42 s43 s44 s45 s46 s47 s48 s49 s50 s51 s52 s53 s54 s55 s56 s57 s58 s59 \n",
       " 26  26  26  26  26  27  28  28  30  30  31  32  32  32  32  32  32  33  33  33 \n",
       "s60 s61 s62 s63 s64 s65 s66 s67 s68 s69 s70 s71 s72 s73 s74 s75 s76 s77 s78 s79 \n",
       " 33  33  33  32  32  32  33  33  34  34  34  34  34  34  34  34  34  35  35  35 \n",
       "s80 s81 s82 s83 s84 s85 s86 s87 s88 s89 s90 s91 \n",
       " 35  35  35  35  35  35  35  35  35  35  35  35 \n",
       "\n",
       "$name\n",
       "                 mse \n",
       "\"Mean-Squared Error\" \n",
       "\n",
       "$glmnet.fit\n",
       "\n",
       "Call:  glmnet(x = x[, 1:36], y = x[, 39], alpha = 1) \n",
       "\n",
       "       Df      %Dev    Lambda\n",
       "  [1,]  0 0.0000000 1.063e-02\n",
       "  [2,]  1 0.0007987 9.686e-03\n",
       "  [3,]  2 0.0015690 8.826e-03\n",
       "  [4,]  2 0.0025610 8.042e-03\n",
       "  [5,]  2 0.0033850 7.327e-03\n",
       "  [6,]  3 0.0040730 6.676e-03\n",
       "  [7,]  3 0.0049300 6.083e-03\n",
       "  [8,]  3 0.0056410 5.543e-03\n",
       "  [9,]  3 0.0062310 5.051e-03\n",
       " [10,]  4 0.0068680 4.602e-03\n",
       " [11,]  5 0.0075220 4.193e-03\n",
       " [12,]  5 0.0080740 3.821e-03\n",
       " [13,]  6 0.0085630 3.481e-03\n",
       " [14,]  7 0.0090430 3.172e-03\n",
       " [15,]  8 0.0095420 2.890e-03\n",
       " [16,] 10 0.0102500 2.633e-03\n",
       " [17,] 12 0.0110200 2.399e-03\n",
       " [18,] 12 0.0117200 2.186e-03\n",
       " [19,] 14 0.0123100 1.992e-03\n",
       " [20,] 14 0.0128400 1.815e-03\n",
       " [21,] 14 0.0132800 1.654e-03\n",
       " [22,] 14 0.0136400 1.507e-03\n",
       " [23,] 14 0.0139400 1.373e-03\n",
       " [24,] 15 0.0141900 1.251e-03\n",
       " [25,] 15 0.0144100 1.140e-03\n",
       " [26,] 16 0.0146900 1.039e-03\n",
       " [27,] 16 0.0149400 9.464e-04\n",
       " [28,] 17 0.0151400 8.623e-04\n",
       " [29,] 19 0.0153300 7.857e-04\n",
       " [30,] 20 0.0154900 7.159e-04\n",
       " [31,] 22 0.0156900 6.523e-04\n",
       " [32,] 23 0.0158500 5.943e-04\n",
       " [33,] 24 0.0159800 5.415e-04\n",
       " [34,] 24 0.0160900 4.934e-04\n",
       " [35,] 24 0.0161900 4.496e-04\n",
       " [36,] 25 0.0162700 4.097e-04\n",
       " [37,] 25 0.0163300 3.733e-04\n",
       " [38,] 25 0.0163900 3.401e-04\n",
       " [39,] 26 0.0164400 3.099e-04\n",
       " [40,] 26 0.0164800 2.824e-04\n",
       " [41,] 26 0.0165200 2.573e-04\n",
       " [42,] 26 0.0165500 2.344e-04\n",
       " [43,] 26 0.0165700 2.136e-04\n",
       " [44,] 26 0.0166000 1.946e-04\n",
       " [45,] 26 0.0166100 1.773e-04\n",
       " [46,] 27 0.0166300 1.616e-04\n",
       " [47,] 28 0.0166400 1.472e-04\n",
       " [48,] 28 0.0166500 1.341e-04\n",
       " [49,] 30 0.0166600 1.222e-04\n",
       " [50,] 30 0.0166800 1.114e-04\n",
       " [51,] 31 0.0166900 1.015e-04\n",
       " [52,] 32 0.0166900 9.246e-05\n",
       " [53,] 32 0.0167000 8.425e-05\n",
       " [54,] 32 0.0167100 7.676e-05\n",
       " [55,] 32 0.0167100 6.994e-05\n",
       " [56,] 32 0.0167200 6.373e-05\n",
       " [57,] 32 0.0167200 5.807e-05\n",
       " [58,] 33 0.0167200 5.291e-05\n",
       " [59,] 33 0.0167200 4.821e-05\n",
       " [60,] 33 0.0167300 4.393e-05\n",
       " [61,] 33 0.0167300 4.002e-05\n",
       " [62,] 33 0.0167300 3.647e-05\n",
       " [63,] 33 0.0167700 3.323e-05\n",
       " [64,] 32 0.0168100 3.028e-05\n",
       " [65,] 32 0.0168400 2.759e-05\n",
       " [66,] 32 0.0168700 2.514e-05\n",
       " [67,] 33 0.0168900 2.290e-05\n",
       " [68,] 33 0.0169100 2.087e-05\n",
       " [69,] 34 0.0169300 1.901e-05\n",
       " [70,] 34 0.0169500 1.733e-05\n",
       " [71,] 34 0.0169600 1.579e-05\n",
       " [72,] 34 0.0169700 1.438e-05\n",
       " [73,] 34 0.0169800 1.311e-05\n",
       " [74,] 34 0.0169900 1.194e-05\n",
       " [75,] 34 0.0170000 1.088e-05\n",
       " [76,] 34 0.0170100 9.914e-06\n",
       " [77,] 34 0.0170100 9.034e-06\n",
       " [78,] 35 0.0170200 8.231e-06\n",
       " [79,] 35 0.0170200 7.500e-06\n",
       " [80,] 35 0.0170300 6.834e-06\n",
       " [81,] 35 0.0170300 6.226e-06\n",
       " [82,] 35 0.0170400 5.673e-06\n",
       " [83,] 35 0.0170400 5.169e-06\n",
       " [84,] 35 0.0170400 4.710e-06\n",
       " [85,] 35 0.0170500 4.292e-06\n",
       " [86,] 35 0.0170500 3.910e-06\n",
       " [87,] 35 0.0170500 3.563e-06\n",
       " [88,] 35 0.0170500 3.246e-06\n",
       " [89,] 35 0.0170500 2.958e-06\n",
       " [90,] 35 0.0170600 2.695e-06\n",
       " [91,] 35 0.0170600 2.456e-06\n",
       " [92,] 35 0.0170600 2.238e-06\n",
       " [93,] 36 0.0170600 2.039e-06\n",
       " [94,] 36 0.0170600 1.858e-06\n",
       " [95,] 36 0.0170600 1.693e-06\n",
       " [96,] 36 0.0170600 1.542e-06\n",
       " [97,] 36 0.0170600 1.405e-06\n",
       " [98,] 36 0.0170600 1.280e-06\n",
       " [99,] 36 0.0170600 1.167e-06\n",
       "[100,] 36 0.0170600 1.063e-06\n",
       "\n",
       "$lambda.min\n",
       "[1] 0.0001341457\n",
       "\n",
       "$lambda.1se\n",
       "[1] 0.01063082\n",
       "\n",
       "attr(,\"class\")\n",
       "[1] \"cv.glmnet\""
      ]
     },
     "metadata": {},
     "output_type": "display_data"
    }
   ],
   "source": [
    "cvlasso = cv.glmnet(x[,1:36],x[,39],alpha = 1, nfolds = 5)#alpha = 1 for lasso, use 5-fold cv\n",
    "cvlasso"
   ]
  },
  {
   "cell_type": "code",
   "execution_count": 187,
   "metadata": {},
   "outputs": [
    {
     "data": {
      "text/html": [
       "0.0236916320856677"
      ],
      "text/latex": [
       "0.0236916320856677"
      ],
      "text/markdown": [
       "0.0236916320856677"
      ],
      "text/plain": [
       "[1] 0.02369163"
      ]
     },
     "metadata": {},
     "output_type": "display_data"
    }
   ],
   "source": [
    "p=predict(cvlasso, testm[,1:36], s=\"lambda.min\")\n",
    "\n",
    "mselasso=mean((p-test[,39])^2)\n",
    "mselasso"
   ]
  },
  {
   "cell_type": "code",
   "execution_count": 130,
   "metadata": {},
   "outputs": [
    {
     "name": "stderr",
     "output_type": "stream",
     "text": [
      "\n",
      "Attaching package: 'pls'\n",
      "\n",
      "The following object is masked from 'package:stats':\n",
      "\n",
      "    loadings\n",
      "\n"
     ]
    }
   ],
   "source": [
    "#pcr regression\n",
    "library(pls)"
   ]
  },
  {
   "cell_type": "code",
   "execution_count": 132,
   "metadata": {},
   "outputs": [],
   "source": [
    "pcr.fit = pcr(abs_logerror~.-logerror-logerror_interval,data = train, validation = \"CV\")"
   ]
  },
  {
   "cell_type": "code",
   "execution_count": 133,
   "metadata": {},
   "outputs": [
    {
     "name": "stdout",
     "output_type": "stream",
     "text": [
      "Data: \tX dimension: 53264 36 \n",
      "\tY dimension: 53264 1\n",
      "Fit method: svdpc\n",
      "Number of components considered: 36\n",
      "\n",
      "VALIDATION: RMSEP\n",
      "Cross-validated using 10 random segments.\n",
      "       (Intercept)  1 comps  2 comps  3 comps  4 comps  5 comps  6 comps\n",
      "CV           0.155    0.155   0.1549   0.1549   0.1547   0.1547   0.1546\n",
      "adjCV        0.155    0.155   0.1549   0.1549   0.1547   0.1547   0.1546\n",
      "       7 comps  8 comps  9 comps  10 comps  11 comps  12 comps  13 comps\n",
      "CV      0.1544   0.1544   0.1544    0.1544    0.1544    0.1544    0.1544\n",
      "adjCV   0.1544   0.1544   0.1544    0.1544    0.1544    0.1544    0.1544\n",
      "       14 comps  15 comps  16 comps  17 comps  18 comps  19 comps  20 comps\n",
      "CV       0.1542    0.1542    0.1541    0.1541    0.1541    0.1539    0.1539\n",
      "adjCV    0.1542    0.1542    0.1541    0.1541    0.1541    0.1539    0.1539\n",
      "       21 comps  22 comps  23 comps  24 comps  25 comps  26 comps  27 comps\n",
      "CV       0.1539    0.1539    0.1538    0.1538    0.1538    0.1538    0.1538\n",
      "adjCV    0.1539    0.1539    0.1538    0.1538    0.1538    0.1538    0.1538\n",
      "       28 comps  29 comps  30 comps  31 comps  32 comps  33 comps  34 comps\n",
      "CV       0.1538    0.1538    0.1538    0.1538    0.1538    0.1539    0.1539\n",
      "adjCV    0.1538    0.1538    0.1538    0.1538    0.1538    0.1539    0.1539\n",
      "       35 comps  36 comps\n",
      "CV       0.1539    0.1539\n",
      "adjCV    0.1539    0.1539\n",
      "\n",
      "TRAINING: % variance explained\n",
      "                1 comps   2 comps   3 comps   4 comps   5 comps   6 comps\n",
      "X             99.983012   99.9958   99.9984   99.9995   99.9998   99.9999\n",
      "abs_logerror   0.003294    0.1334    0.1772    0.4129    0.4319    0.5085\n",
      "               7 comps   8 comps  9 comps  10 comps  11 comps  12 comps\n",
      "X              99.9999  100.0000  100.000  100.0000  100.0000  100.0000\n",
      "abs_logerror    0.8724    0.8797    0.894    0.8949    0.9012    0.9013\n",
      "              13 comps  14 comps  15 comps  16 comps  17 comps  18 comps\n",
      "X             100.0000   100.000   100.000   100.000   100.000    100.00\n",
      "abs_logerror    0.9013     1.095     1.111     1.258     1.289      1.29\n",
      "              19 comps  20 comps  21 comps  22 comps  23 comps  24 comps\n",
      "X              100.000   100.000   100.000   100.000   100.000   100.000\n",
      "abs_logerror     1.518     1.544     1.551     1.554     1.621     1.624\n",
      "              25 comps  26 comps  27 comps  28 comps  29 comps  30 comps\n",
      "X              100.000   100.000    100.00   100.000   100.000   100.000\n",
      "abs_logerror     1.629     1.629      1.63     1.673     1.673     1.673\n",
      "              31 comps  32 comps  33 comps  34 comps  35 comps  36 comps\n",
      "X              100.000   100.000   100.000   100.000   100.000   100.000\n",
      "abs_logerror     1.674     1.674     1.712     1.713     1.713     1.714\n"
     ]
    }
   ],
   "source": [
    "summary(pcr.fit)"
   ]
  },
  {
   "cell_type": "code",
   "execution_count": 303,
   "metadata": {},
   "outputs": [
    {
     "data": {
      "text/html": [
       "0.0236893094309873"
      ],
      "text/latex": [
       "0.0236893094309873"
      ],
      "text/markdown": [
       "0.0236893094309873"
      ],
      "text/plain": [
       "[1] 0.02368931"
      ]
     },
     "metadata": {},
     "output_type": "display_data"
    }
   ],
   "source": [
    "#we using 31 components in pcr because it is the best result\n",
    "pcr.pred = predict(pcr.fit, test, ncomp = 31)\n",
    "msepcr=mean((pcr.pred-test[,39])^2)\n",
    "msepcr"
   ]
  },
  {
   "cell_type": "code",
   "execution_count": 139,
   "metadata": {},
   "outputs": [],
   "source": [
    "#however, we need to neglect pcr since we are dealing with a pratical problem, \"blackbox\" is not good "
   ]
  },
  {
   "cell_type": "code",
   "execution_count": 164,
   "metadata": {},
   "outputs": [
    {
     "data": {
      "text/plain": [
       "gbm(formula = abs_logerror ~ ., distribution = \"gaussian\", data = newtrain, \n",
       "    n.trees = 500, interaction.depth = 5, shrinkage = 0.01, cv.folds = 5)\n",
       "A gradient boosted model with gaussian loss function.\n",
       "500 iterations were performed.\n",
       "The best cross-validation iteration was 490.\n",
       "There were 36 predictors of which 30 had non-zero influence."
      ]
     },
     "metadata": {},
     "output_type": "display_data"
    }
   ],
   "source": [
    "#then we started with boosted regression method\n",
    "#first try is gbm\n",
    "#use cv to find the bess result of cross-validation iteration\n",
    "#try different shinkage(learning rate)\n",
    "#choose the one with least MSE into final training and get its predicting result\n",
    "\n",
    "library(gbm)\n",
    "newtrain = subset(train, select=-c(logerror, logerror_interval))\n",
    "# train$abs_logerror = data.matrix(train$abs_logerror)\n",
    "mygbm0.01 = gbm(abs_logerror~., data = newtrain,distribution = \"gaussian\",interaction.depth = 5, shrinkage = 0.01,\n",
    "               n.trees = 500, cv.folds = 5)\n",
    "\n",
    "mygbm0.01"
   ]
  },
  {
   "cell_type": "code",
   "execution_count": 177,
   "metadata": {},
   "outputs": [
    {
     "data": {
      "text/html": [
       "<table>\n",
       "<thead><tr><th></th><th scope=col>var</th><th scope=col>rel.inf</th></tr></thead>\n",
       "<tbody>\n",
       "\t<tr><th scope=row>yearbuilt</th><td>yearbuilt                   </td><td>28.42674397                 </td></tr>\n",
       "\t<tr><th scope=row>calculatedfinishedsquarefeet</th><td>calculatedfinishedsquarefeet</td><td>18.23273794                 </td></tr>\n",
       "\t<tr><th scope=row>lotsizesquarefeet</th><td>lotsizesquarefeet           </td><td>17.92131222                 </td></tr>\n",
       "\t<tr><th scope=row>finishedsquarefeet12</th><td>finishedsquarefeet12        </td><td>13.96856343                 </td></tr>\n",
       "\t<tr><th scope=row>garagetotalsqft</th><td>garagetotalsqft             </td><td> 5.65695531                 </td></tr>\n",
       "\t<tr><th scope=row>finishedsquarefeet6</th><td>finishedsquarefeet6         </td><td> 2.15300175                 </td></tr>\n",
       "\t<tr><th scope=row>bedroomcnt</th><td>bedroomcnt                  </td><td> 2.04901302                 </td></tr>\n",
       "\t<tr><th scope=row>bathroomcnt</th><td>bathroomcnt                 </td><td> 1.83155664                 </td></tr>\n",
       "\t<tr><th scope=row>roomcnt</th><td>roomcnt                     </td><td> 1.26222756                 </td></tr>\n",
       "\t<tr><th scope=row>propertylandusetypeid</th><td>propertylandusetypeid       </td><td> 1.17869555                 </td></tr>\n",
       "\t<tr><th scope=row>finishedfloor1squarefeet</th><td>finishedfloor1squarefeet    </td><td> 1.02597370                 </td></tr>\n",
       "\t<tr><th scope=row>poolcnt</th><td>poolcnt                     </td><td> 0.84475960                 </td></tr>\n",
       "\t<tr><th scope=row>pooltypeid7</th><td>pooltypeid7                 </td><td> 0.75197377                 </td></tr>\n",
       "\t<tr><th scope=row>buildingqualitytypeid</th><td>buildingqualitytypeid       </td><td> 0.70731740                 </td></tr>\n",
       "\t<tr><th scope=row>calculatedbathnbr</th><td>calculatedbathnbr           </td><td> 0.50454185                 </td></tr>\n",
       "\t<tr><th scope=row>heatingorsystemtypeid</th><td>heatingorsystemtypeid       </td><td> 0.40046903                 </td></tr>\n",
       "\t<tr><th scope=row>numberofstories</th><td>numberofstories             </td><td> 0.36606655                 </td></tr>\n",
       "\t<tr><th scope=row>threequarterbathnbr</th><td>threequarterbathnbr         </td><td> 0.34660948                 </td></tr>\n",
       "\t<tr><th scope=row>fullbathcnt</th><td>fullbathcnt                 </td><td> 0.33765292                 </td></tr>\n",
       "\t<tr><th scope=row>unitcnt</th><td>unitcnt                     </td><td> 0.33617538                 </td></tr>\n",
       "\t<tr><th scope=row>pooltypeid10</th><td>pooltypeid10                </td><td> 0.26322321                 </td></tr>\n",
       "\t<tr><th scope=row>fireplacecnt</th><td>fireplacecnt                </td><td> 0.22749504                 </td></tr>\n",
       "\t<tr><th scope=row>airconditioningtypeid</th><td>airconditioningtypeid       </td><td> 0.22694550                 </td></tr>\n",
       "\t<tr><th scope=row>finishedsquarefeet15</th><td>finishedsquarefeet15        </td><td> 0.22390932                 </td></tr>\n",
       "\t<tr><th scope=row>finishedsquarefeet50</th><td>finishedsquarefeet50        </td><td> 0.16612174                 </td></tr>\n",
       "\t<tr><th scope=row>hashottuborspa</th><td>hashottuborspa              </td><td> 0.15703623                 </td></tr>\n",
       "\t<tr><th scope=row>yardbuildingsqft17</th><td>yardbuildingsqft17          </td><td> 0.14670989                 </td></tr>\n",
       "\t<tr><th scope=row>poolsizesum</th><td>poolsizesum                 </td><td> 0.13613556                 </td></tr>\n",
       "\t<tr><th scope=row>garagecarcnt</th><td>garagecarcnt                </td><td> 0.10361210                 </td></tr>\n",
       "\t<tr><th scope=row>pooltypeid2</th><td>pooltypeid2                 </td><td> 0.04646433                 </td></tr>\n",
       "\t<tr><th scope=row>architecturalstyletypeid</th><td>architecturalstyletypeid    </td><td> 0.00000000                 </td></tr>\n",
       "\t<tr><th scope=row>basementsqft</th><td>basementsqft                </td><td> 0.00000000                 </td></tr>\n",
       "\t<tr><th scope=row>decktypeid</th><td>decktypeid                  </td><td> 0.00000000                 </td></tr>\n",
       "\t<tr><th scope=row>typeconstructiontypeid</th><td>typeconstructiontypeid      </td><td> 0.00000000                 </td></tr>\n",
       "\t<tr><th scope=row>yardbuildingsqft26</th><td>yardbuildingsqft26          </td><td> 0.00000000                 </td></tr>\n",
       "\t<tr><th scope=row>fireplaceflag</th><td>fireplaceflag               </td><td> 0.00000000                 </td></tr>\n",
       "</tbody>\n",
       "</table>\n"
      ],
      "text/latex": [
       "\\begin{tabular}{r|ll}\n",
       "  & var & rel.inf\\\\\n",
       "\\hline\n",
       "\tyearbuilt & yearbuilt                    & 28.42674397                 \\\\\n",
       "\tcalculatedfinishedsquarefeet & calculatedfinishedsquarefeet & 18.23273794                 \\\\\n",
       "\tlotsizesquarefeet & lotsizesquarefeet            & 17.92131222                 \\\\\n",
       "\tfinishedsquarefeet12 & finishedsquarefeet12         & 13.96856343                 \\\\\n",
       "\tgaragetotalsqft & garagetotalsqft              &  5.65695531                 \\\\\n",
       "\tfinishedsquarefeet6 & finishedsquarefeet6          &  2.15300175                 \\\\\n",
       "\tbedroomcnt & bedroomcnt                   &  2.04901302                 \\\\\n",
       "\tbathroomcnt & bathroomcnt                  &  1.83155664                 \\\\\n",
       "\troomcnt & roomcnt                      &  1.26222756                 \\\\\n",
       "\tpropertylandusetypeid & propertylandusetypeid        &  1.17869555                 \\\\\n",
       "\tfinishedfloor1squarefeet & finishedfloor1squarefeet     &  1.02597370                 \\\\\n",
       "\tpoolcnt & poolcnt                      &  0.84475960                 \\\\\n",
       "\tpooltypeid7 & pooltypeid7                  &  0.75197377                 \\\\\n",
       "\tbuildingqualitytypeid & buildingqualitytypeid        &  0.70731740                 \\\\\n",
       "\tcalculatedbathnbr & calculatedbathnbr            &  0.50454185                 \\\\\n",
       "\theatingorsystemtypeid & heatingorsystemtypeid        &  0.40046903                 \\\\\n",
       "\tnumberofstories & numberofstories              &  0.36606655                 \\\\\n",
       "\tthreequarterbathnbr & threequarterbathnbr          &  0.34660948                 \\\\\n",
       "\tfullbathcnt & fullbathcnt                  &  0.33765292                 \\\\\n",
       "\tunitcnt & unitcnt                      &  0.33617538                 \\\\\n",
       "\tpooltypeid10 & pooltypeid10                 &  0.26322321                 \\\\\n",
       "\tfireplacecnt & fireplacecnt                 &  0.22749504                 \\\\\n",
       "\tairconditioningtypeid & airconditioningtypeid        &  0.22694550                 \\\\\n",
       "\tfinishedsquarefeet15 & finishedsquarefeet15         &  0.22390932                 \\\\\n",
       "\tfinishedsquarefeet50 & finishedsquarefeet50         &  0.16612174                 \\\\\n",
       "\thashottuborspa & hashottuborspa               &  0.15703623                 \\\\\n",
       "\tyardbuildingsqft17 & yardbuildingsqft17           &  0.14670989                 \\\\\n",
       "\tpoolsizesum & poolsizesum                  &  0.13613556                 \\\\\n",
       "\tgaragecarcnt & garagecarcnt                 &  0.10361210                 \\\\\n",
       "\tpooltypeid2 & pooltypeid2                  &  0.04646433                 \\\\\n",
       "\tarchitecturalstyletypeid & architecturalstyletypeid     &  0.00000000                 \\\\\n",
       "\tbasementsqft & basementsqft                 &  0.00000000                 \\\\\n",
       "\tdecktypeid & decktypeid                   &  0.00000000                 \\\\\n",
       "\ttypeconstructiontypeid & typeconstructiontypeid       &  0.00000000                 \\\\\n",
       "\tyardbuildingsqft26 & yardbuildingsqft26           &  0.00000000                 \\\\\n",
       "\tfireplaceflag & fireplaceflag                &  0.00000000                 \\\\\n",
       "\\end{tabular}\n"
      ],
      "text/markdown": [
       "\n",
       "| <!--/--> | var | rel.inf | \n",
       "|---|---|---|---|---|---|---|---|---|---|---|---|---|---|---|---|---|---|---|---|---|---|---|---|---|---|---|---|---|---|---|---|---|---|---|---|\n",
       "| yearbuilt | yearbuilt                    | 28.42674397                  | \n",
       "| calculatedfinishedsquarefeet | calculatedfinishedsquarefeet | 18.23273794                  | \n",
       "| lotsizesquarefeet | lotsizesquarefeet            | 17.92131222                  | \n",
       "| finishedsquarefeet12 | finishedsquarefeet12         | 13.96856343                  | \n",
       "| garagetotalsqft | garagetotalsqft              |  5.65695531                  | \n",
       "| finishedsquarefeet6 | finishedsquarefeet6          |  2.15300175                  | \n",
       "| bedroomcnt | bedroomcnt                   |  2.04901302                  | \n",
       "| bathroomcnt | bathroomcnt                  |  1.83155664                  | \n",
       "| roomcnt | roomcnt                      |  1.26222756                  | \n",
       "| propertylandusetypeid | propertylandusetypeid        |  1.17869555                  | \n",
       "| finishedfloor1squarefeet | finishedfloor1squarefeet     |  1.02597370                  | \n",
       "| poolcnt | poolcnt                      |  0.84475960                  | \n",
       "| pooltypeid7 | pooltypeid7                  |  0.75197377                  | \n",
       "| buildingqualitytypeid | buildingqualitytypeid        |  0.70731740                  | \n",
       "| calculatedbathnbr | calculatedbathnbr            |  0.50454185                  | \n",
       "| heatingorsystemtypeid | heatingorsystemtypeid        |  0.40046903                  | \n",
       "| numberofstories | numberofstories              |  0.36606655                  | \n",
       "| threequarterbathnbr | threequarterbathnbr          |  0.34660948                  | \n",
       "| fullbathcnt | fullbathcnt                  |  0.33765292                  | \n",
       "| unitcnt | unitcnt                      |  0.33617538                  | \n",
       "| pooltypeid10 | pooltypeid10                 |  0.26322321                  | \n",
       "| fireplacecnt | fireplacecnt                 |  0.22749504                  | \n",
       "| airconditioningtypeid | airconditioningtypeid        |  0.22694550                  | \n",
       "| finishedsquarefeet15 | finishedsquarefeet15         |  0.22390932                  | \n",
       "| finishedsquarefeet50 | finishedsquarefeet50         |  0.16612174                  | \n",
       "| hashottuborspa | hashottuborspa               |  0.15703623                  | \n",
       "| yardbuildingsqft17 | yardbuildingsqft17           |  0.14670989                  | \n",
       "| poolsizesum | poolsizesum                  |  0.13613556                  | \n",
       "| garagecarcnt | garagecarcnt                 |  0.10361210                  | \n",
       "| pooltypeid2 | pooltypeid2                  |  0.04646433                  | \n",
       "| architecturalstyletypeid | architecturalstyletypeid     |  0.00000000                  | \n",
       "| basementsqft | basementsqft                 |  0.00000000                  | \n",
       "| decktypeid | decktypeid                   |  0.00000000                  | \n",
       "| typeconstructiontypeid | typeconstructiontypeid       |  0.00000000                  | \n",
       "| yardbuildingsqft26 | yardbuildingsqft26           |  0.00000000                  | \n",
       "| fireplaceflag | fireplaceflag                |  0.00000000                  | \n",
       "\n",
       "\n"
      ],
      "text/plain": [
       "                             var                          rel.inf    \n",
       "yearbuilt                    yearbuilt                    28.42674397\n",
       "calculatedfinishedsquarefeet calculatedfinishedsquarefeet 18.23273794\n",
       "lotsizesquarefeet            lotsizesquarefeet            17.92131222\n",
       "finishedsquarefeet12         finishedsquarefeet12         13.96856343\n",
       "garagetotalsqft              garagetotalsqft               5.65695531\n",
       "finishedsquarefeet6          finishedsquarefeet6           2.15300175\n",
       "bedroomcnt                   bedroomcnt                    2.04901302\n",
       "bathroomcnt                  bathroomcnt                   1.83155664\n",
       "roomcnt                      roomcnt                       1.26222756\n",
       "propertylandusetypeid        propertylandusetypeid         1.17869555\n",
       "finishedfloor1squarefeet     finishedfloor1squarefeet      1.02597370\n",
       "poolcnt                      poolcnt                       0.84475960\n",
       "pooltypeid7                  pooltypeid7                   0.75197377\n",
       "buildingqualitytypeid        buildingqualitytypeid         0.70731740\n",
       "calculatedbathnbr            calculatedbathnbr             0.50454185\n",
       "heatingorsystemtypeid        heatingorsystemtypeid         0.40046903\n",
       "numberofstories              numberofstories               0.36606655\n",
       "threequarterbathnbr          threequarterbathnbr           0.34660948\n",
       "fullbathcnt                  fullbathcnt                   0.33765292\n",
       "unitcnt                      unitcnt                       0.33617538\n",
       "pooltypeid10                 pooltypeid10                  0.26322321\n",
       "fireplacecnt                 fireplacecnt                  0.22749504\n",
       "airconditioningtypeid        airconditioningtypeid         0.22694550\n",
       "finishedsquarefeet15         finishedsquarefeet15          0.22390932\n",
       "finishedsquarefeet50         finishedsquarefeet50          0.16612174\n",
       "hashottuborspa               hashottuborspa                0.15703623\n",
       "yardbuildingsqft17           yardbuildingsqft17            0.14670989\n",
       "poolsizesum                  poolsizesum                   0.13613556\n",
       "garagecarcnt                 garagecarcnt                  0.10361210\n",
       "pooltypeid2                  pooltypeid2                   0.04646433\n",
       "architecturalstyletypeid     architecturalstyletypeid      0.00000000\n",
       "basementsqft                 basementsqft                  0.00000000\n",
       "decktypeid                   decktypeid                    0.00000000\n",
       "typeconstructiontypeid       typeconstructiontypeid        0.00000000\n",
       "yardbuildingsqft26           yardbuildingsqft26            0.00000000\n",
       "fireplaceflag                fireplaceflag                 0.00000000"
      ]
     },
     "metadata": {},
     "output_type": "display_data"
    },
    {
     "data": {
      "image/png": "[encoded data removed]",
      "text/plain": [
       "plot without title"
      ]
     },
     "metadata": {},
     "output_type": "display_data"
    }
   ],
   "source": [
    "summary(mygbm0.01,n.trees=490)#best is 490 as illustrated"
   ]
  },
  {
   "cell_type": "code",
   "execution_count": 166,
   "metadata": {},
   "outputs": [
    {
     "data": {
      "text/plain": [
       "gbm(formula = abs_logerror ~ ., distribution = \"gaussian\", data = newtrain, \n",
       "    n.trees = 500, interaction.depth = 5, shrinkage = 0.05, cv.folds = 5)\n",
       "A gradient boosted model with gaussian loss function.\n",
       "500 iterations were performed.\n",
       "The best cross-validation iteration was 130.\n",
       "There were 36 predictors of which 29 had non-zero influence."
      ]
     },
     "metadata": {},
     "output_type": "display_data"
    }
   ],
   "source": [
    "mygbm0.05 = gbm(abs_logerror~., data = newtrain,distribution = \"gaussian\",interaction.depth = 5, shrinkage = 0.05,\n",
    "               n.trees = 500, cv.folds = 5)\n",
    "mygbm0.05"
   ]
  },
  {
   "cell_type": "code",
   "execution_count": 167,
   "metadata": {},
   "outputs": [
    {
     "data": {
      "text/plain": [
       "gbm(formula = abs_logerror ~ ., distribution = \"gaussian\", data = newtrain, \n",
       "    n.trees = 500, interaction.depth = 5, shrinkage = 0.1, cv.folds = 5)\n",
       "A gradient boosted model with gaussian loss function.\n",
       "500 iterations were performed.\n",
       "The best cross-validation iteration was 62.\n",
       "There were 36 predictors of which 24 had non-zero influence."
      ]
     },
     "metadata": {},
     "output_type": "display_data"
    }
   ],
   "source": [
    "mygbm0.1 =gbm(abs_logerror~., data = newtrain,distribution = \"gaussian\",interaction.depth = 5, shrinkage =0.1,\n",
    "           n.trees= 500, cv.folds = 5)\n",
    "mygbm0.1 "
   ]
  },
  {
   "cell_type": "code",
   "execution_count": 171,
   "metadata": {},
   "outputs": [
    {
     "data": {
      "text/html": [
       "<table>\n",
       "<thead><tr><th></th><th scope=col>var</th><th scope=col>rel.inf</th></tr></thead>\n",
       "<tbody>\n",
       "\t<tr><th scope=row>yearbuilt</th><td>yearbuilt                   </td><td>24.61249024                 </td></tr>\n",
       "\t<tr><th scope=row>calculatedfinishedsquarefeet</th><td>calculatedfinishedsquarefeet</td><td>18.56435819                 </td></tr>\n",
       "\t<tr><th scope=row>lotsizesquarefeet</th><td>lotsizesquarefeet           </td><td>17.33451921                 </td></tr>\n",
       "\t<tr><th scope=row>finishedsquarefeet12</th><td>finishedsquarefeet12        </td><td>14.12852549                 </td></tr>\n",
       "\t<tr><th scope=row>garagetotalsqft</th><td>garagetotalsqft             </td><td> 6.37367992                 </td></tr>\n",
       "\t<tr><th scope=row>finishedsquarefeet6</th><td>finishedsquarefeet6         </td><td> 3.41652272                 </td></tr>\n",
       "\t<tr><th scope=row>pooltypeid7</th><td>pooltypeid7                 </td><td> 2.45365534                 </td></tr>\n",
       "\t<tr><th scope=row>bedroomcnt</th><td>bedroomcnt                  </td><td> 2.27129164                 </td></tr>\n",
       "\t<tr><th scope=row>propertylandusetypeid</th><td>propertylandusetypeid       </td><td> 1.24126002                 </td></tr>\n",
       "\t<tr><th scope=row>bathroomcnt</th><td>bathroomcnt                 </td><td> 1.22895952                 </td></tr>\n",
       "\t<tr><th scope=row>finishedfloor1squarefeet</th><td>finishedfloor1squarefeet    </td><td> 1.02555864                 </td></tr>\n",
       "\t<tr><th scope=row>calculatedbathnbr</th><td>calculatedbathnbr           </td><td> 0.98255959                 </td></tr>\n",
       "\t<tr><th scope=row>buildingqualitytypeid</th><td>buildingqualitytypeid       </td><td> 0.97023760                 </td></tr>\n",
       "\t<tr><th scope=row>fireplacecnt</th><td>fireplacecnt                </td><td> 0.72262511                 </td></tr>\n",
       "\t<tr><th scope=row>roomcnt</th><td>roomcnt                     </td><td> 0.61346781                 </td></tr>\n",
       "\t<tr><th scope=row>poolcnt</th><td>poolcnt                     </td><td> 0.60486135                 </td></tr>\n",
       "\t<tr><th scope=row>heatingorsystemtypeid</th><td>heatingorsystemtypeid       </td><td> 0.59024887                 </td></tr>\n",
       "\t<tr><th scope=row>numberofstories</th><td>numberofstories             </td><td> 0.54420687                 </td></tr>\n",
       "\t<tr><th scope=row>threequarterbathnbr</th><td>threequarterbathnbr         </td><td> 0.38571465                 </td></tr>\n",
       "\t<tr><th scope=row>yardbuildingsqft17</th><td>yardbuildingsqft17          </td><td> 0.35945970                 </td></tr>\n",
       "\t<tr><th scope=row>garagecarcnt</th><td>garagecarcnt                </td><td> 0.28964279                 </td></tr>\n",
       "\t<tr><th scope=row>pooltypeid10</th><td>pooltypeid10                </td><td> 0.27468297                 </td></tr>\n",
       "\t<tr><th scope=row>hashottuborspa</th><td>hashottuborspa              </td><td> 0.25520478                 </td></tr>\n",
       "\t<tr><th scope=row>finishedsquarefeet15</th><td>finishedsquarefeet15        </td><td> 0.19930792                 </td></tr>\n",
       "\t<tr><th scope=row>poolsizesum</th><td>poolsizesum                 </td><td> 0.13720375                 </td></tr>\n",
       "\t<tr><th scope=row>unitcnt</th><td>unitcnt                     </td><td> 0.11991893                 </td></tr>\n",
       "\t<tr><th scope=row>airconditioningtypeid</th><td>airconditioningtypeid       </td><td> 0.11842269                 </td></tr>\n",
       "\t<tr><th scope=row>fullbathcnt</th><td>fullbathcnt                 </td><td> 0.10071796                 </td></tr>\n",
       "\t<tr><th scope=row>finishedsquarefeet50</th><td>finishedsquarefeet50        </td><td> 0.08069574                 </td></tr>\n",
       "\t<tr><th scope=row>architecturalstyletypeid</th><td>architecturalstyletypeid    </td><td> 0.00000000                 </td></tr>\n",
       "\t<tr><th scope=row>basementsqft</th><td>basementsqft                </td><td> 0.00000000                 </td></tr>\n",
       "\t<tr><th scope=row>decktypeid</th><td>decktypeid                  </td><td> 0.00000000                 </td></tr>\n",
       "\t<tr><th scope=row>pooltypeid2</th><td>pooltypeid2                 </td><td> 0.00000000                 </td></tr>\n",
       "\t<tr><th scope=row>typeconstructiontypeid</th><td>typeconstructiontypeid      </td><td> 0.00000000                 </td></tr>\n",
       "\t<tr><th scope=row>yardbuildingsqft26</th><td>yardbuildingsqft26          </td><td> 0.00000000                 </td></tr>\n",
       "\t<tr><th scope=row>fireplaceflag</th><td>fireplaceflag               </td><td> 0.00000000                 </td></tr>\n",
       "</tbody>\n",
       "</table>\n"
      ],
      "text/latex": [
       "\\begin{tabular}{r|ll}\n",
       "  & var & rel.inf\\\\\n",
       "\\hline\n",
       "\tyearbuilt & yearbuilt                    & 24.61249024                 \\\\\n",
       "\tcalculatedfinishedsquarefeet & calculatedfinishedsquarefeet & 18.56435819                 \\\\\n",
       "\tlotsizesquarefeet & lotsizesquarefeet            & 17.33451921                 \\\\\n",
       "\tfinishedsquarefeet12 & finishedsquarefeet12         & 14.12852549                 \\\\\n",
       "\tgaragetotalsqft & garagetotalsqft              &  6.37367992                 \\\\\n",
       "\tfinishedsquarefeet6 & finishedsquarefeet6          &  3.41652272                 \\\\\n",
       "\tpooltypeid7 & pooltypeid7                  &  2.45365534                 \\\\\n",
       "\tbedroomcnt & bedroomcnt                   &  2.27129164                 \\\\\n",
       "\tpropertylandusetypeid & propertylandusetypeid        &  1.24126002                 \\\\\n",
       "\tbathroomcnt & bathroomcnt                  &  1.22895952                 \\\\\n",
       "\tfinishedfloor1squarefeet & finishedfloor1squarefeet     &  1.02555864                 \\\\\n",
       "\tcalculatedbathnbr & calculatedbathnbr            &  0.98255959                 \\\\\n",
       "\tbuildingqualitytypeid & buildingqualitytypeid        &  0.97023760                 \\\\\n",
       "\tfireplacecnt & fireplacecnt                 &  0.72262511                 \\\\\n",
       "\troomcnt & roomcnt                      &  0.61346781                 \\\\\n",
       "\tpoolcnt & poolcnt                      &  0.60486135                 \\\\\n",
       "\theatingorsystemtypeid & heatingorsystemtypeid        &  0.59024887                 \\\\\n",
       "\tnumberofstories & numberofstories              &  0.54420687                 \\\\\n",
       "\tthreequarterbathnbr & threequarterbathnbr          &  0.38571465                 \\\\\n",
       "\tyardbuildingsqft17 & yardbuildingsqft17           &  0.35945970                 \\\\\n",
       "\tgaragecarcnt & garagecarcnt                 &  0.28964279                 \\\\\n",
       "\tpooltypeid10 & pooltypeid10                 &  0.27468297                 \\\\\n",
       "\thashottuborspa & hashottuborspa               &  0.25520478                 \\\\\n",
       "\tfinishedsquarefeet15 & finishedsquarefeet15         &  0.19930792                 \\\\\n",
       "\tpoolsizesum & poolsizesum                  &  0.13720375                 \\\\\n",
       "\tunitcnt & unitcnt                      &  0.11991893                 \\\\\n",
       "\tairconditioningtypeid & airconditioningtypeid        &  0.11842269                 \\\\\n",
       "\tfullbathcnt & fullbathcnt                  &  0.10071796                 \\\\\n",
       "\tfinishedsquarefeet50 & finishedsquarefeet50         &  0.08069574                 \\\\\n",
       "\tarchitecturalstyletypeid & architecturalstyletypeid     &  0.00000000                 \\\\\n",
       "\tbasementsqft & basementsqft                 &  0.00000000                 \\\\\n",
       "\tdecktypeid & decktypeid                   &  0.00000000                 \\\\\n",
       "\tpooltypeid2 & pooltypeid2                  &  0.00000000                 \\\\\n",
       "\ttypeconstructiontypeid & typeconstructiontypeid       &  0.00000000                 \\\\\n",
       "\tyardbuildingsqft26 & yardbuildingsqft26           &  0.00000000                 \\\\\n",
       "\tfireplaceflag & fireplaceflag                &  0.00000000                 \\\\\n",
       "\\end{tabular}\n"
      ],
      "text/markdown": [
       "\n",
       "| <!--/--> | var | rel.inf | \n",
       "|---|---|---|---|---|---|---|---|---|---|---|---|---|---|---|---|---|---|---|---|---|---|---|---|---|---|---|---|---|---|---|---|---|---|---|---|\n",
       "| yearbuilt | yearbuilt                    | 24.61249024                  | \n",
       "| calculatedfinishedsquarefeet | calculatedfinishedsquarefeet | 18.56435819                  | \n",
       "| lotsizesquarefeet | lotsizesquarefeet            | 17.33451921                  | \n",
       "| finishedsquarefeet12 | finishedsquarefeet12         | 14.12852549                  | \n",
       "| garagetotalsqft | garagetotalsqft              |  6.37367992                  | \n",
       "| finishedsquarefeet6 | finishedsquarefeet6          |  3.41652272                  | \n",
       "| pooltypeid7 | pooltypeid7                  |  2.45365534                  | \n",
       "| bedroomcnt | bedroomcnt                   |  2.27129164                  | \n",
       "| propertylandusetypeid | propertylandusetypeid        |  1.24126002                  | \n",
       "| bathroomcnt | bathroomcnt                  |  1.22895952                  | \n",
       "| finishedfloor1squarefeet | finishedfloor1squarefeet     |  1.02555864                  | \n",
       "| calculatedbathnbr | calculatedbathnbr            |  0.98255959                  | \n",
       "| buildingqualitytypeid | buildingqualitytypeid        |  0.97023760                  | \n",
       "| fireplacecnt | fireplacecnt                 |  0.72262511                  | \n",
       "| roomcnt | roomcnt                      |  0.61346781                  | \n",
       "| poolcnt | poolcnt                      |  0.60486135                  | \n",
       "| heatingorsystemtypeid | heatingorsystemtypeid        |  0.59024887                  | \n",
       "| numberofstories | numberofstories              |  0.54420687                  | \n",
       "| threequarterbathnbr | threequarterbathnbr          |  0.38571465                  | \n",
       "| yardbuildingsqft17 | yardbuildingsqft17           |  0.35945970                  | \n",
       "| garagecarcnt | garagecarcnt                 |  0.28964279                  | \n",
       "| pooltypeid10 | pooltypeid10                 |  0.27468297                  | \n",
       "| hashottuborspa | hashottuborspa               |  0.25520478                  | \n",
       "| finishedsquarefeet15 | finishedsquarefeet15         |  0.19930792                  | \n",
       "| poolsizesum | poolsizesum                  |  0.13720375                  | \n",
       "| unitcnt | unitcnt                      |  0.11991893                  | \n",
       "| airconditioningtypeid | airconditioningtypeid        |  0.11842269                  | \n",
       "| fullbathcnt | fullbathcnt                  |  0.10071796                  | \n",
       "| finishedsquarefeet50 | finishedsquarefeet50         |  0.08069574                  | \n",
       "| architecturalstyletypeid | architecturalstyletypeid     |  0.00000000                  | \n",
       "| basementsqft | basementsqft                 |  0.00000000                  | \n",
       "| decktypeid | decktypeid                   |  0.00000000                  | \n",
       "| pooltypeid2 | pooltypeid2                  |  0.00000000                  | \n",
       "| typeconstructiontypeid | typeconstructiontypeid       |  0.00000000                  | \n",
       "| yardbuildingsqft26 | yardbuildingsqft26           |  0.00000000                  | \n",
       "| fireplaceflag | fireplaceflag                |  0.00000000                  | \n",
       "\n",
       "\n"
      ],
      "text/plain": [
       "                             var                          rel.inf    \n",
       "yearbuilt                    yearbuilt                    24.61249024\n",
       "calculatedfinishedsquarefeet calculatedfinishedsquarefeet 18.56435819\n",
       "lotsizesquarefeet            lotsizesquarefeet            17.33451921\n",
       "finishedsquarefeet12         finishedsquarefeet12         14.12852549\n",
       "garagetotalsqft              garagetotalsqft               6.37367992\n",
       "finishedsquarefeet6          finishedsquarefeet6           3.41652272\n",
       "pooltypeid7                  pooltypeid7                   2.45365534\n",
       "bedroomcnt                   bedroomcnt                    2.27129164\n",
       "propertylandusetypeid        propertylandusetypeid         1.24126002\n",
       "bathroomcnt                  bathroomcnt                   1.22895952\n",
       "finishedfloor1squarefeet     finishedfloor1squarefeet      1.02555864\n",
       "calculatedbathnbr            calculatedbathnbr             0.98255959\n",
       "buildingqualitytypeid        buildingqualitytypeid         0.97023760\n",
       "fireplacecnt                 fireplacecnt                  0.72262511\n",
       "roomcnt                      roomcnt                       0.61346781\n",
       "poolcnt                      poolcnt                       0.60486135\n",
       "heatingorsystemtypeid        heatingorsystemtypeid         0.59024887\n",
       "numberofstories              numberofstories               0.54420687\n",
       "threequarterbathnbr          threequarterbathnbr           0.38571465\n",
       "yardbuildingsqft17           yardbuildingsqft17            0.35945970\n",
       "garagecarcnt                 garagecarcnt                  0.28964279\n",
       "pooltypeid10                 pooltypeid10                  0.27468297\n",
       "hashottuborspa               hashottuborspa                0.25520478\n",
       "finishedsquarefeet15         finishedsquarefeet15          0.19930792\n",
       "poolsizesum                  poolsizesum                   0.13720375\n",
       "unitcnt                      unitcnt                       0.11991893\n",
       "airconditioningtypeid        airconditioningtypeid         0.11842269\n",
       "fullbathcnt                  fullbathcnt                   0.10071796\n",
       "finishedsquarefeet50         finishedsquarefeet50          0.08069574\n",
       "architecturalstyletypeid     architecturalstyletypeid      0.00000000\n",
       "basementsqft                 basementsqft                  0.00000000\n",
       "decktypeid                   decktypeid                    0.00000000\n",
       "pooltypeid2                  pooltypeid2                   0.00000000\n",
       "typeconstructiontypeid       typeconstructiontypeid        0.00000000\n",
       "yardbuildingsqft26           yardbuildingsqft26            0.00000000\n",
       "fireplaceflag                fireplaceflag                 0.00000000"
      ]
     },
     "metadata": {},
     "output_type": "display_data"
    },
    {
     "data": {
      "image/png": "[encoded data removed]",
      "text/plain": [
       "plot without title"
      ]
     },
     "metadata": {},
     "output_type": "display_data"
    }
   ],
   "source": [
    "summary(mygbm0.05, n.trees = 130)"
   ]
  },
  {
   "cell_type": "code",
   "execution_count": 172,
   "metadata": {},
   "outputs": [
    {
     "data": {
      "text/html": [
       "<table>\n",
       "<thead><tr><th></th><th scope=col>var</th><th scope=col>rel.inf</th></tr></thead>\n",
       "<tbody>\n",
       "\t<tr><th scope=row>yearbuilt</th><td>yearbuilt                   </td><td>25.1301199                  </td></tr>\n",
       "\t<tr><th scope=row>calculatedfinishedsquarefeet</th><td>calculatedfinishedsquarefeet</td><td>19.9546182                  </td></tr>\n",
       "\t<tr><th scope=row>lotsizesquarefeet</th><td>lotsizesquarefeet           </td><td>17.4160654                  </td></tr>\n",
       "\t<tr><th scope=row>finishedsquarefeet12</th><td>finishedsquarefeet12        </td><td>16.8101825                  </td></tr>\n",
       "\t<tr><th scope=row>garagetotalsqft</th><td>garagetotalsqft             </td><td> 6.0305058                  </td></tr>\n",
       "\t<tr><th scope=row>finishedsquarefeet6</th><td>finishedsquarefeet6         </td><td> 2.8417025                  </td></tr>\n",
       "\t<tr><th scope=row>bathroomcnt</th><td>bathroomcnt                 </td><td> 2.2073735                  </td></tr>\n",
       "\t<tr><th scope=row>propertylandusetypeid</th><td>propertylandusetypeid       </td><td> 1.2383840                  </td></tr>\n",
       "\t<tr><th scope=row>calculatedbathnbr</th><td>calculatedbathnbr           </td><td> 1.0061899                  </td></tr>\n",
       "\t<tr><th scope=row>finishedfloor1squarefeet</th><td>finishedfloor1squarefeet    </td><td> 0.9077185                  </td></tr>\n",
       "\t<tr><th scope=row>bedroomcnt</th><td>bedroomcnt                  </td><td> 0.8547421                  </td></tr>\n",
       "\t<tr><th scope=row>finishedsquarefeet15</th><td>finishedsquarefeet15        </td><td> 0.8376599                  </td></tr>\n",
       "\t<tr><th scope=row>pooltypeid7</th><td>pooltypeid7                 </td><td> 0.8320643                  </td></tr>\n",
       "\t<tr><th scope=row>buildingqualitytypeid</th><td>buildingqualitytypeid       </td><td> 0.8026465                  </td></tr>\n",
       "\t<tr><th scope=row>roomcnt</th><td>roomcnt                     </td><td> 0.7637643                  </td></tr>\n",
       "\t<tr><th scope=row>airconditioningtypeid</th><td>airconditioningtypeid       </td><td> 0.4577163                  </td></tr>\n",
       "\t<tr><th scope=row>numberofstories</th><td>numberofstories             </td><td> 0.3325591                  </td></tr>\n",
       "\t<tr><th scope=row>pooltypeid10</th><td>pooltypeid10                </td><td> 0.3280757                  </td></tr>\n",
       "\t<tr><th scope=row>fireplacecnt</th><td>fireplacecnt                </td><td> 0.2868750                  </td></tr>\n",
       "\t<tr><th scope=row>poolsizesum</th><td>poolsizesum                 </td><td> 0.2326892                  </td></tr>\n",
       "\t<tr><th scope=row>poolcnt</th><td>poolcnt                     </td><td> 0.2280901                  </td></tr>\n",
       "\t<tr><th scope=row>finishedsquarefeet50</th><td>finishedsquarefeet50        </td><td> 0.2183213                  </td></tr>\n",
       "\t<tr><th scope=row>heatingorsystemtypeid</th><td>heatingorsystemtypeid       </td><td> 0.1695797                  </td></tr>\n",
       "\t<tr><th scope=row>fullbathcnt</th><td>fullbathcnt                 </td><td> 0.1123564                  </td></tr>\n",
       "\t<tr><th scope=row>architecturalstyletypeid</th><td>architecturalstyletypeid    </td><td> 0.0000000                  </td></tr>\n",
       "\t<tr><th scope=row>basementsqft</th><td>basementsqft                </td><td> 0.0000000                  </td></tr>\n",
       "\t<tr><th scope=row>decktypeid</th><td>decktypeid                  </td><td> 0.0000000                  </td></tr>\n",
       "\t<tr><th scope=row>garagecarcnt</th><td>garagecarcnt                </td><td> 0.0000000                  </td></tr>\n",
       "\t<tr><th scope=row>hashottuborspa</th><td>hashottuborspa              </td><td> 0.0000000                  </td></tr>\n",
       "\t<tr><th scope=row>pooltypeid2</th><td>pooltypeid2                 </td><td> 0.0000000                  </td></tr>\n",
       "\t<tr><th scope=row>threequarterbathnbr</th><td>threequarterbathnbr         </td><td> 0.0000000                  </td></tr>\n",
       "\t<tr><th scope=row>typeconstructiontypeid</th><td>typeconstructiontypeid      </td><td> 0.0000000                  </td></tr>\n",
       "\t<tr><th scope=row>unitcnt</th><td>unitcnt                     </td><td> 0.0000000                  </td></tr>\n",
       "\t<tr><th scope=row>yardbuildingsqft17</th><td>yardbuildingsqft17          </td><td> 0.0000000                  </td></tr>\n",
       "\t<tr><th scope=row>yardbuildingsqft26</th><td>yardbuildingsqft26          </td><td> 0.0000000                  </td></tr>\n",
       "\t<tr><th scope=row>fireplaceflag</th><td>fireplaceflag               </td><td> 0.0000000                  </td></tr>\n",
       "</tbody>\n",
       "</table>\n"
      ],
      "text/latex": [
       "\\begin{tabular}{r|ll}\n",
       "  & var & rel.inf\\\\\n",
       "\\hline\n",
       "\tyearbuilt & yearbuilt                    & 25.1301199                  \\\\\n",
       "\tcalculatedfinishedsquarefeet & calculatedfinishedsquarefeet & 19.9546182                  \\\\\n",
       "\tlotsizesquarefeet & lotsizesquarefeet            & 17.4160654                  \\\\\n",
       "\tfinishedsquarefeet12 & finishedsquarefeet12         & 16.8101825                  \\\\\n",
       "\tgaragetotalsqft & garagetotalsqft              &  6.0305058                  \\\\\n",
       "\tfinishedsquarefeet6 & finishedsquarefeet6          &  2.8417025                  \\\\\n",
       "\tbathroomcnt & bathroomcnt                  &  2.2073735                  \\\\\n",
       "\tpropertylandusetypeid & propertylandusetypeid        &  1.2383840                  \\\\\n",
       "\tcalculatedbathnbr & calculatedbathnbr            &  1.0061899                  \\\\\n",
       "\tfinishedfloor1squarefeet & finishedfloor1squarefeet     &  0.9077185                  \\\\\n",
       "\tbedroomcnt & bedroomcnt                   &  0.8547421                  \\\\\n",
       "\tfinishedsquarefeet15 & finishedsquarefeet15         &  0.8376599                  \\\\\n",
       "\tpooltypeid7 & pooltypeid7                  &  0.8320643                  \\\\\n",
       "\tbuildingqualitytypeid & buildingqualitytypeid        &  0.8026465                  \\\\\n",
       "\troomcnt & roomcnt                      &  0.7637643                  \\\\\n",
       "\tairconditioningtypeid & airconditioningtypeid        &  0.4577163                  \\\\\n",
       "\tnumberofstories & numberofstories              &  0.3325591                  \\\\\n",
       "\tpooltypeid10 & pooltypeid10                 &  0.3280757                  \\\\\n",
       "\tfireplacecnt & fireplacecnt                 &  0.2868750                  \\\\\n",
       "\tpoolsizesum & poolsizesum                  &  0.2326892                  \\\\\n",
       "\tpoolcnt & poolcnt                      &  0.2280901                  \\\\\n",
       "\tfinishedsquarefeet50 & finishedsquarefeet50         &  0.2183213                  \\\\\n",
       "\theatingorsystemtypeid & heatingorsystemtypeid        &  0.1695797                  \\\\\n",
       "\tfullbathcnt & fullbathcnt                  &  0.1123564                  \\\\\n",
       "\tarchitecturalstyletypeid & architecturalstyletypeid     &  0.0000000                  \\\\\n",
       "\tbasementsqft & basementsqft                 &  0.0000000                  \\\\\n",
       "\tdecktypeid & decktypeid                   &  0.0000000                  \\\\\n",
       "\tgaragecarcnt & garagecarcnt                 &  0.0000000                  \\\\\n",
       "\thashottuborspa & hashottuborspa               &  0.0000000                  \\\\\n",
       "\tpooltypeid2 & pooltypeid2                  &  0.0000000                  \\\\\n",
       "\tthreequarterbathnbr & threequarterbathnbr          &  0.0000000                  \\\\\n",
       "\ttypeconstructiontypeid & typeconstructiontypeid       &  0.0000000                  \\\\\n",
       "\tunitcnt & unitcnt                      &  0.0000000                  \\\\\n",
       "\tyardbuildingsqft17 & yardbuildingsqft17           &  0.0000000                  \\\\\n",
       "\tyardbuildingsqft26 & yardbuildingsqft26           &  0.0000000                  \\\\\n",
       "\tfireplaceflag & fireplaceflag                &  0.0000000                  \\\\\n",
       "\\end{tabular}\n"
      ],
      "text/markdown": [
       "\n",
       "| <!--/--> | var | rel.inf | \n",
       "|---|---|---|---|---|---|---|---|---|---|---|---|---|---|---|---|---|---|---|---|---|---|---|---|---|---|---|---|---|---|---|---|---|---|---|---|\n",
       "| yearbuilt | yearbuilt                    | 25.1301199                   | \n",
       "| calculatedfinishedsquarefeet | calculatedfinishedsquarefeet | 19.9546182                   | \n",
       "| lotsizesquarefeet | lotsizesquarefeet            | 17.4160654                   | \n",
       "| finishedsquarefeet12 | finishedsquarefeet12         | 16.8101825                   | \n",
       "| garagetotalsqft | garagetotalsqft              |  6.0305058                   | \n",
       "| finishedsquarefeet6 | finishedsquarefeet6          |  2.8417025                   | \n",
       "| bathroomcnt | bathroomcnt                  |  2.2073735                   | \n",
       "| propertylandusetypeid | propertylandusetypeid        |  1.2383840                   | \n",
       "| calculatedbathnbr | calculatedbathnbr            |  1.0061899                   | \n",
       "| finishedfloor1squarefeet | finishedfloor1squarefeet     |  0.9077185                   | \n",
       "| bedroomcnt | bedroomcnt                   |  0.8547421                   | \n",
       "| finishedsquarefeet15 | finishedsquarefeet15         |  0.8376599                   | \n",
       "| pooltypeid7 | pooltypeid7                  |  0.8320643                   | \n",
       "| buildingqualitytypeid | buildingqualitytypeid        |  0.8026465                   | \n",
       "| roomcnt | roomcnt                      |  0.7637643                   | \n",
       "| airconditioningtypeid | airconditioningtypeid        |  0.4577163                   | \n",
       "| numberofstories | numberofstories              |  0.3325591                   | \n",
       "| pooltypeid10 | pooltypeid10                 |  0.3280757                   | \n",
       "| fireplacecnt | fireplacecnt                 |  0.2868750                   | \n",
       "| poolsizesum | poolsizesum                  |  0.2326892                   | \n",
       "| poolcnt | poolcnt                      |  0.2280901                   | \n",
       "| finishedsquarefeet50 | finishedsquarefeet50         |  0.2183213                   | \n",
       "| heatingorsystemtypeid | heatingorsystemtypeid        |  0.1695797                   | \n",
       "| fullbathcnt | fullbathcnt                  |  0.1123564                   | \n",
       "| architecturalstyletypeid | architecturalstyletypeid     |  0.0000000                   | \n",
       "| basementsqft | basementsqft                 |  0.0000000                   | \n",
       "| decktypeid | decktypeid                   |  0.0000000                   | \n",
       "| garagecarcnt | garagecarcnt                 |  0.0000000                   | \n",
       "| hashottuborspa | hashottuborspa               |  0.0000000                   | \n",
       "| pooltypeid2 | pooltypeid2                  |  0.0000000                   | \n",
       "| threequarterbathnbr | threequarterbathnbr          |  0.0000000                   | \n",
       "| typeconstructiontypeid | typeconstructiontypeid       |  0.0000000                   | \n",
       "| unitcnt | unitcnt                      |  0.0000000                   | \n",
       "| yardbuildingsqft17 | yardbuildingsqft17           |  0.0000000                   | \n",
       "| yardbuildingsqft26 | yardbuildingsqft26           |  0.0000000                   | \n",
       "| fireplaceflag | fireplaceflag                |  0.0000000                   | \n",
       "\n",
       "\n"
      ],
      "text/plain": [
       "                             var                          rel.inf   \n",
       "yearbuilt                    yearbuilt                    25.1301199\n",
       "calculatedfinishedsquarefeet calculatedfinishedsquarefeet 19.9546182\n",
       "lotsizesquarefeet            lotsizesquarefeet            17.4160654\n",
       "finishedsquarefeet12         finishedsquarefeet12         16.8101825\n",
       "garagetotalsqft              garagetotalsqft               6.0305058\n",
       "finishedsquarefeet6          finishedsquarefeet6           2.8417025\n",
       "bathroomcnt                  bathroomcnt                   2.2073735\n",
       "propertylandusetypeid        propertylandusetypeid         1.2383840\n",
       "calculatedbathnbr            calculatedbathnbr             1.0061899\n",
       "finishedfloor1squarefeet     finishedfloor1squarefeet      0.9077185\n",
       "bedroomcnt                   bedroomcnt                    0.8547421\n",
       "finishedsquarefeet15         finishedsquarefeet15          0.8376599\n",
       "pooltypeid7                  pooltypeid7                   0.8320643\n",
       "buildingqualitytypeid        buildingqualitytypeid         0.8026465\n",
       "roomcnt                      roomcnt                       0.7637643\n",
       "airconditioningtypeid        airconditioningtypeid         0.4577163\n",
       "numberofstories              numberofstories               0.3325591\n",
       "pooltypeid10                 pooltypeid10                  0.3280757\n",
       "fireplacecnt                 fireplacecnt                  0.2868750\n",
       "poolsizesum                  poolsizesum                   0.2326892\n",
       "poolcnt                      poolcnt                       0.2280901\n",
       "finishedsquarefeet50         finishedsquarefeet50          0.2183213\n",
       "heatingorsystemtypeid        heatingorsystemtypeid         0.1695797\n",
       "fullbathcnt                  fullbathcnt                   0.1123564\n",
       "architecturalstyletypeid     architecturalstyletypeid      0.0000000\n",
       "basementsqft                 basementsqft                  0.0000000\n",
       "decktypeid                   decktypeid                    0.0000000\n",
       "garagecarcnt                 garagecarcnt                  0.0000000\n",
       "hashottuborspa               hashottuborspa                0.0000000\n",
       "pooltypeid2                  pooltypeid2                   0.0000000\n",
       "threequarterbathnbr          threequarterbathnbr           0.0000000\n",
       "typeconstructiontypeid       typeconstructiontypeid        0.0000000\n",
       "unitcnt                      unitcnt                       0.0000000\n",
       "yardbuildingsqft17           yardbuildingsqft17            0.0000000\n",
       "yardbuildingsqft26           yardbuildingsqft26            0.0000000\n",
       "fireplaceflag                fireplaceflag                 0.0000000"
      ]
     },
     "metadata": {},
     "output_type": "display_data"
    },
    {
     "data": {
      "image/png": "[encoded data removed]",
      "text/plain": [
       "plot without title"
      ]
     },
     "metadata": {},
     "output_type": "display_data"
    }
   ],
   "source": [
    "summary(mygbm0.1, n.trees = 62)"
   ]
  },
  {
   "cell_type": "code",
   "execution_count": 210,
   "metadata": {},
   "outputs": [
    {
     "data": {
      "text/html": [
       "0.0234763708250514"
      ],
      "text/latex": [
       "0.0234763708250514"
      ],
      "text/markdown": [
       "0.0234763708250514"
      ],
      "text/plain": [
       "[1] 0.02347637"
      ]
     },
     "metadata": {},
     "output_type": "display_data"
    }
   ],
   "source": [
    "newtest = subset(test, select=-c(logerror, logerror_interval))\n",
    "y0.1 = predict(mygbm0.1, newdata = newtest, n.trees = 62)\n",
    "mse0.1 = mean((y0.1-test[,39])^2)\n",
    "mse0.1"
   ]
  },
  {
   "cell_type": "code",
   "execution_count": 211,
   "metadata": {},
   "outputs": [
    {
     "data": {
      "text/html": [
       "0.0234374879638305"
      ],
      "text/latex": [
       "0.0234374879638305"
      ],
      "text/markdown": [
       "0.0234374879638305"
      ],
      "text/plain": [
       "[1] 0.02343749"
      ]
     },
     "metadata": {},
     "output_type": "display_data"
    }
   ],
   "source": [
    "y0.05 = predict(mygbm0.05, newdata = newtest, n.trees =130)\n",
    "mse0.05 = mean((y0.05-test[,39])^2)\n",
    "mse0.05"
   ]
  },
  {
   "cell_type": "code",
   "execution_count": 212,
   "metadata": {},
   "outputs": [
    {
     "data": {
      "text/html": [
       "0.0234461025005746"
      ],
      "text/latex": [
       "0.0234461025005746"
      ],
      "text/markdown": [
       "0.0234461025005746"
      ],
      "text/plain": [
       "[1] 0.0234461"
      ]
     },
     "metadata": {},
     "output_type": "display_data"
    }
   ],
   "source": [
    "y0.01 = predict(mygbm0.01, newdata = newtest, n.trees =490)\n",
    "mse0.01 = mean((y0.01-test[,39])^2)\n",
    "mse0.01"
   ]
  },
  {
   "cell_type": "code",
   "execution_count": 231,
   "metadata": {},
   "outputs": [
    {
     "data": {
      "image/png": "[encoded data removed]",
      "text/plain": [
       "plot without title"
      ]
     },
     "metadata": {},
     "output_type": "display_data"
    }
   ],
   "source": [
    "#we choosed 0.05 as the learning rate and get best result under number of tree = 130 for GBM\n",
    "#and we want to find important factors in this model\n",
    "s = summary(mygbm0.05)"
   ]
  },
  {
   "cell_type": "code",
   "execution_count": 255,
   "metadata": {},
   "outputs": [
    {
     "data": {
      "text/html": [
       "<table>\n",
       "<thead><tr><th scope=col>var</th><th scope=col>rel.inf</th></tr></thead>\n",
       "<tbody>\n",
       "\t<tr><td>calculatedfinishedsquarefeet</td><td>19.191077                   </td></tr>\n",
       "\t<tr><td>yearbuilt                   </td><td>18.387639                   </td></tr>\n",
       "\t<tr><td>lotsizesquarefeet           </td><td>18.322248                   </td></tr>\n",
       "\t<tr><td>garagetotalsqft             </td><td>11.089830                   </td></tr>\n",
       "\t<tr><td>finishedsquarefeet12        </td><td>10.415506                   </td></tr>\n",
       "\t<tr><td>finishedsquarefeet6         </td><td> 3.859242                   </td></tr>\n",
       "\t<tr><td>bedroomcnt                  </td><td> 2.372763                   </td></tr>\n",
       "\t<tr><td>bathroomcnt                 </td><td> 1.888719                   </td></tr>\n",
       "\t<tr><td>finishedfloor1squarefeet    </td><td> 1.563438                   </td></tr>\n",
       "\t<tr><td>buildingqualitytypeid       </td><td> 1.411611                   </td></tr>\n",
       "\t<tr><td>pooltypeid7                 </td><td> 1.407950                   </td></tr>\n",
       "\t<tr><td>roomcnt                     </td><td> 1.302786                   </td></tr>\n",
       "\t<tr><td>propertylandusetypeid       </td><td> 1.106401                   </td></tr>\n",
       "</tbody>\n",
       "</table>\n"
      ],
      "text/latex": [
       "\\begin{tabular}{r|ll}\n",
       " var & rel.inf\\\\\n",
       "\\hline\n",
       "\t calculatedfinishedsquarefeet & 19.191077                   \\\\\n",
       "\t yearbuilt                    & 18.387639                   \\\\\n",
       "\t lotsizesquarefeet            & 18.322248                   \\\\\n",
       "\t garagetotalsqft              & 11.089830                   \\\\\n",
       "\t finishedsquarefeet12         & 10.415506                   \\\\\n",
       "\t finishedsquarefeet6          &  3.859242                   \\\\\n",
       "\t bedroomcnt                   &  2.372763                   \\\\\n",
       "\t bathroomcnt                  &  1.888719                   \\\\\n",
       "\t finishedfloor1squarefeet     &  1.563438                   \\\\\n",
       "\t buildingqualitytypeid        &  1.411611                   \\\\\n",
       "\t pooltypeid7                  &  1.407950                   \\\\\n",
       "\t roomcnt                      &  1.302786                   \\\\\n",
       "\t propertylandusetypeid        &  1.106401                   \\\\\n",
       "\\end{tabular}\n"
      ],
      "text/markdown": [
       "\n",
       "var | rel.inf | \n",
       "|---|---|---|---|---|---|---|---|---|---|---|---|---|\n",
       "| calculatedfinishedsquarefeet | 19.191077                    | \n",
       "| yearbuilt                    | 18.387639                    | \n",
       "| lotsizesquarefeet            | 18.322248                    | \n",
       "| garagetotalsqft              | 11.089830                    | \n",
       "| finishedsquarefeet12         | 10.415506                    | \n",
       "| finishedsquarefeet6          |  3.859242                    | \n",
       "| bedroomcnt                   |  2.372763                    | \n",
       "| bathroomcnt                  |  1.888719                    | \n",
       "| finishedfloor1squarefeet     |  1.563438                    | \n",
       "| buildingqualitytypeid        |  1.411611                    | \n",
       "| pooltypeid7                  |  1.407950                    | \n",
       "| roomcnt                      |  1.302786                    | \n",
       "| propertylandusetypeid        |  1.106401                    | \n",
       "\n",
       "\n"
      ],
      "text/plain": [
       "   var                          rel.inf  \n",
       "1  calculatedfinishedsquarefeet 19.191077\n",
       "2  yearbuilt                    18.387639\n",
       "3  lotsizesquarefeet            18.322248\n",
       "4  garagetotalsqft              11.089830\n",
       "5  finishedsquarefeet12         10.415506\n",
       "6  finishedsquarefeet6           3.859242\n",
       "7  bedroomcnt                    2.372763\n",
       "8  bathroomcnt                   1.888719\n",
       "9  finishedfloor1squarefeet      1.563438\n",
       "10 buildingqualitytypeid         1.411611\n",
       "11 pooltypeid7                   1.407950\n",
       "12 roomcnt                       1.302786\n",
       "13 propertylandusetypeid         1.106401"
      ]
     },
     "metadata": {},
     "output_type": "display_data"
    }
   ],
   "source": [
    "library(dplyr)\n",
    "gbm_feature = filter(s, rel.inf >1)\n",
    "gbm_feature"
   ]
  },
  {
   "cell_type": "code",
   "execution_count": 193,
   "metadata": {},
   "outputs": [],
   "source": [
    "#then we tried xgboosting\n",
    "library(xgboost)\n",
    "target = train$abs_logerror\n",
    "dtrain = subset(train, select=-c(logerror, logerror_interval, abs_logerror))\n",
    "dtest = subset(test, select=-c(logerror, logerror_interval, abs_logerror))\n",
    "dtrain <- xgb.DMatrix(data.matrix(dtrain),label=target, missing=NA)\n",
    "dtest <-xgb.DMatrix(data.matrix(dtest))"
   ]
  },
  {
   "cell_type": "code",
   "execution_count": 194,
   "metadata": {},
   "outputs": [
    {
     "name": "stdout",
     "output_type": "stream",
     "text": [
      "[1] 0.02\n",
      "[1]\ttrain-rmse:0.437761+0.000205\ttest-rmse:0.437771+0.000821 \n",
      "[1] 0.04\n",
      "[1]\ttrain-rmse:0.437760+0.000424\ttest-rmse:0.437772+0.001659 \n",
      "[1] 0.06\n",
      "[1]\ttrain-rmse:0.437759+0.000377\ttest-rmse:0.437768+0.001411 \n",
      "[1] 0.08\n",
      "[1]\ttrain-rmse:0.437760+0.000566\ttest-rmse:0.437770+0.002190 \n",
      "[1] 0.1\n",
      "[1]\ttrain-rmse:0.437761+0.000449\ttest-rmse:0.437773+0.001774 \n",
      "[1] 0.12\n",
      "[1]\ttrain-rmse:0.437761+0.000529\ttest-rmse:0.437767+0.002046 \n",
      "[1] 0.14\n",
      "[1]\ttrain-rmse:0.437762+0.000329\ttest-rmse:0.437773+0.001268 \n",
      "[1] 0.16\n",
      "[1]\ttrain-rmse:0.437761+0.000553\ttest-rmse:0.437770+0.002133 \n",
      "[1] 0.18\n",
      "[1]\ttrain-rmse:0.437762+0.000541\ttest-rmse:0.437768+0.002089 \n",
      "[1] 0.2\n",
      "[1]\ttrain-rmse:0.437763+0.000666\ttest-rmse:0.437763+0.002651 \n",
      "[1] 0.22\n",
      "[1]\ttrain-rmse:0.437763+0.000394\ttest-rmse:0.437770+0.001540 \n",
      "[1] 0.24\n",
      "[1]\ttrain-rmse:0.437763+0.000518\ttest-rmse:0.437769+0.002007 \n",
      "[1] 0.26\n",
      "[1]\ttrain-rmse:0.437763+0.000393\ttest-rmse:0.437767+0.001504 \n",
      "[1] 0.28\n",
      "[1]\ttrain-rmse:0.437765+0.000193\ttest-rmse:0.437775+0.000788 \n",
      "[1] 0.3\n",
      "[1]\ttrain-rmse:0.437765+0.000314\ttest-rmse:0.437775+0.001217 \n",
      "[1] 0.32\n",
      "[1]\ttrain-rmse:0.437766+0.000503\ttest-rmse:0.437774+0.001973 \n",
      "[1] 0.34\n",
      "[1]\ttrain-rmse:0.437765+0.000550\ttest-rmse:0.437770+0.002173 \n",
      "[1] 0.36\n",
      "[1]\ttrain-rmse:0.437766+0.000496\ttest-rmse:0.437768+0.001984 \n",
      "[1] 0.38\n",
      "[1]\ttrain-rmse:0.437766+0.000474\ttest-rmse:0.437773+0.001876 \n",
      "[1] 0.4\n",
      "[1]\ttrain-rmse:0.437766+0.000303\ttest-rmse:0.437776+0.001149 \n",
      "[1] 0.42\n",
      "[1]\ttrain-rmse:0.437766+0.000570\ttest-rmse:0.437774+0.002256 \n",
      "[1] 0.44\n",
      "[1]\ttrain-rmse:0.437767+0.000416\ttest-rmse:0.437780+0.001660 \n",
      "[1] 0.46\n",
      "[1]\ttrain-rmse:0.437767+0.000558\ttest-rmse:0.437772+0.002135 \n",
      "[1] 0.48\n",
      "[1]\ttrain-rmse:0.437767+0.000462\ttest-rmse:0.437774+0.001799 \n",
      "[1] 0.5\n",
      "[1]\ttrain-rmse:0.437768+0.000427\ttest-rmse:0.437777+0.001673 \n",
      "[1] 0.52\n",
      "[1]\ttrain-rmse:0.437769+0.000372\ttest-rmse:0.437775+0.001452 \n",
      "[1] 0.54\n",
      "[1]\ttrain-rmse:0.437768+0.000402\ttest-rmse:0.437783+0.001509 \n",
      "[1] 0.56\n",
      "[1]\ttrain-rmse:0.437770+0.000154\ttest-rmse:0.437780+0.000573 \n",
      "[1] 0.58\n",
      "[1]\ttrain-rmse:0.437770+0.000568\ttest-rmse:0.437767+0.002223 \n",
      "[1] 0.6\n",
      "[1]\ttrain-rmse:0.437770+0.000596\ttest-rmse:0.437775+0.002336 \n",
      "[1] 0.62\n",
      "[1]\ttrain-rmse:0.437770+0.000417\ttest-rmse:0.437775+0.001647 \n",
      "[1] 0.64\n",
      "[1]\ttrain-rmse:0.437771+0.000175\ttest-rmse:0.437785+0.000694 \n",
      "[1] 0.66\n",
      "[1]\ttrain-rmse:0.437771+0.000228\ttest-rmse:0.437781+0.000916 \n",
      "[1] 0.68\n",
      "[1]\ttrain-rmse:0.437770+0.000437\ttest-rmse:0.437777+0.001739 \n",
      "[1] 0.7\n",
      "[1]\ttrain-rmse:0.437771+0.000277\ttest-rmse:0.437780+0.001056 \n",
      "[1] 0.72\n",
      "[1]\ttrain-rmse:0.437773+0.000458\ttest-rmse:0.437777+0.001770 \n",
      "[1] 0.74\n",
      "[1]\ttrain-rmse:0.437771+0.000438\ttest-rmse:0.437777+0.001725 \n",
      "[1] 0.76\n",
      "[1]\ttrain-rmse:0.437772+0.000499\ttest-rmse:0.437776+0.001903 \n",
      "[1] 0.78\n",
      "[1]\ttrain-rmse:0.437772+0.000446\ttest-rmse:0.437779+0.001745 \n",
      "[1] 0.8\n",
      "[1]\ttrain-rmse:0.437771+0.000575\ttest-rmse:0.437780+0.002239 \n",
      "[1] 0.82\n",
      "[1]\ttrain-rmse:0.437771+0.000479\ttest-rmse:0.437778+0.001914 \n",
      "[1] 0.84\n",
      "[1]\ttrain-rmse:0.437772+0.000726\ttest-rmse:0.437772+0.002779 \n",
      "[1] 0.86\n",
      "[1]\ttrain-rmse:0.437774+0.000600\ttest-rmse:0.437777+0.002330 \n",
      "[1] 0.88\n",
      "[1]\ttrain-rmse:0.437774+0.000385\ttest-rmse:0.437774+0.001536 \n",
      "[1] 0.9\n",
      "[1]\ttrain-rmse:0.437774+0.000521\ttest-rmse:0.437777+0.001974 \n",
      "[1] 0.92\n",
      "[1]\ttrain-rmse:0.437774+0.000323\ttest-rmse:0.437782+0.001283 \n",
      "[1] 0.94\n",
      "[1]\ttrain-rmse:0.437775+0.000472\ttest-rmse:0.437780+0.001794 \n",
      "[1] 0.96\n",
      "[1]\ttrain-rmse:0.437774+0.000608\ttest-rmse:0.437778+0.002328 \n",
      "[1] 0.98\n",
      "[1]\ttrain-rmse:0.437775+0.000400\ttest-rmse:0.437779+0.001615 \n",
      "[1] 1\n",
      "[1]\ttrain-rmse:0.437775+0.000254\ttest-rmse:0.437782+0.000966 \n"
     ]
    }
   ],
   "source": [
    "#use crossvalidation to select best shrikage parameter alpha\n",
    "for (a in seq(0.02, 1, 0.02)){\n",
    "param = list(booster = \"gbtree\", eta=0.05, max_depth = 5, min_child_weight = 100, objective = 'reg:linear',\n",
    "             eval_metirc  =  'rmse', alpha = a)\n",
    "    print(a)\n",
    "xgb <- xgb.cv(params = param\n",
    "                 , data = dtrain\n",
    "                # , watchlist = list(train = dtrain)\n",
    "                 , nrounds = 1\n",
    "                 , verbose = 1\n",
    "                 , print_every_n = 5\n",
    "                 , nfold = 5)\n",
    "}"
   ]
  },
  {
   "cell_type": "code",
   "execution_count": null,
   "metadata": {},
   "outputs": [],
   "source": []
  },
  {
   "cell_type": "code",
   "execution_count": 217,
   "metadata": {},
   "outputs": [
    {
     "data": {
      "text/html": [
       "0.0234433150109324"
      ],
      "text/latex": [
       "0.0234433150109324"
      ],
      "text/markdown": [
       "0.0234433150109324"
      ],
      "text/plain": [
       "[1] 0.02344332"
      ]
     },
     "metadata": {},
     "output_type": "display_data"
    }
   ],
   "source": [
    "#best alpha = 0.2\n",
    "param = list(booster = \"gbtree\", eta=0.05, max_depth = 5, min_child_weight = 100, objective = 'reg:linear',\n",
    "             eval_metirc  =  'rmse', alpha = 0.2)\n",
    "xgb <- xgb.train(params = param\n",
    "                 , data = dtrain\n",
    "                # , watchlist = list(train = dtrain)\n",
    "                 , nrounds = 100\n",
    "                 , verbose = 1\n",
    "                 , print_every_n = 5\n",
    ")\n",
    "preds <- predict(xgb,dtest)\n",
    "msexgb = mean((preds-test[,39])^2)\n",
    "msexgb"
   ]
  },
  {
   "cell_type": "code",
   "execution_count": 234,
   "metadata": {},
   "outputs": [
    {
     "data": {
      "text/html": [
       "<table>\n",
       "<thead><tr><th scope=col>Feature</th><th scope=col>Gain</th><th scope=col>Cover</th><th scope=col>Frequency</th></tr></thead>\n",
       "<tbody>\n",
       "\t<tr><td>yearbuilt                   </td><td>0.3713860825                </td><td>0.2093868552                </td><td>0.175401817                 </td></tr>\n",
       "\t<tr><td>finishedsquarefeet12        </td><td>0.1781782936                </td><td>0.1957591814                </td><td>0.146750524                 </td></tr>\n",
       "\t<tr><td>lotsizesquarefeet           </td><td>0.1484208232                </td><td>0.1102577781                </td><td>0.192173305                 </td></tr>\n",
       "\t<tr><td>calculatedfinishedsquarefeet</td><td>0.1251299717                </td><td>0.1117170328                </td><td>0.149545772                 </td></tr>\n",
       "\t<tr><td>garagetotalsqft             </td><td>0.0387399379                </td><td>0.0660785809                </td><td>0.068483578                 </td></tr>\n",
       "\t<tr><td>buildingqualitytypeid       </td><td>0.0262752667                </td><td>0.0541305681                </td><td>0.046820405                 </td></tr>\n",
       "\t<tr><td>bathroomcnt                 </td><td>0.0149542663                </td><td>0.0297236937                </td><td>0.025157233                 </td></tr>\n",
       "\t<tr><td>bedroomcnt                  </td><td>0.0136398867                </td><td>0.0307630711                </td><td>0.030048917                 </td></tr>\n",
       "\t<tr><td>finishedfloor1squarefeet    </td><td>0.0097519235                </td><td>0.0105529264                </td><td>0.019566737                 </td></tr>\n",
       "\t<tr><td>airconditioningtypeid       </td><td>0.0096762484                </td><td>0.0277926968                </td><td>0.018867925                 </td></tr>\n",
       "\t<tr><td>propertylandusetypeid       </td><td>0.0092807984                </td><td>0.0036611977                </td><td>0.011180992                 </td></tr>\n",
       "\t<tr><td>numberofstories             </td><td>0.0072988712                </td><td>0.0045874948                </td><td>0.011180992                 </td></tr>\n",
       "\t<tr><td>calculatedbathnbr           </td><td>0.0070543834                </td><td>0.0176905016                </td><td>0.007686932                 </td></tr>\n",
       "\t<tr><td>finishedsquarefeet6         </td><td>0.0058383054                </td><td>0.0133211417                </td><td>0.008385744                 </td></tr>\n",
       "\t<tr><td>finishedsquarefeet15        </td><td>0.0054444906                </td><td>0.0061423018                </td><td>0.009084556                 </td></tr>\n",
       "\t<tr><td>poolsizesum                 </td><td>0.0044760070                </td><td>0.0254285345                </td><td>0.010482180                 </td></tr>\n",
       "\t<tr><td>fireplacecnt                </td><td>0.0043102933                </td><td>0.0135939049                </td><td>0.007686932                 </td></tr>\n",
       "\t<tr><td>heatingorsystemtypeid       </td><td>0.0033487409                </td><td>0.0160496445                </td><td>0.011879804                 </td></tr>\n",
       "\t<tr><td>pooltypeid7                 </td><td>0.0029074341                </td><td>0.0067822827                </td><td>0.006988120                 </td></tr>\n",
       "\t<tr><td>finishedsquarefeet50        </td><td>0.0029054399                </td><td>0.0099858591                </td><td>0.007686932                 </td></tr>\n",
       "\t<tr><td>pooltypeid10                </td><td>0.0026930281                </td><td>0.0082371838                </td><td>0.004192872                 </td></tr>\n",
       "\t<tr><td>roomcnt                     </td><td>0.0024760418                </td><td>0.0037443328                </td><td>0.010482180                 </td></tr>\n",
       "\t<tr><td>yardbuildingsqft17          </td><td>0.0021893334                </td><td>0.0128451974                </td><td>0.006988120                 </td></tr>\n",
       "\t<tr><td>poolcnt                     </td><td>0.0019186995                </td><td>0.0092938999                </td><td>0.005590496                 </td></tr>\n",
       "\t<tr><td>fullbathcnt                 </td><td>0.0007754324                </td><td>0.0022779230                </td><td>0.004891684                 </td></tr>\n",
       "\t<tr><td>unitcnt                     </td><td>0.0006752561                </td><td>0.0000551205                </td><td>0.002096436                 </td></tr>\n",
       "\t<tr><td>garagecarcnt                </td><td>0.0002547441                </td><td>0.0001410949                </td><td>0.000698812                 </td></tr>\n",
       "</tbody>\n",
       "</table>\n"
      ],
      "text/latex": [
       "\\begin{tabular}{r|llll}\n",
       " Feature & Gain & Cover & Frequency\\\\\n",
       "\\hline\n",
       "\t yearbuilt                    & 0.3713860825                 & 0.2093868552                 & 0.175401817                 \\\\\n",
       "\t finishedsquarefeet12         & 0.1781782936                 & 0.1957591814                 & 0.146750524                 \\\\\n",
       "\t lotsizesquarefeet            & 0.1484208232                 & 0.1102577781                 & 0.192173305                 \\\\\n",
       "\t calculatedfinishedsquarefeet & 0.1251299717                 & 0.1117170328                 & 0.149545772                 \\\\\n",
       "\t garagetotalsqft              & 0.0387399379                 & 0.0660785809                 & 0.068483578                 \\\\\n",
       "\t buildingqualitytypeid        & 0.0262752667                 & 0.0541305681                 & 0.046820405                 \\\\\n",
       "\t bathroomcnt                  & 0.0149542663                 & 0.0297236937                 & 0.025157233                 \\\\\n",
       "\t bedroomcnt                   & 0.0136398867                 & 0.0307630711                 & 0.030048917                 \\\\\n",
       "\t finishedfloor1squarefeet     & 0.0097519235                 & 0.0105529264                 & 0.019566737                 \\\\\n",
       "\t airconditioningtypeid        & 0.0096762484                 & 0.0277926968                 & 0.018867925                 \\\\\n",
       "\t propertylandusetypeid        & 0.0092807984                 & 0.0036611977                 & 0.011180992                 \\\\\n",
       "\t numberofstories              & 0.0072988712                 & 0.0045874948                 & 0.011180992                 \\\\\n",
       "\t calculatedbathnbr            & 0.0070543834                 & 0.0176905016                 & 0.007686932                 \\\\\n",
       "\t finishedsquarefeet6          & 0.0058383054                 & 0.0133211417                 & 0.008385744                 \\\\\n",
       "\t finishedsquarefeet15         & 0.0054444906                 & 0.0061423018                 & 0.009084556                 \\\\\n",
       "\t poolsizesum                  & 0.0044760070                 & 0.0254285345                 & 0.010482180                 \\\\\n",
       "\t fireplacecnt                 & 0.0043102933                 & 0.0135939049                 & 0.007686932                 \\\\\n",
       "\t heatingorsystemtypeid        & 0.0033487409                 & 0.0160496445                 & 0.011879804                 \\\\\n",
       "\t pooltypeid7                  & 0.0029074341                 & 0.0067822827                 & 0.006988120                 \\\\\n",
       "\t finishedsquarefeet50         & 0.0029054399                 & 0.0099858591                 & 0.007686932                 \\\\\n",
       "\t pooltypeid10                 & 0.0026930281                 & 0.0082371838                 & 0.004192872                 \\\\\n",
       "\t roomcnt                      & 0.0024760418                 & 0.0037443328                 & 0.010482180                 \\\\\n",
       "\t yardbuildingsqft17           & 0.0021893334                 & 0.0128451974                 & 0.006988120                 \\\\\n",
       "\t poolcnt                      & 0.0019186995                 & 0.0092938999                 & 0.005590496                 \\\\\n",
       "\t fullbathcnt                  & 0.0007754324                 & 0.0022779230                 & 0.004891684                 \\\\\n",
       "\t unitcnt                      & 0.0006752561                 & 0.0000551205                 & 0.002096436                 \\\\\n",
       "\t garagecarcnt                 & 0.0002547441                 & 0.0001410949                 & 0.000698812                 \\\\\n",
       "\\end{tabular}\n"
      ],
      "text/markdown": [
       "\n",
       "Feature | Gain | Cover | Frequency | \n",
       "|---|---|---|---|---|---|---|---|---|---|---|---|---|---|---|---|---|---|---|---|---|---|---|---|---|---|---|\n",
       "| yearbuilt                    | 0.3713860825                 | 0.2093868552                 | 0.175401817                  | \n",
       "| finishedsquarefeet12         | 0.1781782936                 | 0.1957591814                 | 0.146750524                  | \n",
       "| lotsizesquarefeet            | 0.1484208232                 | 0.1102577781                 | 0.192173305                  | \n",
       "| calculatedfinishedsquarefeet | 0.1251299717                 | 0.1117170328                 | 0.149545772                  | \n",
       "| garagetotalsqft              | 0.0387399379                 | 0.0660785809                 | 0.068483578                  | \n",
       "| buildingqualitytypeid        | 0.0262752667                 | 0.0541305681                 | 0.046820405                  | \n",
       "| bathroomcnt                  | 0.0149542663                 | 0.0297236937                 | 0.025157233                  | \n",
       "| bedroomcnt                   | 0.0136398867                 | 0.0307630711                 | 0.030048917                  | \n",
       "| finishedfloor1squarefeet     | 0.0097519235                 | 0.0105529264                 | 0.019566737                  | \n",
       "| airconditioningtypeid        | 0.0096762484                 | 0.0277926968                 | 0.018867925                  | \n",
       "| propertylandusetypeid        | 0.0092807984                 | 0.0036611977                 | 0.011180992                  | \n",
       "| numberofstories              | 0.0072988712                 | 0.0045874948                 | 0.011180992                  | \n",
       "| calculatedbathnbr            | 0.0070543834                 | 0.0176905016                 | 0.007686932                  | \n",
       "| finishedsquarefeet6          | 0.0058383054                 | 0.0133211417                 | 0.008385744                  | \n",
       "| finishedsquarefeet15         | 0.0054444906                 | 0.0061423018                 | 0.009084556                  | \n",
       "| poolsizesum                  | 0.0044760070                 | 0.0254285345                 | 0.010482180                  | \n",
       "| fireplacecnt                 | 0.0043102933                 | 0.0135939049                 | 0.007686932                  | \n",
       "| heatingorsystemtypeid        | 0.0033487409                 | 0.0160496445                 | 0.011879804                  | \n",
       "| pooltypeid7                  | 0.0029074341                 | 0.0067822827                 | 0.006988120                  | \n",
       "| finishedsquarefeet50         | 0.0029054399                 | 0.0099858591                 | 0.007686932                  | \n",
       "| pooltypeid10                 | 0.0026930281                 | 0.0082371838                 | 0.004192872                  | \n",
       "| roomcnt                      | 0.0024760418                 | 0.0037443328                 | 0.010482180                  | \n",
       "| yardbuildingsqft17           | 0.0021893334                 | 0.0128451974                 | 0.006988120                  | \n",
       "| poolcnt                      | 0.0019186995                 | 0.0092938999                 | 0.005590496                  | \n",
       "| fullbathcnt                  | 0.0007754324                 | 0.0022779230                 | 0.004891684                  | \n",
       "| unitcnt                      | 0.0006752561                 | 0.0000551205                 | 0.002096436                  | \n",
       "| garagecarcnt                 | 0.0002547441                 | 0.0001410949                 | 0.000698812                  | \n",
       "\n",
       "\n"
      ],
      "text/plain": [
       "   Feature                      Gain         Cover        Frequency  \n",
       "1  yearbuilt                    0.3713860825 0.2093868552 0.175401817\n",
       "2  finishedsquarefeet12         0.1781782936 0.1957591814 0.146750524\n",
       "3  lotsizesquarefeet            0.1484208232 0.1102577781 0.192173305\n",
       "4  calculatedfinishedsquarefeet 0.1251299717 0.1117170328 0.149545772\n",
       "5  garagetotalsqft              0.0387399379 0.0660785809 0.068483578\n",
       "6  buildingqualitytypeid        0.0262752667 0.0541305681 0.046820405\n",
       "7  bathroomcnt                  0.0149542663 0.0297236937 0.025157233\n",
       "8  bedroomcnt                   0.0136398867 0.0307630711 0.030048917\n",
       "9  finishedfloor1squarefeet     0.0097519235 0.0105529264 0.019566737\n",
       "10 airconditioningtypeid        0.0096762484 0.0277926968 0.018867925\n",
       "11 propertylandusetypeid        0.0092807984 0.0036611977 0.011180992\n",
       "12 numberofstories              0.0072988712 0.0045874948 0.011180992\n",
       "13 calculatedbathnbr            0.0070543834 0.0176905016 0.007686932\n",
       "14 finishedsquarefeet6          0.0058383054 0.0133211417 0.008385744\n",
       "15 finishedsquarefeet15         0.0054444906 0.0061423018 0.009084556\n",
       "16 poolsizesum                  0.0044760070 0.0254285345 0.010482180\n",
       "17 fireplacecnt                 0.0043102933 0.0135939049 0.007686932\n",
       "18 heatingorsystemtypeid        0.0033487409 0.0160496445 0.011879804\n",
       "19 pooltypeid7                  0.0029074341 0.0067822827 0.006988120\n",
       "20 finishedsquarefeet50         0.0029054399 0.0099858591 0.007686932\n",
       "21 pooltypeid10                 0.0026930281 0.0082371838 0.004192872\n",
       "22 roomcnt                      0.0024760418 0.0037443328 0.010482180\n",
       "23 yardbuildingsqft17           0.0021893334 0.0128451974 0.006988120\n",
       "24 poolcnt                      0.0019186995 0.0092938999 0.005590496\n",
       "25 fullbathcnt                  0.0007754324 0.0022779230 0.004891684\n",
       "26 unitcnt                      0.0006752561 0.0000551205 0.002096436\n",
       "27 garagecarcnt                 0.0002547441 0.0001410949 0.000698812"
      ]
     },
     "metadata": {},
     "output_type": "display_data"
    }
   ],
   "source": [
    "#we also want to show most important features in xgboost\n",
    "xgb_importance <- xgb.importance(feature_names =names(train), model = xgb)\n",
    "xgb_feature = xgb_importance$Feature\n",
    "xgb_importance"
   ]
  },
  {
   "cell_type": "code",
   "execution_count": 256,
   "metadata": {},
   "outputs": [
    {
     "data": {
      "text/html": [
       "<ol class=list-inline>\n",
       "\t<li>'yearbuilt'</li>\n",
       "\t<li>'finishedsquarefeet12'</li>\n",
       "\t<li>'lotsizesquarefeet'</li>\n",
       "\t<li>'calculatedfinishedsquarefeet'</li>\n",
       "\t<li>'garagetotalsqft'</li>\n",
       "\t<li>'buildingqualitytypeid'</li>\n",
       "\t<li>'bathroomcnt'</li>\n",
       "\t<li>'bedroomcnt'</li>\n",
       "\t<li>'finishedfloor1squarefeet'</li>\n",
       "\t<li>'propertylandusetypeid'</li>\n",
       "\t<li>'finishedsquarefeet6'</li>\n",
       "\t<li>'pooltypeid7'</li>\n",
       "\t<li>'roomcnt'</li>\n",
       "</ol>\n"
      ],
      "text/latex": [
       "\\begin{enumerate*}\n",
       "\\item 'yearbuilt'\n",
       "\\item 'finishedsquarefeet12'\n",
       "\\item 'lotsizesquarefeet'\n",
       "\\item 'calculatedfinishedsquarefeet'\n",
       "\\item 'garagetotalsqft'\n",
       "\\item 'buildingqualitytypeid'\n",
       "\\item 'bathroomcnt'\n",
       "\\item 'bedroomcnt'\n",
       "\\item 'finishedfloor1squarefeet'\n",
       "\\item 'propertylandusetypeid'\n",
       "\\item 'finishedsquarefeet6'\n",
       "\\item 'pooltypeid7'\n",
       "\\item 'roomcnt'\n",
       "\\end{enumerate*}\n"
      ],
      "text/markdown": [
       "1. 'yearbuilt'\n",
       "2. 'finishedsquarefeet12'\n",
       "3. 'lotsizesquarefeet'\n",
       "4. 'calculatedfinishedsquarefeet'\n",
       "5. 'garagetotalsqft'\n",
       "6. 'buildingqualitytypeid'\n",
       "7. 'bathroomcnt'\n",
       "8. 'bedroomcnt'\n",
       "9. 'finishedfloor1squarefeet'\n",
       "10. 'propertylandusetypeid'\n",
       "11. 'finishedsquarefeet6'\n",
       "12. 'pooltypeid7'\n",
       "13. 'roomcnt'\n",
       "\n",
       "\n"
      ],
      "text/plain": [
       " [1] \"yearbuilt\"                    \"finishedsquarefeet12\"        \n",
       " [3] \"lotsizesquarefeet\"            \"calculatedfinishedsquarefeet\"\n",
       " [5] \"garagetotalsqft\"              \"buildingqualitytypeid\"       \n",
       " [7] \"bathroomcnt\"                  \"bedroomcnt\"                  \n",
       " [9] \"finishedfloor1squarefeet\"     \"propertylandusetypeid\"       \n",
       "[11] \"finishedsquarefeet6\"          \"pooltypeid7\"                 \n",
       "[13] \"roomcnt\"                     "
      ]
     },
     "metadata": {},
     "output_type": "display_data"
    }
   ],
   "source": [
    "#we want to take over lap of the result\n",
    "my_feature=Reduce(intersect, list(xgb_importance$Feature,gbm_feature$var))\n",
    "my_feature"
   ]
  },
  {
   "cell_type": "code",
   "execution_count": 257,
   "metadata": {},
   "outputs": [],
   "source": [
    "newregtrain = subset(train, select = my_feature)\n",
    "newregtrain$abs_logerror = train$abs_logerror\n",
    "newregtest = subset(test, select = my_feature)\n",
    "newregtest$abs_logerror = test$abs_logerror"
   ]
  },
  {
   "cell_type": "code",
   "execution_count": 258,
   "metadata": {},
   "outputs": [
    {
     "data": {
      "text/html": [
       "<table>\n",
       "<thead><tr><th scope=col>yearbuilt</th><th scope=col>finishedsquarefeet12</th><th scope=col>lotsizesquarefeet</th><th scope=col>calculatedfinishedsquarefeet</th><th scope=col>garagetotalsqft</th><th scope=col>buildingqualitytypeid</th><th scope=col>bathroomcnt</th><th scope=col>bedroomcnt</th><th scope=col>finishedfloor1squarefeet</th><th scope=col>propertylandusetypeid</th><th scope=col>finishedsquarefeet6</th><th scope=col>pooltypeid7</th><th scope=col>roomcnt</th><th scope=col>abs_logerror</th></tr></thead>\n",
       "<tbody>\n",
       "\t<tr><td>1959       </td><td>1213       </td><td>188845     </td><td>1213       </td><td>  0        </td><td>9          </td><td>2.0        </td><td>2          </td><td>  0        </td><td>266        </td><td>0          </td><td>0          </td><td> 0         </td><td>0.006894482</td></tr>\n",
       "\t<tr><td>1976       </td><td>2492       </td><td>  6975     </td><td>2492       </td><td>480        </td><td>0          </td><td>2.5        </td><td>4          </td><td>  0        </td><td>261        </td><td>0          </td><td>0          </td><td>10         </td><td>0.036435577</td></tr>\n",
       "\t<tr><td>1947       </td><td>1142       </td><td>  6416     </td><td>1142       </td><td>  0        </td><td>4          </td><td>1.0        </td><td>3          </td><td>  0        </td><td>261        </td><td>0          </td><td>0          </td><td> 0         </td><td>0.048953173</td></tr>\n",
       "\t<tr><td>1990       </td><td>1390       </td><td>  4090     </td><td>1390       </td><td>  0        </td><td>0          </td><td>2.5        </td><td>2          </td><td>  0        </td><td>266        </td><td>0          </td><td>0          </td><td> 0         </td><td>0.028044933</td></tr>\n",
       "\t<tr><td>2006       </td><td>1106       </td><td>     0     </td><td>1106       </td><td>  0        </td><td>0          </td><td>2.5        </td><td>2          </td><td>307        </td><td>266        </td><td>0          </td><td>0          </td><td> 4         </td><td>0.112316988</td></tr>\n",
       "\t<tr><td>1943       </td><td>1590       </td><td>  7675     </td><td>1590       </td><td>  0        </td><td>6          </td><td>2.0        </td><td>3          </td><td>  0        </td><td>261        </td><td>0          </td><td>0          </td><td> 0         </td><td>0.056137989</td></tr>\n",
       "</tbody>\n",
       "</table>\n"
      ],
      "text/latex": [
       "\\begin{tabular}{r|llllllllllllll}\n",
       " yearbuilt & finishedsquarefeet12 & lotsizesquarefeet & calculatedfinishedsquarefeet & garagetotalsqft & buildingqualitytypeid & bathroomcnt & bedroomcnt & finishedfloor1squarefeet & propertylandusetypeid & finishedsquarefeet6 & pooltypeid7 & roomcnt & abs\\_logerror\\\\\n",
       "\\hline\n",
       "\t 1959        & 1213        & 188845      & 1213        &   0         & 9           & 2.0         & 2           &   0         & 266         & 0           & 0           &  0          & 0.006894482\\\\\n",
       "\t 1976        & 2492        &   6975      & 2492        & 480         & 0           & 2.5         & 4           &   0         & 261         & 0           & 0           & 10          & 0.036435577\\\\\n",
       "\t 1947        & 1142        &   6416      & 1142        &   0         & 4           & 1.0         & 3           &   0         & 261         & 0           & 0           &  0          & 0.048953173\\\\\n",
       "\t 1990        & 1390        &   4090      & 1390        &   0         & 0           & 2.5         & 2           &   0         & 266         & 0           & 0           &  0          & 0.028044933\\\\\n",
       "\t 2006        & 1106        &      0      & 1106        &   0         & 0           & 2.5         & 2           & 307         & 266         & 0           & 0           &  4          & 0.112316988\\\\\n",
       "\t 1943        & 1590        &   7675      & 1590        &   0         & 6           & 2.0         & 3           &   0         & 261         & 0           & 0           &  0          & 0.056137989\\\\\n",
       "\\end{tabular}\n"
      ],
      "text/markdown": [
       "\n",
       "yearbuilt | finishedsquarefeet12 | lotsizesquarefeet | calculatedfinishedsquarefeet | garagetotalsqft | buildingqualitytypeid | bathroomcnt | bedroomcnt | finishedfloor1squarefeet | propertylandusetypeid | finishedsquarefeet6 | pooltypeid7 | roomcnt | abs_logerror | \n",
       "|---|---|---|---|---|---|\n",
       "| 1959        | 1213        | 188845      | 1213        |   0         | 9           | 2.0         | 2           |   0         | 266         | 0           | 0           |  0          | 0.006894482 | \n",
       "| 1976        | 2492        |   6975      | 2492        | 480         | 0           | 2.5         | 4           |   0         | 261         | 0           | 0           | 10          | 0.036435577 | \n",
       "| 1947        | 1142        |   6416      | 1142        |   0         | 4           | 1.0         | 3           |   0         | 261         | 0           | 0           |  0          | 0.048953173 | \n",
       "| 1990        | 1390        |   4090      | 1390        |   0         | 0           | 2.5         | 2           |   0         | 266         | 0           | 0           |  0          | 0.028044933 | \n",
       "| 2006        | 1106        |      0      | 1106        |   0         | 0           | 2.5         | 2           | 307         | 266         | 0           | 0           |  4          | 0.112316988 | \n",
       "| 1943        | 1590        |   7675      | 1590        |   0         | 6           | 2.0         | 3           |   0         | 261         | 0           | 0           |  0          | 0.056137989 | \n",
       "\n",
       "\n"
      ],
      "text/plain": [
       "  yearbuilt finishedsquarefeet12 lotsizesquarefeet calculatedfinishedsquarefeet\n",
       "1 1959      1213                 188845            1213                        \n",
       "2 1976      2492                   6975            2492                        \n",
       "3 1947      1142                   6416            1142                        \n",
       "4 1990      1390                   4090            1390                        \n",
       "5 2006      1106                      0            1106                        \n",
       "6 1943      1590                   7675            1590                        \n",
       "  garagetotalsqft buildingqualitytypeid bathroomcnt bedroomcnt\n",
       "1   0             9                     2.0         2         \n",
       "2 480             0                     2.5         4         \n",
       "3   0             4                     1.0         3         \n",
       "4   0             0                     2.5         2         \n",
       "5   0             0                     2.5         2         \n",
       "6   0             6                     2.0         3         \n",
       "  finishedfloor1squarefeet propertylandusetypeid finishedsquarefeet6\n",
       "1   0                      266                   0                  \n",
       "2   0                      261                   0                  \n",
       "3   0                      261                   0                  \n",
       "4   0                      266                   0                  \n",
       "5 307                      266                   0                  \n",
       "6   0                      261                   0                  \n",
       "  pooltypeid7 roomcnt abs_logerror\n",
       "1 0            0      0.006894482 \n",
       "2 0           10      0.036435577 \n",
       "3 0            0      0.048953173 \n",
       "4 0            0      0.028044933 \n",
       "5 0            4      0.112316988 \n",
       "6 0            0      0.056137989 "
      ]
     },
     "metadata": {},
     "output_type": "display_data"
    }
   ],
   "source": [
    "head(newregtrain)"
   ]
  },
  {
   "cell_type": "code",
   "execution_count": 260,
   "metadata": {},
   "outputs": [
    {
     "data": {
      "text/plain": [
       "\n",
       "Call:\n",
       "lm(formula = abs_logerror ~ ., data = newregtrain)\n",
       "\n",
       "Residuals:\n",
       "    Min      1Q  Median      3Q     Max \n",
       "-0.3635 -0.0523 -0.0336 -0.0005  4.3763 \n",
       "\n",
       "Coefficients:\n",
       "                               Estimate Std. Error t value Pr(>|t|)    \n",
       "(Intercept)                   9.068e-01  8.035e-02  11.286  < 2e-16 ***\n",
       "yearbuilt                    -7.147e-05  6.579e-06 -10.863  < 2e-16 ***\n",
       "finishedsquarefeet12          1.531e-06  3.027e-06   0.506 0.612912    \n",
       "lotsizesquarefeet             2.374e-08  5.863e-09   4.049 5.15e-05 ***\n",
       "calculatedfinishedsquarefeet  2.203e-05  3.480e-06   6.329 2.48e-10 ***\n",
       "garagetotalsqft              -3.096e-05  5.235e-06  -5.914 3.37e-09 ***\n",
       "buildingqualitytypeid        -6.201e-04  3.063e-04  -2.025 0.042886 *  \n",
       "bathroomcnt                  -1.103e-02  1.313e-03  -8.404  < 2e-16 ***\n",
       "bedroomcnt                   -6.659e-03  9.359e-04  -7.115 1.13e-12 ***\n",
       "finishedfloor1squarefeet     -6.228e-06  1.866e-06  -3.338 0.000846 ***\n",
       "propertylandusetypeid        -2.625e-03  3.058e-04  -8.584  < 2e-16 ***\n",
       "finishedsquarefeet6           1.317e-05  7.204e-06   1.828 0.067567 .  \n",
       "pooltypeid7                  -3.690e-03  1.785e-03  -2.068 0.038667 *  \n",
       "roomcnt                       8.281e-04  3.909e-04   2.118 0.034150 *  \n",
       "---\n",
       "Signif. codes:  0 '***' 0.001 '**' 0.01 '*' 0.05 '.' 0.1 ' ' 1\n",
       "\n",
       "Residual standard error: 0.1539 on 53250 degrees of freedom\n",
       "Multiple R-squared:  0.01436,\tAdjusted R-squared:  0.01412 \n",
       "F-statistic: 59.67 on 13 and 53250 DF,  p-value: < 2.2e-16\n"
      ]
     },
     "metadata": {},
     "output_type": "display_data"
    }
   ],
   "source": [
    "lms = lm(abs_logerror~., newregtrain)\n",
    "summary(lms)"
   ]
  },
  {
   "cell_type": "code",
   "execution_count": 264,
   "metadata": {},
   "outputs": [
    {
     "data": {
      "text/html": [
       "0.023748874583564"
      ],
      "text/latex": [
       "0.023748874583564"
      ],
      "text/markdown": [
       "0.023748874583564"
      ],
      "text/plain": [
       "[1] 0.02374887"
      ]
     },
     "metadata": {},
     "output_type": "display_data"
    }
   ],
   "source": [
    "p = predict(lms, newregtest)\n",
    "mselms = mean((p-newregtest[,14])^2)\n",
    "mselms"
   ]
  },
  {
   "cell_type": "markdown",
   "metadata": {},
   "source": [
    "train a final linear regression model and evaluate the coefficient to find out which features influence the absolut logerror in predicting hous prices\n"
   ]
  },
  {
   "cell_type": "code",
   "execution_count": 289,
   "metadata": {},
   "outputs": [],
   "source": [
    "bstlms = lm(abs_logerror~yearbuilt+lotsizesquarefeet+calculatedfinishedsquarefeet+bathroomcnt+\n",
    "           bedroomcnt+propertylandusetypeid+roomcnt+buildingqualitytypeid+pooltypeid7 , data =newregtrain)"
   ]
  },
  {
   "cell_type": "code",
   "execution_count": 290,
   "metadata": {},
   "outputs": [
    {
     "data": {
      "text/plain": [
       "\n",
       "Call:\n",
       "lm(formula = abs_logerror ~ yearbuilt + lotsizesquarefeet + calculatedfinishedsquarefeet + \n",
       "    bathroomcnt + bedroomcnt + propertylandusetypeid + roomcnt + \n",
       "    buildingqualitytypeid + pooltypeid7, data = newregtrain)\n",
       "\n",
       "Residuals:\n",
       "    Min      1Q  Median      3Q     Max \n",
       "-0.3190 -0.0525 -0.0337 -0.0005  4.3769 \n",
       "\n",
       "Coefficients:\n",
       "                               Estimate Std. Error t value Pr(>|t|)    \n",
       "(Intercept)                   8.654e-01  5.579e-02  15.512  < 2e-16 ***\n",
       "yearbuilt                    -7.261e-05  6.572e-06 -11.048  < 2e-16 ***\n",
       "lotsizesquarefeet             2.112e-08  5.814e-09   3.633  0.00028 ***\n",
       "calculatedfinishedsquarefeet  2.197e-05  1.297e-06  16.936  < 2e-16 ***\n",
       "bathroomcnt                  -1.174e-02  1.263e-03  -9.300  < 2e-16 ***\n",
       "bedroomcnt                   -6.828e-03  9.245e-04  -7.385 1.54e-13 ***\n",
       "propertylandusetypeid        -2.460e-03  2.116e-04 -11.627  < 2e-16 ***\n",
       "roomcnt                      -6.314e-04  3.252e-04  -1.942  0.05220 .  \n",
       "buildingqualitytypeid         1.698e-04  2.727e-04   0.623  0.53344    \n",
       "pooltypeid7                  -3.684e-03  1.785e-03  -2.063  0.03907 *  \n",
       "---\n",
       "Signif. codes:  0 '***' 0.001 '**' 0.01 '*' 0.05 '.' 0.1 ' ' 1\n",
       "\n",
       "Residual standard error: 0.154 on 53254 degrees of freedom\n",
       "Multiple R-squared:  0.01337,\tAdjusted R-squared:  0.0132 \n",
       "F-statistic: 80.16 on 9 and 53254 DF,  p-value: < 2.2e-16\n"
      ]
     },
     "metadata": {},
     "output_type": "display_data"
    }
   ],
   "source": [
    "summary(bstlms)"
   ]
  },
  {
   "cell_type": "code",
   "execution_count": 292,
   "metadata": {},
   "outputs": [
    {
     "data": {
      "text/html": [
       "0.023809271094493"
      ],
      "text/latex": [
       "0.023809271094493"
      ],
      "text/markdown": [
       "0.023809271094493"
      ],
      "text/plain": [
       "[1] 0.02380927"
      ]
     },
     "metadata": {},
     "output_type": "display_data"
    }
   ],
   "source": [
    "p = predict(bstlms, newregtest)\n",
    "bstlmsmse = mean((p-newregtest[,14])^2)\n",
    "bstlmsmse"
   ]
  },
  {
   "cell_type": "code",
   "execution_count": 293,
   "metadata": {},
   "outputs": [
    {
     "data": {
      "text/plain": [
       "\n",
       "Call:\n",
       "lm(formula = abs_logerror ~ yearbuilt + lotsizesquarefeet + calculatedfinishedsquarefeet + \n",
       "    bathroomcnt + bedroomcnt + propertylandusetypeid + roomcnt + \n",
       "    buildingqualitytypeid + pooltypeid7, data = newregtrain)\n",
       "\n",
       "Coefficients:\n",
       "                 (Intercept)                     yearbuilt  \n",
       "                   8.654e-01                    -7.261e-05  \n",
       "           lotsizesquarefeet  calculatedfinishedsquarefeet  \n",
       "                   2.112e-08                     2.197e-05  \n",
       "                 bathroomcnt                    bedroomcnt  \n",
       "                  -1.174e-02                    -6.828e-03  \n",
       "       propertylandusetypeid                       roomcnt  \n",
       "                  -2.460e-03                    -6.314e-04  \n",
       "       buildingqualitytypeid                   pooltypeid7  \n",
       "                   1.698e-04                    -3.684e-03  \n"
      ]
     },
     "metadata": {},
     "output_type": "display_data"
    }
   ],
   "source": [
    "bstlms"
   ]
  },
  {
   "cell_type": "markdown",
   "metadata": {},
   "source": [
    "## Classification approaches to identify whether a house's price will be over, under or accurately estimated by Zillow"
   ]
  },
  {
   "cell_type": "code",
   "execution_count": 324,
   "metadata": {},
   "outputs": [
    {
     "name": "stderr",
     "output_type": "stream",
     "text": [
      "Loading required package: ggplot2\n",
      "\n",
      "Attaching package: 'caret'\n",
      "\n",
      "The following object is masked from 'package:survival':\n",
      "\n",
      "    cluster\n",
      "\n",
      "The following object is masked from 'package:pls':\n",
      "\n",
      "    R2\n",
      "\n"
     ]
    }
   ],
   "source": [
    "# decision tree\n",
    "library(tree)\n",
    "library(caret)"
   ]
  },
  {
   "cell_type": "code",
   "execution_count": 344,
   "metadata": {},
   "outputs": [],
   "source": [
    "mytree= tree(formula = logerror_interval~.-logerror-abs_logerror, data = train)"
   ]
  },
  {
   "cell_type": "code",
   "execution_count": 345,
   "metadata": {},
   "outputs": [
    {
     "data": {
      "text/plain": [
       "node), split, n, deviance, yval, (yprob)\n",
       "      * denotes terminal node\n",
       "\n",
       "1) root 53264 113800 Overestimate >3% ( 0.2370 0.4383 0.3247 ) *"
      ]
     },
     "metadata": {},
     "output_type": "display_data"
    }
   ],
   "source": [
    "mytree"
   ]
  },
  {
   "cell_type": "code",
   "execution_count": 347,
   "metadata": {},
   "outputs": [
    {
     "data": {
      "text/plain": [
       "Confusion Matrix and Statistics\n",
       "\n",
       "                   Reference\n",
       "Prediction          Accurate Estimate Overestimate >3% Underestimate >3%\n",
       "  Accurate Estimate                 0                0                 0\n",
       "  Overestimate >3%               5496            10089              7243\n",
       "  Underestimate >3%                 0                0                 0\n",
       "\n",
       "Overall Statistics\n",
       "                                          \n",
       "               Accuracy : 0.442           \n",
       "                 95% CI : (0.4355, 0.4484)\n",
       "    No Information Rate : 0.442           \n",
       "    P-Value [Acc > NIR] : 0.5026          \n",
       "                                          \n",
       "                  Kappa : 0               \n",
       " Mcnemar's Test P-Value : NA              \n",
       "\n",
       "Statistics by Class:\n",
       "\n",
       "                     Class: Accurate Estimate Class: Overestimate >3%\n",
       "Sensitivity                            0.0000                   1.000\n",
       "Specificity                            1.0000                   0.000\n",
       "Pos Pred Value                            NaN                   0.442\n",
       "Neg Pred Value                         0.7592                     NaN\n",
       "Prevalence                             0.2408                   0.442\n",
       "Detection Rate                         0.0000                   0.442\n",
       "Detection Prevalence                   0.0000                   1.000\n",
       "Balanced Accuracy                      0.5000                   0.500\n",
       "                     Class: Underestimate >3%\n",
       "Sensitivity                            0.0000\n",
       "Specificity                            1.0000\n",
       "Pos Pred Value                            NaN\n",
       "Neg Pred Value                         0.6827\n",
       "Prevalence                             0.3173\n",
       "Detection Rate                         0.0000\n",
       "Detection Prevalence                   0.0000\n",
       "Balanced Accuracy                      0.5000"
      ]
     },
     "metadata": {},
     "output_type": "display_data"
    }
   ],
   "source": [
    "mytreeP = predict(mytree, test, type = \"class\")\n",
    "confusionMatrix(mytreeP, test$logerror_interval)"
   ]
  },
  {
   "cell_type": "code",
   "execution_count": 342,
   "metadata": {},
   "outputs": [
    {
     "name": "stderr",
     "output_type": "stream",
     "text": [
      "randomForest 4.6-12\n",
      "Type rfNews() to see new features/changes/bug fixes.\n",
      "\n",
      "Attaching package: 'randomForest'\n",
      "\n",
      "The following object is masked from 'package:ggplot2':\n",
      "\n",
      "    margin\n",
      "\n",
      "The following object is masked from 'package:dplyr':\n",
      "\n",
      "    combine\n",
      "\n"
     ]
    }
   ],
   "source": [
    "#then we try random forest with different number of trees \n",
    "library(randomForest)"
   ]
  },
  {
   "cell_type": "code",
   "execution_count": 352,
   "metadata": {},
   "outputs": [
    {
     "data": {
      "text/plain": [
       "Confusion Matrix and Statistics\n",
       "\n",
       "                   Reference\n",
       "Prediction          Accurate Estimate Overestimate >3% Underestimate >3%\n",
       "  Accurate Estimate               569              630               443\n",
       "  Overestimate >3%               4053             7908              5343\n",
       "  Underestimate >3%               874             1551              1457\n",
       "\n",
       "Overall Statistics\n",
       "                                          \n",
       "               Accuracy : 0.4352          \n",
       "                 95% CI : (0.4287, 0.4416)\n",
       "    No Information Rate : 0.442           \n",
       "    P-Value [Acc > NIR] : 0.9809          \n",
       "                                          \n",
       "                  Kappa : 0.0486          \n",
       " Mcnemar's Test P-Value : <2e-16          \n",
       "\n",
       "Statistics by Class:\n",
       "\n",
       "                     Class: Accurate Estimate Class: Overestimate >3%\n",
       "Sensitivity                           0.10353                  0.7838\n",
       "Specificity                           0.93809                  0.2624\n",
       "Pos Pred Value                        0.34653                  0.4570\n",
       "Neg Pred Value                        0.76744                  0.6052\n",
       "Prevalence                            0.24076                  0.4420\n",
       "Detection Rate                        0.02493                  0.3464\n",
       "Detection Prevalence                  0.07193                  0.7580\n",
       "Balanced Accuracy                     0.52081                  0.5231\n",
       "                     Class: Underestimate >3%\n",
       "Sensitivity                           0.20116\n",
       "Specificity                           0.84440\n",
       "Pos Pred Value                        0.37532\n",
       "Neg Pred Value                        0.69461\n",
       "Prevalence                            0.31729\n",
       "Detection Rate                        0.06383\n",
       "Detection Prevalence                  0.17005\n",
       "Balanced Accuracy                     0.52278"
      ]
     },
     "metadata": {},
     "output_type": "display_data"
    }
   ],
   "source": [
    "rf1 = randomForest(logerror_interval~.-logerror-abs_logerror, data = train,ntree = 100)\n",
    "rf1pred=predict(rf1,newdata =test)\n",
    "confusionMatrix(rf1pred, test[,38])"
   ]
  },
  {
   "cell_type": "code",
   "execution_count": 353,
   "metadata": {},
   "outputs": [
    {
     "data": {
      "text/plain": [
       "Confusion Matrix and Statistics\n",
       "\n",
       "                   Reference\n",
       "Prediction          Accurate Estimate Overestimate >3% Underestimate >3%\n",
       "  Accurate Estimate               523              614               424\n",
       "  Overestimate >3%               4137             8048              5489\n",
       "  Underestimate >3%               836             1427              1330\n",
       "\n",
       "Overall Statistics\n",
       "                                          \n",
       "               Accuracy : 0.4337          \n",
       "                 95% CI : (0.4273, 0.4402)\n",
       "    No Information Rate : 0.442           \n",
       "    P-Value [Acc > NIR] : 0.994           \n",
       "                                          \n",
       "                  Kappa : 0.0425          \n",
       " Mcnemar's Test P-Value : <2e-16          \n",
       "\n",
       "Statistics by Class:\n",
       "\n",
       "                     Class: Accurate Estimate Class: Overestimate >3%\n",
       "Sensitivity                           0.09516                  0.7977\n",
       "Specificity                           0.94011                  0.2444\n",
       "Pos Pred Value                        0.33504                  0.4554\n",
       "Neg Pred Value                        0.76616                  0.6040\n",
       "Prevalence                            0.24076                  0.4420\n",
       "Detection Rate                        0.02291                  0.3525\n",
       "Detection Prevalence                  0.06838                  0.7742\n",
       "Balanced Accuracy                     0.51764                  0.5210\n",
       "                     Class: Underestimate >3%\n",
       "Sensitivity                           0.18363\n",
       "Specificity                           0.85480\n",
       "Pos Pred Value                        0.37016\n",
       "Neg Pred Value                        0.69259\n",
       "Prevalence                            0.31729\n",
       "Detection Rate                        0.05826\n",
       "Detection Prevalence                  0.15739\n",
       "Balanced Accuracy                     0.51921"
      ]
     },
     "metadata": {},
     "output_type": "display_data"
    }
   ],
   "source": [
    "rf2 = randomForest(logerror_interval~.-logerror-abs_logerror, data = train,ntree = 200)\n",
    "rf2pred=predict(rf2,newdata =test)\n",
    "confusionMatrix(rf2pred, test[,38])"
   ]
  },
  {
   "cell_type": "code",
   "execution_count": 354,
   "metadata": {},
   "outputs": [
    {
     "data": {
      "text/plain": [
       "Confusion Matrix and Statistics\n",
       "\n",
       "                   Reference\n",
       "Prediction          Accurate Estimate Overestimate >3% Underestimate >3%\n",
       "  Accurate Estimate               526              626               435\n",
       "  Overestimate >3%               4133             8048              5448\n",
       "  Underestimate >3%               837             1415              1360\n",
       "\n",
       "Overall Statistics\n",
       "                                          \n",
       "               Accuracy : 0.4352          \n",
       "                 95% CI : (0.4287, 0.4416)\n",
       "    No Information Rate : 0.442           \n",
       "    P-Value [Acc > NIR] : 0.9809          \n",
       "                                          \n",
       "                  Kappa : 0.0455          \n",
       " Mcnemar's Test P-Value : <2e-16          \n",
       "\n",
       "Statistics by Class:\n",
       "\n",
       "                     Class: Accurate Estimate Class: Overestimate >3%\n",
       "Sensitivity                           0.09571                  0.7977\n",
       "Specificity                           0.93878                  0.2479\n",
       "Pos Pred Value                        0.33144                  0.4565\n",
       "Neg Pred Value                        0.76602                  0.6074\n",
       "Prevalence                            0.24076                  0.4420\n",
       "Detection Rate                        0.02304                  0.3525\n",
       "Detection Prevalence                  0.06952                  0.7723\n",
       "Balanced Accuracy                     0.51724                  0.5228\n",
       "                     Class: Underestimate >3%\n",
       "Sensitivity                           0.18777\n",
       "Specificity                           0.85550\n",
       "Pos Pred Value                        0.37652\n",
       "Neg Pred Value                        0.69385\n",
       "Prevalence                            0.31729\n",
       "Detection Rate                        0.05958\n",
       "Detection Prevalence                  0.15823\n",
       "Balanced Accuracy                     0.52163"
      ]
     },
     "metadata": {},
     "output_type": "display_data"
    }
   ],
   "source": [
    "rf3 = randomForest(logerror_interval~.-logerror-abs_logerror, data = train,ntree = 300)\n",
    "rf3pred=predict(rf3,newdata =test)\n",
    "confusionMatrix(rf3pred, test[,38])"
   ]
  },
  {
   "cell_type": "code",
   "execution_count": 355,
   "metadata": {},
   "outputs": [
    {
     "data": {
      "text/plain": [
       "Confusion Matrix and Statistics\n",
       "\n",
       "                   Reference\n",
       "Prediction          Accurate Estimate Overestimate >3% Underestimate >3%\n",
       "  Accurate Estimate               538              621               442\n",
       "  Overestimate >3%               4149             8100              5488\n",
       "  Underestimate >3%               809             1368              1313\n",
       "\n",
       "Overall Statistics\n",
       "                                          \n",
       "               Accuracy : 0.4359          \n",
       "                 95% CI : (0.4295, 0.4424)\n",
       "    No Information Rate : 0.442           \n",
       "    P-Value [Acc > NIR] : 0.9676          \n",
       "                                          \n",
       "                  Kappa : 0.0459          \n",
       " Mcnemar's Test P-Value : <2e-16          \n",
       "\n",
       "Statistics by Class:\n",
       "\n",
       "                     Class: Accurate Estimate Class: Overestimate >3%\n",
       "Sensitivity                           0.09789                  0.8029\n",
       "Specificity                           0.93867                  0.2435\n",
       "Pos Pred Value                        0.33604                  0.4567\n",
       "Neg Pred Value                        0.76643                  0.6093\n",
       "Prevalence                            0.24076                  0.4420\n",
       "Detection Rate                        0.02357                  0.3548\n",
       "Detection Prevalence                  0.07013                  0.7770\n",
       "Balanced Accuracy                     0.51828                  0.5232\n",
       "                     Class: Underestimate >3%\n",
       "Sensitivity                           0.18128\n",
       "Specificity                           0.86031\n",
       "Pos Pred Value                        0.37622\n",
       "Neg Pred Value                        0.69335\n",
       "Prevalence                            0.31729\n",
       "Detection Rate                        0.05752\n",
       "Detection Prevalence                  0.15288\n",
       "Balanced Accuracy                     0.52080"
      ]
     },
     "metadata": {},
     "output_type": "display_data"
    }
   ],
   "source": [
    "rf4 = randomForest(logerror_interval~.-logerror-abs_logerror, data = train,ntree = 400)\n",
    "rf4pred=predict(rf4,newdata =test)\n",
    "confusionMatrix(rf4pred, test[,38])"
   ]
  },
  {
   "cell_type": "code",
   "execution_count": 356,
   "metadata": {},
   "outputs": [
    {
     "data": {
      "text/plain": [
       "Confusion Matrix and Statistics\n",
       "\n",
       "                   Reference\n",
       "Prediction          Accurate Estimate Overestimate >3% Underestimate >3%\n",
       "  Accurate Estimate               551              623               431\n",
       "  Overestimate >3%               4084             8022              5443\n",
       "  Underestimate >3%               861             1444              1369\n",
       "\n",
       "Overall Statistics\n",
       "                                         \n",
       "               Accuracy : 0.4355         \n",
       "                 95% CI : (0.4291, 0.442)\n",
       "    No Information Rate : 0.442          \n",
       "    P-Value [Acc > NIR] : 0.9754         \n",
       "                                         \n",
       "                  Kappa : 0.0469         \n",
       " Mcnemar's Test P-Value : <2e-16         \n",
       "\n",
       "Statistics by Class:\n",
       "\n",
       "                     Class: Accurate Estimate Class: Overestimate >3%\n",
       "Sensitivity                           0.10025                  0.7951\n",
       "Specificity                           0.93919                  0.2521\n",
       "Pos Pred Value                        0.34330                  0.4571\n",
       "Neg Pred Value                        0.76700                  0.6084\n",
       "Prevalence                            0.24076                  0.4420\n",
       "Detection Rate                        0.02414                  0.3514\n",
       "Detection Prevalence                  0.07031                  0.7687\n",
       "Balanced Accuracy                     0.51972                  0.5236\n",
       "                     Class: Underestimate >3%\n",
       "Sensitivity                           0.18901\n",
       "Specificity                           0.85210\n",
       "Pos Pred Value                        0.37262\n",
       "Neg Pred Value                        0.69333\n",
       "Prevalence                            0.31729\n",
       "Detection Rate                        0.05997\n",
       "Detection Prevalence                  0.16094\n",
       "Balanced Accuracy                     0.52056"
      ]
     },
     "metadata": {},
     "output_type": "display_data"
    }
   ],
   "source": [
    "rf5 = randomForest(logerror_interval~.-logerror-abs_logerror, data = train,ntree = 500)\n",
    "rf5pred=predict(rf5,newdata =test)\n",
    "confusionMatrix(rf5pred, test[,38])"
   ]
  },
  {
   "cell_type": "code",
   "execution_count": 357,
   "metadata": {},
   "outputs": [
    {
     "data": {
      "text/plain": [
       "Confusion Matrix and Statistics\n",
       "\n",
       "                   Reference\n",
       "Prediction          Accurate Estimate Overestimate >3% Underestimate >3%\n",
       "  Accurate Estimate               537              607               431\n",
       "  Overestimate >3%               4132             8061              5443\n",
       "  Underestimate >3%               827             1421              1369\n",
       "\n",
       "Overall Statistics\n",
       "                                          \n",
       "               Accuracy : 0.4366          \n",
       "                 95% CI : (0.4302, 0.4431)\n",
       "    No Information Rate : 0.442           \n",
       "    P-Value [Acc > NIR] : 0.9488          \n",
       "                                          \n",
       "                  Kappa : 0.0478          \n",
       " Mcnemar's Test P-Value : <2e-16          \n",
       "\n",
       "Statistics by Class:\n",
       "\n",
       "                     Class: Accurate Estimate Class: Overestimate >3%\n",
       "Sensitivity                           0.09771                  0.7990\n",
       "Specificity                           0.94011                  0.2484\n",
       "Pos Pred Value                        0.34095                  0.4571\n",
       "Neg Pred Value                        0.76667                  0.6094\n",
       "Prevalence                            0.24076                  0.4420\n",
       "Detection Rate                        0.02352                  0.3531\n",
       "Detection Prevalence                  0.06899                  0.7726\n",
       "Balanced Accuracy                     0.51891                  0.5237\n",
       "                     Class: Underestimate >3%\n",
       "Sensitivity                           0.18901\n",
       "Specificity                           0.85576\n",
       "Pos Pred Value                        0.37849\n",
       "Neg Pred Value                        0.69424\n",
       "Prevalence                            0.31729\n",
       "Detection Rate                        0.05997\n",
       "Detection Prevalence                  0.15845\n",
       "Balanced Accuracy                     0.52238"
      ]
     },
     "metadata": {},
     "output_type": "display_data"
    }
   ],
   "source": [
    "rf10 = randomForest(logerror_interval~.-logerror-abs_logerror, data = train,ntree = 1000)\n",
    "rf10pred=predict(rf10,newdata =test)\n",
    "confusionMatrix(rf10pred, test[,38])"
   ]
  },
  {
   "cell_type": "code",
   "execution_count": 358,
   "metadata": {},
   "outputs": [
    {
     "name": "stderr",
     "output_type": "stream",
     "text": [
      "\n",
      "Attaching package: 'MASS'\n",
      "\n",
      "The following object is masked from 'package:dplyr':\n",
      "\n",
      "    select\n",
      "\n"
     ]
    }
   ],
   "source": [
    "#naive bayes analysis\n",
    "library(MASS)\n",
    "library(stepPlr)"
   ]
  },
  {
   "cell_type": "code",
   "execution_count": 360,
   "metadata": {},
   "outputs": [],
   "source": [
    "newtrain = subset(train, select=-c(abs_logerror, logerror))\n",
    "newtest = subset(test, select = -c(abs_logerror, logerror))"
   ]
  },
  {
   "cell_type": "code",
   "execution_count": 366,
   "metadata": {},
   "outputs": [
    {
     "name": "stderr",
     "output_type": "stream",
     "text": [
      "Warning message in lda.default(x, grouping, ...):\n",
      "\"variables are collinear\""
     ]
    }
   ],
   "source": [
    "mylda = lda(factor(logerror_interval)~., data= newtrain)"
   ]
  },
  {
   "cell_type": "code",
   "execution_count": 365,
   "metadata": {},
   "outputs": [
    {
     "data": {
      "text/html": [
       "<dl class=dl-horizontal>\n",
       "\t<dt>Accurate Estimate</dt>\n",
       "\t\t<dd>5496</dd>\n",
       "\t<dt>Overestimate &gt;3%</dt>\n",
       "\t\t<dd>10089</dd>\n",
       "\t<dt>Underestimate &gt;3%</dt>\n",
       "\t\t<dd>7243</dd>\n",
       "</dl>\n"
      ],
      "text/latex": [
       "\\begin{description*}\n",
       "\\item[Accurate Estimate] 5496\n",
       "\\item[Overestimate >3\\textbackslash{}\\%] 10089\n",
       "\\item[Underestimate >3\\textbackslash{}\\%] 7243\n",
       "\\end{description*}\n"
      ],
      "text/markdown": [
       "Accurate Estimate\n",
       ":   5496Overestimate &amp;gt;3%\n",
       ":   10089Underestimate &amp;gt;3%\n",
       ":   7243\n",
       "\n"
      ],
      "text/plain": [
       "Accurate Estimate  Overestimate >3% Underestimate >3% \n",
       "             5496             10089              7243 "
      ]
     },
     "metadata": {},
     "output_type": "display_data"
    }
   ],
   "source": [
    "summary(test$logerror_interval)"
   ]
  },
  {
   "cell_type": "code",
   "execution_count": 367,
   "metadata": {},
   "outputs": [
    {
     "data": {
      "text/plain": [
       "Call:\n",
       "lda(factor(logerror_interval) ~ ., data = newtrain)\n",
       "\n",
       "Prior probabilities of groups:\n",
       "Accurate Estimate  Overestimate >3% Underestimate >3% \n",
       "        0.2369706         0.4382885         0.3247409 \n",
       "\n",
       "Group means:\n",
       "                  airconditioningtypeid architecturalstyletypeid basementsqft\n",
       "Accurate Estimate             0.6346855               0.02749168    0.1101252\n",
       "Overestimate >3%              0.6002999               0.02056115    0.7625187\n",
       "Underestimate >3%             0.5386483               0.01404868    0.2383650\n",
       "                  bathroomcnt bedroomcnt buildingqualitytypeid\n",
       "Accurate Estimate    2.274838   3.027967              3.891697\n",
       "Overestimate >3%     2.346241   3.073420              4.251660\n",
       "Underestimate >3%    2.189137   2.953980              4.345320\n",
       "                  calculatedbathnbr decktypeid finishedfloor1squarefeet\n",
       "Accurate Estimate          2.274838  0.4915227                119.73293\n",
       "Overestimate >3%           2.345770  0.5908760                110.45864\n",
       "Underestimate >3%          2.188819  0.4960398                 99.21882\n",
       "                  calculatedfinishedsquarefeet finishedsquarefeet12\n",
       "Accurate Estimate                     1708.062             1675.730\n",
       "Overestimate >3%                      1847.397             1790.262\n",
       "Underestimate >3%                     1684.559             1619.377\n",
       "                  finishedsquarefeet15 finishedsquarefeet50 finishedsquarefeet6\n",
       "Accurate Estimate             29.44985             120.1606            2.882665\n",
       "Overestimate >3%              52.34573             111.9013            4.789077\n",
       "Underestimate >3%             58.55154             100.6173            6.630398\n",
       "                  fireplacecnt fullbathcnt garagecarcnt garagetotalsqft\n",
       "Accurate Estimate    0.1401521    2.192759    0.7113770        132.5490\n",
       "Overestimate >3%     0.1316342    2.277704    0.6058685        120.2969\n",
       "Underestimate >3%    0.1184020    2.134474    0.5372030        102.8017\n",
       "                  hashottuborspa heatingorsystemtypeid lotsizesquarefeet\n",
       "Accurate Estimate     0.01925210              2.251228          26178.37\n",
       "Overestimate >3%      0.02021846              2.536903          27005.22\n",
       "Underestimate >3%     0.02127537              2.793721          26042.02\n",
       "                    poolcnt poolsizesum pooltypeid10 pooltypeid2 pooltypeid7\n",
       "Accurate Estimate 0.1990968    6.974331  0.006496593  0.01275551   0.1857867\n",
       "Overestimate >3%  0.2052688    5.687042  0.006425359  0.01379310   0.1912187\n",
       "Underestimate >3% 0.2303868    5.984737  0.005607909  0.01566746   0.2144881\n",
       "                  propertylandusetypeid  roomcnt threequarterbathnbr\n",
       "Accurate Estimate              262.4018 1.623118           0.1641578\n",
       "Overestimate >3%               262.0245 1.518184           0.1361319\n",
       "Underestimate >3%              261.9290 1.387639           0.1086894\n",
       "                  typeconstructiontypeid   unitcnt yardbuildingsqft17\n",
       "Accurate Estimate             0.02281730 0.6063223          11.294169\n",
       "Overestimate >3%              0.01910473 0.6816877           8.448233\n",
       "Underestimate >3%             0.01248771 0.7163092           9.336301\n",
       "                  yardbuildingsqft26 yearbuilt numberofstories fireplaceflag\n",
       "Accurate Estimate          0.1724766  1970.189       0.3584218   0.002456029\n",
       "Overestimate >3%           0.2308846  1962.591       0.3330049   0.002612979\n",
       "Underestimate >3%          0.1904955  1960.604       0.2982020   0.001850032\n",
       "\n",
       "Coefficients of linear discriminants:\n",
       "                                       LD1           LD2\n",
       "airconditioningtypeid        -7.011497e-02  8.096912e-03\n",
       "architecturalstyletypeid     -2.222247e-01  1.394428e-01\n",
       "basementsqft                  1.921775e-03 -4.821473e-03\n",
       "bathroomcnt                   8.720737e-01 -1.482258e+00\n",
       "bedroomcnt                   -4.079963e-01  1.355683e-01\n",
       "buildingqualitytypeid        -3.586189e-02  1.009820e-01\n",
       "calculatedbathnbr            -5.443842e-01  6.636959e-01\n",
       "decktypeid                    1.230304e-02 -1.303932e-03\n",
       "finishedfloor1squarefeet     -9.830324e-04  3.387909e-05\n",
       "calculatedfinishedsquarefeet  2.901954e-04 -6.015069e-04\n",
       "finishedsquarefeet12          2.712484e-04 -5.121208e-04\n",
       "finishedsquarefeet15         -3.608358e-05 -4.486872e-04\n",
       "finishedsquarefeet50          9.766949e-04 -1.446126e-04\n",
       "finishedsquarefeet6           1.876834e-04  4.594048e-04\n",
       "fireplacecnt                  1.242651e-02  2.486723e-01\n",
       "fullbathcnt                  -5.160930e-01  6.719232e-01\n",
       "garagecarcnt                 -2.014743e-01  4.032877e-01\n",
       "garagetotalsqft              -8.018082e-04 -1.051128e-03\n",
       "hashottuborspa                2.026205e+00  4.366629e-01\n",
       "heatingorsystemtypeid         7.699319e-02  1.611966e-02\n",
       "lotsizesquarefeet            -2.561840e-07 -6.512465e-07\n",
       "poolcnt                      -3.521641e+00  1.510426e+00\n",
       "poolsizesum                  -1.149025e-03  1.105737e-03\n",
       "pooltypeid10                 -1.285246e+00  3.810617e-01\n",
       "pooltypeid2                   3.457643e+00  4.556761e-01\n",
       "pooltypeid7                   4.004804e+00 -4.102993e-01\n",
       "propertylandusetypeid        -8.757503e-02 -8.392270e-02\n",
       "roomcnt                       2.331223e-01 -5.055354e-02\n",
       "threequarterbathnbr          -7.072683e-01  2.205812e-01\n",
       "typeconstructiontypeid       -1.035663e-01 -3.905168e-01\n",
       "unitcnt                       1.158521e+00 -7.951412e-01\n",
       "yardbuildingsqft17           -8.454926e-04  2.922287e-03\n",
       "yardbuildingsqft26            1.508685e-03 -1.158092e-03\n",
       "yearbuilt                    -1.798482e-03  1.338212e-03\n",
       "numberofstories              -3.120943e-01 -2.462067e-01\n",
       "fireplaceflag                 1.062758e+00 -6.933104e-01\n",
       "\n",
       "Proportion of trace:\n",
       "   LD1    LD2 \n",
       "0.5718 0.4282 "
      ]
     },
     "metadata": {},
     "output_type": "display_data"
    }
   ],
   "source": [
    "mylda"
   ]
  },
  {
   "cell_type": "code",
   "execution_count": 377,
   "metadata": {},
   "outputs": [
    {
     "data": {
      "text/plain": [
       "Confusion Matrix and Statistics\n",
       "\n",
       "                   Reference\n",
       "Prediction          Accurate Estimate Overestimate >3% Underestimate >3%\n",
       "  Accurate Estimate                54               45                46\n",
       "  Overestimate >3%               5081             9474              6603\n",
       "  Underestimate >3%               361              570               594\n",
       "\n",
       "Overall Statistics\n",
       "                                          \n",
       "               Accuracy : 0.4434          \n",
       "                 95% CI : (0.4369, 0.4499)\n",
       "    No Information Rate : 0.442           \n",
       "    P-Value [Acc > NIR] : 0.3324          \n",
       "                                          \n",
       "                  Kappa : 0.0195          \n",
       " Mcnemar's Test P-Value : <2e-16          \n",
       "\n",
       "Statistics by Class:\n",
       "\n",
       "                     Class: Accurate Estimate Class: Overestimate >3%\n",
       "Sensitivity                          0.009825                 0.93904\n",
       "Specificity                          0.994750                 0.08282\n",
       "Pos Pred Value                       0.372414                 0.44777\n",
       "Neg Pred Value                       0.760085                 0.63174\n",
       "Prevalence                           0.240757                 0.44196\n",
       "Detection Rate                       0.002366                 0.41502\n",
       "Detection Prevalence                 0.006352                 0.92684\n",
       "Balanced Accuracy                    0.502287                 0.51093\n",
       "                     Class: Underestimate >3%\n",
       "Sensitivity                           0.08201\n",
       "Specificity                           0.94026\n",
       "Pos Pred Value                        0.38951\n",
       "Neg Pred Value                        0.68788\n",
       "Prevalence                            0.31729\n",
       "Detection Rate                        0.02602\n",
       "Detection Prevalence                  0.06680\n",
       "Balanced Accuracy                     0.51114"
      ]
     },
     "metadata": {},
     "output_type": "display_data"
    }
   ],
   "source": [
    "plda=predict(mylda,newtest)\n",
    "confusionMatrix(plda$class, test[,38])"
   ]
  },
  {
   "cell_type": "code",
   "execution_count": 383,
   "metadata": {},
   "outputs": [],
   "source": [
    "#plr does not really work for this situation\n",
    "# mylpr = plr(newtrain[,1:36],train[,38])"
   ]
  },
  {
   "cell_type": "code",
   "execution_count": 393,
   "metadata": {},
   "outputs": [],
   "source": [
    "#use gbm for multinomial class\n",
    "mygbm = gbm(logerror_interval ~.-logerror-abs_logerror, data = train, distribution=\"multinomial\",interaction.depth = 5, shrinkage = 0.05,\n",
    "               n.trees = 500, cv.folds = 5)"
   ]
  },
  {
   "cell_type": "code",
   "execution_count": 409,
   "metadata": {},
   "outputs": [
    {
     "data": {
      "text/plain": [
       "gbm(formula = logerror_interval ~ . - logerror - abs_logerror, \n",
       "    distribution = \"multinomial\", data = train, n.trees = 500, \n",
       "    interaction.depth = 5, shrinkage = 0.05, cv.folds = 5)\n",
       "A gradient boosted model with multinomial loss function.\n",
       "500 iterations were performed.\n",
       "The best cross-validation iteration was 155.\n",
       "There were 36 predictors of which 33 had non-zero influence."
      ]
     },
     "metadata": {},
     "output_type": "display_data"
    }
   ],
   "source": [
    "mygbm"
   ]
  },
  {
   "cell_type": "code",
   "execution_count": 429,
   "metadata": {},
   "outputs": [
    {
     "data": {
      "image/png": "[encoded data removed]",
      "text/plain": [
       "plot without title"
      ]
     },
     "metadata": {},
     "output_type": "display_data"
    }
   ],
   "source": [
    "\n",
    "para =gbm.perf( mygbm, method=\"cv\" )\n",
    "pregbm = predict(mygbm, newdata=test, n.trees = para, type =\"response\")\n",
    "p.predBST <- apply(pregbm, 1, which.max)\n",
    "p.predBST=data.frame(p.predBST)\n",
    "p.predBST$class = 0\n"
   ]
  },
  {
   "cell_type": "code",
   "execution_count": 430,
   "metadata": {},
   "outputs": [
    {
     "data": {
      "text/html": [
       "<dl class=dl-horizontal>\n",
       "\t<dt>Accurate Estimate</dt>\n",
       "\t\t<dd>5496</dd>\n",
       "\t<dt>Overestimate &gt;3%</dt>\n",
       "\t\t<dd>10089</dd>\n",
       "\t<dt>Underestimate &gt;3%</dt>\n",
       "\t\t<dd>7243</dd>\n",
       "</dl>\n"
      ],
      "text/latex": [
       "\\begin{description*}\n",
       "\\item[Accurate Estimate] 5496\n",
       "\\item[Overestimate >3\\textbackslash{}\\%] 10089\n",
       "\\item[Underestimate >3\\textbackslash{}\\%] 7243\n",
       "\\end{description*}\n"
      ],
      "text/markdown": [
       "Accurate Estimate\n",
       ":   5496Overestimate &amp;gt;3%\n",
       ":   10089Underestimate &amp;gt;3%\n",
       ":   7243\n",
       "\n"
      ],
      "text/plain": [
       "Accurate Estimate  Overestimate >3% Underestimate >3% \n",
       "             5496             10089              7243 "
      ]
     },
     "metadata": {},
     "output_type": "display_data"
    }
   ],
   "source": [
    "summary(test$logerror_interval)"
   ]
  },
  {
   "cell_type": "code",
   "execution_count": 437,
   "metadata": {},
   "outputs": [
    {
     "data": {
      "text/plain": [
       "Confusion Matrix and Statistics\n",
       "\n",
       "                   Reference\n",
       "Prediction          Accurate Estimate Overestimate >3% Underestimate >3%\n",
       "  Accurate Estimate               218              214               187\n",
       "  Overestimate >3%               4798             9106              6221\n",
       "  Underestimate >3%               480              769               835\n",
       "\n",
       "Overall Statistics\n",
       "                                          \n",
       "               Accuracy : 0.445           \n",
       "                 95% CI : (0.4386, 0.4515)\n",
       "    No Information Rate : 0.442           \n",
       "    P-Value [Acc > NIR] : 0.1771          \n",
       "                                          \n",
       "                  Kappa : 0.0346          \n",
       " Mcnemar's Test P-Value : <2e-16          \n",
       "\n",
       "Statistics by Class:\n",
       "\n",
       "                     Class: Accurate Estimate Class: Overestimate >3%\n",
       "Sensitivity                           0.03967                  0.9026\n",
       "Specificity                           0.97686                  0.1350\n",
       "Pos Pred Value                        0.35218                  0.4525\n",
       "Neg Pred Value                        0.76235                  0.6363\n",
       "Prevalence                            0.24076                  0.4420\n",
       "Detection Rate                        0.00955                  0.3989\n",
       "Detection Prevalence                  0.02712                  0.8816\n",
       "Balanced Accuracy                     0.50826                  0.5188\n",
       "                     Class: Underestimate >3%\n",
       "Sensitivity                           0.11528\n",
       "Specificity                           0.91986\n",
       "Pos Pred Value                        0.40067\n",
       "Neg Pred Value                        0.69109\n",
       "Prevalence                            0.31729\n",
       "Detection Rate                        0.03658\n",
       "Detection Prevalence                  0.09129\n",
       "Balanced Accuracy                     0.51757"
      ]
     },
     "metadata": {},
     "output_type": "display_data"
    }
   ],
   "source": [
    "p.predBST$class <- replace(p.predBST$class, p.predBST$p.predBST==1, \"Accurate Estimate\")\n",
    "p.predBST$class <- replace(p.predBST$class, p.predBST$p.predBST==2, \"Overestimate >3%\")\n",
    "p.predBST$class <- replace(p.predBST$class, p.predBST$p.predBST==3, \"Underestimate >3%\")\n",
    "confusionMatrix(p.predBST$class, test[,38])"
   ]
  },
  {
   "cell_type": "code",
   "execution_count": 442,
   "metadata": {},
   "outputs": [],
   "source": [
    "target = train$logerror\n",
    "dtrain = subset(train, select=-c(logerror, logerror_interval, abs_logerror))\n",
    "dtest = subset(test, select=-c(logerror, logerror_interval, abs_logerror))\n",
    "dtrain <- xgb.DMatrix(data.matrix(dtrain),label=target, missing=NA)\n",
    "dtest <-xgb.DMatrix(data.matrix(dtest))"
   ]
  },
  {
   "cell_type": "code",
   "execution_count": 443,
   "metadata": {},
   "outputs": [
    {
     "name": "stdout",
     "output_type": "stream",
     "text": [
      "[1] 0.02\n",
      "[1]\ttrain-rmse:0.489153+0.000348\ttest-rmse:0.489160+0.001427 \n",
      "[1] 0.04\n",
      "[1]\ttrain-rmse:0.489153+0.000600\ttest-rmse:0.489159+0.002320 \n",
      "[1] 0.06\n",
      "[1]\ttrain-rmse:0.489155+0.000452\ttest-rmse:0.489162+0.001831 \n",
      "[1] 0.08\n",
      "[1]\ttrain-rmse:0.489154+0.000742\ttest-rmse:0.489155+0.002973 \n",
      "[1] 0.1\n",
      "[1]\ttrain-rmse:0.489154+0.000584\ttest-rmse:0.489159+0.002343 \n",
      "[1] 0.12\n",
      "[1]\ttrain-rmse:0.489156+0.000578\ttest-rmse:0.489160+0.002318 \n",
      "[1] 0.14\n",
      "[1]\ttrain-rmse:0.489156+0.000366\ttest-rmse:0.489161+0.001433 \n",
      "[1] 0.16\n",
      "[1]\ttrain-rmse:0.489156+0.000750\ttest-rmse:0.489153+0.003050 \n",
      "[1] 0.18\n",
      "[1]\ttrain-rmse:0.489156+0.000341\ttest-rmse:0.489161+0.001313 \n",
      "[1] 0.2\n",
      "[1]\ttrain-rmse:0.489157+0.000932\ttest-rmse:0.489149+0.003683 \n",
      "[1] 0.22\n",
      "[1]\ttrain-rmse:0.489157+0.000900\ttest-rmse:0.489153+0.003588 \n",
      "[1] 0.24\n",
      "[1]\ttrain-rmse:0.489158+0.000251\ttest-rmse:0.489166+0.001080 \n",
      "[1] 0.26\n",
      "[1]\ttrain-rmse:0.489158+0.000404\ttest-rmse:0.489161+0.001723 \n",
      "[1] 0.28\n",
      "[1]\ttrain-rmse:0.489158+0.000573\ttest-rmse:0.489160+0.002360 \n",
      "[1] 0.3\n",
      "[1]\ttrain-rmse:0.489158+0.000404\ttest-rmse:0.489160+0.001571 \n",
      "[1] 0.32\n",
      "[1]\ttrain-rmse:0.489159+0.000453\ttest-rmse:0.489160+0.001887 \n",
      "[1] 0.34\n",
      "[1]\ttrain-rmse:0.489158+0.000967\ttest-rmse:0.489148+0.003854 \n",
      "[1] 0.36\n",
      "[1]\ttrain-rmse:0.489158+0.000492\ttest-rmse:0.489161+0.001982 \n",
      "[1] 0.38\n",
      "[1]\ttrain-rmse:0.489159+0.000451\ttest-rmse:0.489160+0.001826 \n",
      "[1] 0.4\n",
      "[1]\ttrain-rmse:0.489159+0.000811\ttest-rmse:0.489154+0.003264 \n",
      "[1] 0.42\n",
      "[1]\ttrain-rmse:0.489158+0.000612\ttest-rmse:0.489160+0.002417 \n",
      "[1] 0.44\n",
      "[1]\ttrain-rmse:0.489158+0.000999\ttest-rmse:0.489150+0.004021 \n",
      "[1] 0.46\n",
      "[1]\ttrain-rmse:0.489160+0.000541\ttest-rmse:0.489161+0.002143 \n",
      "[1] 0.48\n",
      "[1]\ttrain-rmse:0.489160+0.000515\ttest-rmse:0.489163+0.002048 \n",
      "[1] 0.5\n",
      "[1]\ttrain-rmse:0.489160+0.000387\ttest-rmse:0.489166+0.001504 \n",
      "[1] 0.52\n",
      "[1]\ttrain-rmse:0.489159+0.000803\ttest-rmse:0.489156+0.003220 \n",
      "[1] 0.54\n",
      "[1]\ttrain-rmse:0.489160+0.000393\ttest-rmse:0.489164+0.001550 \n",
      "[1] 0.56\n",
      "[1]\ttrain-rmse:0.489160+0.000482\ttest-rmse:0.489160+0.002004 \n",
      "[1] 0.58\n",
      "[1]\ttrain-rmse:0.489159+0.000742\ttest-rmse:0.489155+0.003025 \n",
      "[1] 0.6\n",
      "[1]\ttrain-rmse:0.489161+0.000503\ttest-rmse:0.489160+0.002055 \n",
      "[1] 0.62\n",
      "[1]\ttrain-rmse:0.489161+0.000253\ttest-rmse:0.489163+0.001051 \n",
      "[1] 0.64\n",
      "[1]\ttrain-rmse:0.489160+0.000798\ttest-rmse:0.489154+0.003237 \n",
      "[1] 0.66\n",
      "[1]\ttrain-rmse:0.489160+0.000743\ttest-rmse:0.489156+0.002901 \n",
      "[1] 0.68\n",
      "[1]\ttrain-rmse:0.489161+0.000682\ttest-rmse:0.489158+0.002803 \n",
      "[1] 0.7\n",
      "[1]\ttrain-rmse:0.489161+0.000321\ttest-rmse:0.489164+0.001348 \n",
      "[1] 0.72\n",
      "[1]\ttrain-rmse:0.489161+0.000264\ttest-rmse:0.489166+0.001105 \n",
      "[1] 0.74\n",
      "[1]\ttrain-rmse:0.489161+0.000434\ttest-rmse:0.489161+0.001764 \n",
      "[1] 0.76\n",
      "[1]\ttrain-rmse:0.489161+0.000577\ttest-rmse:0.489160+0.002347 \n",
      "[1] 0.78\n",
      "[1]\ttrain-rmse:0.489162+0.000703\ttest-rmse:0.489157+0.002820 \n",
      "[1] 0.8\n",
      "[1]\ttrain-rmse:0.489161+0.000467\ttest-rmse:0.489162+0.001872 \n",
      "[1] 0.82\n",
      "[1]\ttrain-rmse:0.489161+0.000868\ttest-rmse:0.489154+0.003515 \n",
      "[1] 0.84\n",
      "[1]\ttrain-rmse:0.489162+0.000573\ttest-rmse:0.489159+0.002310 \n",
      "[1] 0.86\n",
      "[1]\ttrain-rmse:0.489162+0.000549\ttest-rmse:0.489161+0.002177 \n",
      "[1] 0.88\n",
      "[1]\ttrain-rmse:0.489162+0.000730\ttest-rmse:0.489157+0.002936 \n",
      "[1] 0.9\n",
      "[1]\ttrain-rmse:0.489161+0.000949\ttest-rmse:0.489152+0.003793 \n",
      "[1] 0.92\n",
      "[1]\ttrain-rmse:0.489161+0.001130\ttest-rmse:0.489144+0.004578 \n",
      "[1] 0.94\n",
      "[1]\ttrain-rmse:0.489162+0.000652\ttest-rmse:0.489160+0.002603 \n",
      "[1] 0.96\n",
      "[1]\ttrain-rmse:0.489163+0.000273\ttest-rmse:0.489164+0.001170 \n",
      "[1] 0.98\n",
      "[1]\ttrain-rmse:0.489163+0.000678\ttest-rmse:0.489159+0.002749 \n",
      "[1] 1\n",
      "[1]\ttrain-rmse:0.489163+0.000388\ttest-rmse:0.489163+0.001548 \n"
     ]
    }
   ],
   "source": [
    "#use crossvalidation to select best shrikage parameter alpha\n",
    "for (a in seq(0.02, 1, 0.02)){\n",
    "param = list(booster = \"gbtree\", eta=0.05, max_depth = 5, min_child_weight = 100, objective = 'reg:linear',\n",
    "             eval_metirc  =  'rmse', alpha = a)\n",
    "    print(a)\n",
    "xgb <- xgb.cv(params = param\n",
    "                 , data = dtrain\n",
    "                # , watchlist = list(train = dtrain)\n",
    "                 , nrounds = 1\n",
    "                 , verbose = 1\n",
    "                 , print_every_n = 5\n",
    "                 , nfold = 5)\n",
    "}"
   ]
  },
  {
   "cell_type": "code",
   "execution_count": 444,
   "metadata": {},
   "outputs": [],
   "source": [
    "#alpha =0.2\n",
    "param = list(booster = \"gbtree\", eta=0.05, max_depth = 5, min_child_weight = 100, objective = 'reg:linear',\n",
    "             eval_metirc  =  'rmse', alpha = 0.2)\n",
    "xgb <- xgb.train(params = param\n",
    "                 , data = dtrain\n",
    "                # , watchlist = list(train = dtrain)\n",
    "                 , nrounds = 100\n",
    "                 , verbose = 1\n",
    "                 , print_every_n = 5\n",
    ")\n",
    "preds <- predict(xgb,dtest)\n"
   ]
  },
  {
   "cell_type": "code",
   "execution_count": 448,
   "metadata": {},
   "outputs": [
    {
     "name": "stderr",
     "output_type": "stream",
     "text": [
      "Warning message in confusionMatrix.default(preds_cat, test[, 38]):\n",
      "\"Levels are not in the same order for reference and data. Refactoring data to match.\""
     ]
    },
    {
     "data": {
      "text/plain": [
       "Confusion Matrix and Statistics\n",
       "\n",
       "                   Reference\n",
       "Prediction          Accurate Estimate Overestimate >3% Underestimate >3%\n",
       "  Accurate Estimate              1005             1594              1536\n",
       "  Overestimate >3%               4483             8466              5675\n",
       "  Underestimate >3%                 8               29                32\n",
       "\n",
       "Overall Statistics\n",
       "                                          \n",
       "               Accuracy : 0.4163          \n",
       "                 95% CI : (0.4099, 0.4227)\n",
       "    No Information Rate : 0.442           \n",
       "    P-Value [Acc > NIR] : 1               \n",
       "                                          \n",
       "                  Kappa : 0.0187          \n",
       " Mcnemar's Test P-Value : <2e-16          \n",
       "\n",
       "Statistics by Class:\n",
       "\n",
       "                     Class: Accurate Estimate Class: Overestimate >3%\n",
       "Sensitivity                           0.18286                  0.8391\n",
       "Specificity                           0.81941                  0.2026\n",
       "Pos Pred Value                        0.24305                  0.4546\n",
       "Neg Pred Value                        0.75975                  0.6139\n",
       "Prevalence                            0.24076                  0.4420\n",
       "Detection Rate                        0.04402                  0.3709\n",
       "Detection Prevalence                  0.18114                  0.8158\n",
       "Balanced Accuracy                     0.50113                  0.5209\n",
       "                     Class: Underestimate >3%\n",
       "Sensitivity                          0.004418\n",
       "Specificity                          0.997626\n",
       "Pos Pred Value                       0.463768\n",
       "Neg Pred Value                       0.683158\n",
       "Prevalence                           0.317286\n",
       "Detection Rate                       0.001402\n",
       "Detection Prevalence                 0.003023\n",
       "Balanced Accuracy                    0.501022"
      ]
     },
     "metadata": {},
     "output_type": "display_data"
    }
   ],
   "source": [
    "preds_cat<- cut(preds, breaks=c(-Inf, -0.013,0.012, Inf), \n",
    "                                labels=c(\"Underestimate >3%\",\n",
    "                                        \"Accurate Estimate\",\n",
    "                                         \"Overestimate >3%\"))\n",
    "confusionMatrix(preds_cat, test[,38])"
   ]
  },
  {
   "cell_type": "code",
   "execution_count": null,
   "metadata": {},
   "outputs": [],
   "source": []
  },
  {
   "cell_type": "code",
   "execution_count": null,
   "metadata": {},
   "outputs": [],
   "source": []
  },
  {
   "cell_type": "code",
   "execution_count": null,
   "metadata": {},
   "outputs": [],
   "source": []
  }
 ],
 "metadata": {
  "kernelspec": {
   "display_name": "R",
   "language": "R",
   "name": "ir"
  },
  "language_info": {
   "codemirror_mode": "r",
   "file_extension": ".r",
   "mimetype": "text/x-r-source",
   "name": "R",
   "pygments_lexer": "r",
   "version": "3.4.3"
  }
 },
 "nbformat": 4,
 "nbformat_minor": 2
}
