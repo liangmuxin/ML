{
 "cells": [
  {
   "cell_type": "code",
   "execution_count": 2,
   "metadata": {},
   "outputs": [],
   "source": [
    "alldata= read.csv(\"Frogs_MFCCs.csv\")\n",
    "alldata$Family <- as.factor(alldata$Family)\n",
    "alldata$Genus <- as.factor(alldata$Genus)\n",
    "alldata$Species <- as.factor(alldata$Species)"
   ]
  },
  {
   "cell_type": "code",
   "execution_count": 3,
   "metadata": {},
   "outputs": [
    {
     "data": {
      "text/html": [
       "<ol class=list-inline>\n",
       "\t<li>7195</li>\n",
       "\t<li>26</li>\n",
       "</ol>\n"
      ],
      "text/latex": [
       "\\begin{enumerate*}\n",
       "\\item 7195\n",
       "\\item 26\n",
       "\\end{enumerate*}\n"
      ],
      "text/markdown": [
       "1. 7195\n",
       "2. 26\n",
       "\n",
       "\n"
      ],
      "text/plain": [
       "[1] 7195   26"
      ]
     },
     "metadata": {},
     "output_type": "display_data"
    }
   ],
   "source": [
    "dim(alldata)"
   ]
  },
  {
   "cell_type": "code",
   "execution_count": 4,
   "metadata": {},
   "outputs": [],
   "source": [
    "smp_size <- floor(0.7 * nrow(alldata))\n",
    "set.seed(123)\n",
    "train_ind <- sample(nrow(alldata), size = smp_size)\n",
    "\n",
    "train <- alldata[train_ind, ]\n",
    "test <- alldata[-train_ind, ]\n",
    "rownames(train) <- seq(length=nrow(train))\n",
    "rownames(test) <- seq(length=nrow(test))"
   ]
  },
  {
   "cell_type": "code",
   "execution_count": 5,
   "metadata": {},
   "outputs": [
    {
     "data": {
      "text/html": [
       "<ol class=list-inline>\n",
       "\t<li>2159</li>\n",
       "\t<li>26</li>\n",
       "</ol>\n"
      ],
      "text/latex": [
       "\\begin{enumerate*}\n",
       "\\item 2159\n",
       "\\item 26\n",
       "\\end{enumerate*}\n"
      ],
      "text/markdown": [
       "1. 2159\n",
       "2. 26\n",
       "\n",
       "\n"
      ],
      "text/plain": [
       "[1] 2159   26"
      ]
     },
     "metadata": {},
     "output_type": "display_data"
    }
   ],
   "source": [
    "dim(test)"
   ]
  },
  {
   "cell_type": "code",
   "execution_count": 6,
   "metadata": {},
   "outputs": [
    {
     "data": {
      "text/html": [
       "<table>\n",
       "<thead><tr><th scope=col>MFCCs_.1</th><th scope=col>MFCCs_.2</th><th scope=col>MFCCs_.3</th><th scope=col>MFCCs_.4</th><th scope=col>MFCCs_.5</th><th scope=col>MFCCs_.6</th><th scope=col>MFCCs_.7</th><th scope=col>MFCCs_.8</th><th scope=col>MFCCs_.9</th><th scope=col>MFCCs_10</th><th scope=col>...</th><th scope=col>MFCCs_17</th><th scope=col>MFCCs_18</th><th scope=col>MFCCs_19</th><th scope=col>MFCCs_20</th><th scope=col>MFCCs_21</th><th scope=col>MFCCs_22</th><th scope=col>Family</th><th scope=col>Genus</th><th scope=col>Species</th><th scope=col>RecordID</th></tr></thead>\n",
       "<tbody>\n",
       "\t<tr><td>1                     </td><td>0.2166063             </td><td>0.2005609             </td><td>0.5789610             </td><td> 0.15685820           </td><td>-0.05198971           </td><td>-0.12634891           </td><td> 0.11240765           </td><td> 0.25822170           </td><td>0.02409407            </td><td>...                   </td><td> 0.244863964          </td><td> 0.054002517          </td><td>-0.127313629          </td><td>-0.16272865           </td><td> 0.05981618           </td><td> 0.1769322665         </td><td>Leptodactylidae       </td><td>Adenomera             </td><td>AdenomeraHylaedactylus</td><td>17                    </td></tr>\n",
       "\t<tr><td>1                     </td><td>0.2299665             </td><td>0.3293108             </td><td>0.2527706             </td><td> 0.12283479           </td><td> 0.14646865           </td><td> 0.07095845           </td><td>-0.06132504           </td><td>-0.01723279           </td><td>0.05864099            </td><td>...                   </td><td> 0.065393826          </td><td>-0.001023982          </td><td> 0.003296368          </td><td> 0.00897545           </td><td>-0.02902691           </td><td> 0.0094371571         </td><td>Hylidae               </td><td>Hypsiboas             </td><td>HypsiboasCordobae     </td><td>40                    </td></tr>\n",
       "\t<tr><td>1                     </td><td>0.3522837             </td><td>0.2722891             </td><td>0.4996033             </td><td> 0.14229272           </td><td> 0.06977607           </td><td>-0.06642716           </td><td> 0.08190408           </td><td> 0.29457739           </td><td>0.04832329            </td><td>...                   </td><td> 0.155302107          </td><td>-0.004722347          </td><td>-0.052262132          </td><td>-0.13037620           </td><td> 0.02579535           </td><td> 0.2159999383         </td><td>Leptodactylidae       </td><td>Adenomera             </td><td>AdenomeraHylaedactylus</td><td>20                    </td></tr>\n",
       "\t<tr><td>1                     </td><td>0.5938954             </td><td>0.4270896             </td><td>0.2366997             </td><td> 0.06301652           </td><td> 0.16238295           </td><td> 0.06130302           </td><td> 0.01416244           </td><td> 0.12713670           </td><td>0.07339130            </td><td>...                   </td><td>-0.003026435          </td><td> 0.001725506          </td><td> 0.028812418          </td><td>-0.04303865           </td><td>-0.02163179           </td><td> 0.0364482886         </td><td>Hylidae               </td><td>Hypsiboas             </td><td>HypsiboasCordobae     </td><td>42                    </td></tr>\n",
       "\t<tr><td>1                     </td><td>0.2968157             </td><td>0.8573270             </td><td>0.1966853             </td><td>-0.39547415           </td><td> 0.39745686           </td><td> 0.27512152           </td><td>-0.26352731           </td><td> 0.04186584           </td><td>0.20647468            </td><td>...                   </td><td> 0.077021591          </td><td>-0.022437772          </td><td>-0.005791646          </td><td> 0.05232060           </td><td> 0.06783948           </td><td>-0.0548110971         </td><td>Leptodactylidae       </td><td>Leptodactylus         </td><td>LeptodactylusFuscus   </td><td>47                    </td></tr>\n",
       "\t<tr><td>1                     </td><td>0.5609538             </td><td>0.5635071             </td><td>0.5649744             </td><td>-0.15624558           </td><td>-0.09055252           </td><td> 0.44471285           </td><td> 0.11042725           </td><td>-0.23041045           </td><td>0.16990437            </td><td>...                   </td><td> 0.080913860          </td><td> 0.087474992          </td><td>-0.159477448          </td><td>-0.05848112           </td><td> 0.11510185           </td><td> 0.0006624927         </td><td>Leptodactylidae       </td><td>Adenomera             </td><td>AdenomeraAndre        </td><td> 8                    </td></tr>\n",
       "</tbody>\n",
       "</table>\n"
      ],
      "text/latex": [
       "\\begin{tabular}{r|llllllllllllllllllllllllll}\n",
       " MFCCs\\_.1 & MFCCs\\_.2 & MFCCs\\_.3 & MFCCs\\_.4 & MFCCs\\_.5 & MFCCs\\_.6 & MFCCs\\_.7 & MFCCs\\_.8 & MFCCs\\_.9 & MFCCs\\_10 & ... & MFCCs\\_17 & MFCCs\\_18 & MFCCs\\_19 & MFCCs\\_20 & MFCCs\\_21 & MFCCs\\_22 & Family & Genus & Species & RecordID\\\\\n",
       "\\hline\n",
       "\t 1                      & 0.2166063              & 0.2005609              & 0.5789610              &  0.15685820            & -0.05198971            & -0.12634891            &  0.11240765            &  0.25822170            & 0.02409407             & ...                    &  0.244863964           &  0.054002517           & -0.127313629           & -0.16272865            &  0.05981618            &  0.1769322665          & Leptodactylidae        & Adenomera              & AdenomeraHylaedactylus & 17                    \\\\\n",
       "\t 1                      & 0.2299665              & 0.3293108              & 0.2527706              &  0.12283479            &  0.14646865            &  0.07095845            & -0.06132504            & -0.01723279            & 0.05864099             & ...                    &  0.065393826           & -0.001023982           &  0.003296368           &  0.00897545            & -0.02902691            &  0.0094371571          & Hylidae                & Hypsiboas              & HypsiboasCordobae      & 40                    \\\\\n",
       "\t 1                      & 0.3522837              & 0.2722891              & 0.4996033              &  0.14229272            &  0.06977607            & -0.06642716            &  0.08190408            &  0.29457739            & 0.04832329             & ...                    &  0.155302107           & -0.004722347           & -0.052262132           & -0.13037620            &  0.02579535            &  0.2159999383          & Leptodactylidae        & Adenomera              & AdenomeraHylaedactylus & 20                    \\\\\n",
       "\t 1                      & 0.5938954              & 0.4270896              & 0.2366997              &  0.06301652            &  0.16238295            &  0.06130302            &  0.01416244            &  0.12713670            & 0.07339130             & ...                    & -0.003026435           &  0.001725506           &  0.028812418           & -0.04303865            & -0.02163179            &  0.0364482886          & Hylidae                & Hypsiboas              & HypsiboasCordobae      & 42                    \\\\\n",
       "\t 1                      & 0.2968157              & 0.8573270              & 0.1966853              & -0.39547415            &  0.39745686            &  0.27512152            & -0.26352731            &  0.04186584            & 0.20647468             & ...                    &  0.077021591           & -0.022437772           & -0.005791646           &  0.05232060            &  0.06783948            & -0.0548110971          & Leptodactylidae        & Leptodactylus          & LeptodactylusFuscus    & 47                    \\\\\n",
       "\t 1                      & 0.5609538              & 0.5635071              & 0.5649744              & -0.15624558            & -0.09055252            &  0.44471285            &  0.11042725            & -0.23041045            & 0.16990437             & ...                    &  0.080913860           &  0.087474992           & -0.159477448           & -0.05848112            &  0.11510185            &  0.0006624927          & Leptodactylidae        & Adenomera              & AdenomeraAndre         &  8                    \\\\\n",
       "\\end{tabular}\n"
      ],
      "text/markdown": [
       "\n",
       "MFCCs_.1 | MFCCs_.2 | MFCCs_.3 | MFCCs_.4 | MFCCs_.5 | MFCCs_.6 | MFCCs_.7 | MFCCs_.8 | MFCCs_.9 | MFCCs_10 | ... | MFCCs_17 | MFCCs_18 | MFCCs_19 | MFCCs_20 | MFCCs_21 | MFCCs_22 | Family | Genus | Species | RecordID | \n",
       "|---|---|---|---|---|---|\n",
       "| 1                      | 0.2166063              | 0.2005609              | 0.5789610              |  0.15685820            | -0.05198971            | -0.12634891            |  0.11240765            |  0.25822170            | 0.02409407             | ...                    |  0.244863964           |  0.054002517           | -0.127313629           | -0.16272865            |  0.05981618            |  0.1769322665          | Leptodactylidae        | Adenomera              | AdenomeraHylaedactylus | 17                     | \n",
       "| 1                      | 0.2299665              | 0.3293108              | 0.2527706              |  0.12283479            |  0.14646865            |  0.07095845            | -0.06132504            | -0.01723279            | 0.05864099             | ...                    |  0.065393826           | -0.001023982           |  0.003296368           |  0.00897545            | -0.02902691            |  0.0094371571          | Hylidae                | Hypsiboas              | HypsiboasCordobae      | 40                     | \n",
       "| 1                      | 0.3522837              | 0.2722891              | 0.4996033              |  0.14229272            |  0.06977607            | -0.06642716            |  0.08190408            |  0.29457739            | 0.04832329             | ...                    |  0.155302107           | -0.004722347           | -0.052262132           | -0.13037620            |  0.02579535            |  0.2159999383          | Leptodactylidae        | Adenomera              | AdenomeraHylaedactylus | 20                     | \n",
       "| 1                      | 0.5938954              | 0.4270896              | 0.2366997              |  0.06301652            |  0.16238295            |  0.06130302            |  0.01416244            |  0.12713670            | 0.07339130             | ...                    | -0.003026435           |  0.001725506           |  0.028812418           | -0.04303865            | -0.02163179            |  0.0364482886          | Hylidae                | Hypsiboas              | HypsiboasCordobae      | 42                     | \n",
       "| 1                      | 0.2968157              | 0.8573270              | 0.1966853              | -0.39547415            |  0.39745686            |  0.27512152            | -0.26352731            |  0.04186584            | 0.20647468             | ...                    |  0.077021591           | -0.022437772           | -0.005791646           |  0.05232060            |  0.06783948            | -0.0548110971          | Leptodactylidae        | Leptodactylus          | LeptodactylusFuscus    | 47                     | \n",
       "| 1                      | 0.5609538              | 0.5635071              | 0.5649744              | -0.15624558            | -0.09055252            |  0.44471285            |  0.11042725            | -0.23041045            | 0.16990437             | ...                    |  0.080913860           |  0.087474992           | -0.159477448           | -0.05848112            |  0.11510185            |  0.0006624927          | Leptodactylidae        | Adenomera              | AdenomeraAndre         |  8                     | \n",
       "\n",
       "\n"
      ],
      "text/plain": [
       "  MFCCs_.1 MFCCs_.2  MFCCs_.3  MFCCs_.4  MFCCs_.5    MFCCs_.6    MFCCs_.7   \n",
       "1 1        0.2166063 0.2005609 0.5789610  0.15685820 -0.05198971 -0.12634891\n",
       "2 1        0.2299665 0.3293108 0.2527706  0.12283479  0.14646865  0.07095845\n",
       "3 1        0.3522837 0.2722891 0.4996033  0.14229272  0.06977607 -0.06642716\n",
       "4 1        0.5938954 0.4270896 0.2366997  0.06301652  0.16238295  0.06130302\n",
       "5 1        0.2968157 0.8573270 0.1966853 -0.39547415  0.39745686  0.27512152\n",
       "6 1        0.5609538 0.5635071 0.5649744 -0.15624558 -0.09055252  0.44471285\n",
       "  MFCCs_.8    MFCCs_.9    MFCCs_10   ... MFCCs_17     MFCCs_18     MFCCs_19    \n",
       "1  0.11240765  0.25822170 0.02409407 ...  0.244863964  0.054002517 -0.127313629\n",
       "2 -0.06132504 -0.01723279 0.05864099 ...  0.065393826 -0.001023982  0.003296368\n",
       "3  0.08190408  0.29457739 0.04832329 ...  0.155302107 -0.004722347 -0.052262132\n",
       "4  0.01416244  0.12713670 0.07339130 ... -0.003026435  0.001725506  0.028812418\n",
       "5 -0.26352731  0.04186584 0.20647468 ...  0.077021591 -0.022437772 -0.005791646\n",
       "6  0.11042725 -0.23041045 0.16990437 ...  0.080913860  0.087474992 -0.159477448\n",
       "  MFCCs_20    MFCCs_21    MFCCs_22      Family          Genus        \n",
       "1 -0.16272865  0.05981618  0.1769322665 Leptodactylidae Adenomera    \n",
       "2  0.00897545 -0.02902691  0.0094371571 Hylidae         Hypsiboas    \n",
       "3 -0.13037620  0.02579535  0.2159999383 Leptodactylidae Adenomera    \n",
       "4 -0.04303865 -0.02163179  0.0364482886 Hylidae         Hypsiboas    \n",
       "5  0.05232060  0.06783948 -0.0548110971 Leptodactylidae Leptodactylus\n",
       "6 -0.05848112  0.11510185  0.0006624927 Leptodactylidae Adenomera    \n",
       "  Species                RecordID\n",
       "1 AdenomeraHylaedactylus 17      \n",
       "2 HypsiboasCordobae      40      \n",
       "3 AdenomeraHylaedactylus 20      \n",
       "4 HypsiboasCordobae      42      \n",
       "5 LeptodactylusFuscus    47      \n",
       "6 AdenomeraAndre          8      "
      ]
     },
     "metadata": {},
     "output_type": "display_data"
    }
   ],
   "source": [
    "head(train)"
   ]
  },
  {
   "cell_type": "code",
   "execution_count": 7,
   "metadata": {},
   "outputs": [
    {
     "name": "stderr",
     "output_type": "stream",
     "text": [
      "Loading required package: ggplot2\n",
      "\n",
      "Attaching package: 'kernlab'\n",
      "\n",
      "The following object is masked from 'package:ggplot2':\n",
      "\n",
      "    alpha\n",
      "\n"
     ]
    }
   ],
   "source": [
    "library(caret)\n",
    "library(kernlab)"
   ]
  },
  {
   "cell_type": "code",
   "execution_count": 9,
   "metadata": {},
   "outputs": [
    {
     "name": "stdout",
     "output_type": "stream",
     "text": [
      "[1] \"The best tuned Gaussian model for class 'Family' is:\"\n",
      "      sigma C\n",
      "3 0.0735519 1\n",
      "Test Error rate for class 'Family' is 0.01157943"
     ]
    }
   ],
   "source": [
    "\n",
    "#2_bii Gaussian Kernel, OVA\n",
    "#Family:\n",
    "train_control<-trainControl(method=\"cv\", number = 10)\n",
    "gasvm <- train(Family~.-Genus-Species-RecordID, data= train, trControl = train_control, method = \"svmRadial\")\n",
    "print(\"The best tuned Gaussian model for class 'Family' is:\")\n",
    "print(gasvm$bestTune )\n",
    "cm=confusionMatrix(predict(gasvm, newdata = test), test$Family)\n",
    "err=1-cm$overall['Accuracy']\n",
    "cat(\"Test Error rate for class 'Family' is\", err)"
   ]
  },
  {
   "cell_type": "code",
   "execution_count": 11,
   "metadata": {},
   "outputs": [
    {
     "name": "stdout",
     "output_type": "stream",
     "text": [
      "[1] \"The best tuned Gaussian model for class 'Genus' is:\"\n",
      "       sigma C\n",
      "3 0.06852188 1\n",
      "Test Error rate for class 'Genus' is 0.01806392"
     ]
    }
   ],
   "source": [
    "#Genus\n",
    "train_control<-trainControl(method=\"cv\", number = 10)\n",
    "gasvm <- train(Genus~.-Family-Species-RecordID, data= train, trControl = train_control, method = \"svmRadial\")\n",
    "print(\"The best tuned Gaussian model for class 'Genus' is:\")\n",
    "print(gasvm$bestTune )\n",
    "cm=confusionMatrix(predict(gasvm, newdata = test), test$Genus)\n",
    "err=1-cm$overall['Accuracy']\n",
    "cat(\"Test Error rate for class 'Genus' is\", err)"
   ]
  },
  {
   "cell_type": "code",
   "execution_count": 12,
   "metadata": {},
   "outputs": [
    {
     "name": "stdout",
     "output_type": "stream",
     "text": [
      "[1] \"The best tuned Gaussian model for class 'Species' is:\"\n",
      "       sigma C\n",
      "3 0.07242358 1\n",
      "Test Error rate for class 'Species' is 0.01713756"
     ]
    }
   ],
   "source": [
    "#species\n",
    "train_control<-trainControl(method=\"cv\", number = 10)\n",
    "gasvm <- train(Species~.-Family-Genus-RecordID, data= train, trControl = train_control, method = \"svmRadial\")\n",
    "print(\"The best tuned Gaussian model for class 'Species' is:\")\n",
    "print(gasvm$bestTune )\n",
    "cm=confusionMatrix(predict(gasvm, newdata = test), test$Species)\n",
    "err=1-cm$overall['Accuracy']\n",
    "cat(\"Test Error rate for class 'Species' is\", err)"
   ]
  },
  {
   "cell_type": "code",
   "execution_count": 32,
   "metadata": {},
   "outputs": [
    {
     "name": "stdout",
     "output_type": "stream",
     "text": [
      "[1] \"The best tuned Gaussian model for class 'Family' is:\"\n",
      "       sigma C\n",
      "3 0.07396121 1\n",
      "Test Error rate for class 'Family' is 0.01065308[1] \"The best tuned Gaussian model for class 'Genus' is:\"\n",
      "       sigma C\n",
      "3 0.06777005 1\n",
      "Test Error rate for class 'Genus' is 0.01806392[1] \"The best tuned Gaussian model for class 'Species' is:\"\n",
      "       sigma C\n",
      "3 0.07178857 1\n",
      "Test Error rate for class 'Species' is 0.01621121"
     ]
    }
   ],
   "source": [
    "#Normalized data\n",
    "norm_train = cbind(s, train[23:26])\n",
    "norm_test = cbind(sb,test[23:26])\n",
    "train_control<-trainControl(method=\"cv\", number = 10)\n",
    "gasvm <- train(Family~.-Genus-Species-RecordID, data= norm_train, trControl = train_control, method = \"svmRadial\")\n",
    "print(\"The best tuned Gaussian model for class 'Family' is:\")\n",
    "print(gasvm$bestTune )\n",
    "cm=confusionMatrix(predict(gasvm, newdata = norm_test), norm_test$Family)\n",
    "err=1-cm$overall['Accuracy']\n",
    "cat(\"Test Error rate for class 'Family' is\", err)\n",
    "\n",
    "train_control<-trainControl(method=\"cv\", number = 10)\n",
    "gasvm <- train(Genus~.-Family-Species-RecordID, data= norm_train, trControl = train_control, method = \"svmRadial\")\n",
    "print(\"The best tuned Gaussian model for class 'Genus' is:\")\n",
    "print(gasvm$bestTune )\n",
    "cm=confusionMatrix(predict(gasvm, newdata = norm_test), norm_test$Genus)\n",
    "err=1-cm$overall['Accuracy']\n",
    "cat(\"Test Error rate for class 'Genus' is\", err)\n",
    "\n",
    "train_control<-trainControl(method=\"cv\", number = 10)\n",
    "gasvm <- train(Species~.-Family-Genus-RecordID, data= norm_train, trControl = train_control, method = \"svmRadial\")\n",
    "print(\"The best tuned Gaussian model for class 'Species' is:\")\n",
    "print(gasvm$bestTune )\n",
    "cm=confusionMatrix(predict(gasvm, newdata = norm_test), norm_test$Species)\n",
    "err=1-cm$overall['Accuracy']\n",
    "cat(\"Test Error rate for class 'Species' is\", err)"
   ]
  },
  {
   "cell_type": "code",
   "execution_count": 14,
   "metadata": {},
   "outputs": [],
   "source": [
    "library(LiblineaR)"
   ]
  },
  {
   "cell_type": "code",
   "execution_count": 23,
   "metadata": {},
   "outputs": [
    {
     "name": "stdout",
     "output_type": "stream",
     "text": [
      "[1] \"Best cost of class 'Family' is: \"\n",
      "[1] 100\n",
      "Test Error rate for class 'Family' is 0.01111626"
     ]
    }
   ],
   "source": [
    "#2biii L1-penalizedSVM\n",
    "#family\n",
    "tryCosts= c(1000,100,10,1,0.1,0.01,0.001)\n",
    "bestCo= NA\n",
    "bestAcc= 0\n",
    "s = scale(train[1:22], center = TRUE, scale = TRUE)\n",
    "sb = scale(test[1:22], center = TRUE, scale = TRUE)\n",
    "for(co in tryCosts){\n",
    "acc=LiblineaR(data=s,target=train$Family,type=5,cost=co,bias=1,cross=10,verbose=FALSE)\n",
    "# cat(\"Results for C=\",co,\" : \",1-acc,\" error.\\n\",sep=\"\")\n",
    "if(acc>bestAcc){\n",
    "bestCost=co\n",
    "bestAcc=acc\n",
    "}\n",
    "    }\n",
    "model = LiblineaR(data = s,target=train$Family,type=5,cost=bestCost,bias=1,verbose=FALSE)\n",
    "p=predict(model, sb)\n",
    "print(\"Best cost of class 'Family' is: \")\n",
    "print(bestCost)\n",
    "# Display confusion matrix\n",
    "res=table(p$predictions,test$Family)\n",
    "err=(res[2]+res[3])/sum(res)\n",
    "cat(\"Test Error rate for class 'Family' is\", err)"
   ]
  },
  {
   "cell_type": "code",
   "execution_count": 33,
   "metadata": {},
   "outputs": [
    {
     "name": "stdout",
     "output_type": "stream",
     "text": [
      "[1] \"Best cost of class 'Genus' is: \"\n",
      "[1] 10\n",
      "Test Error rate for class 'Genus' is 0.003705419"
     ]
    }
   ],
   "source": [
    "#Genus\n",
    "for(co in tryCosts){\n",
    "acc=LiblineaR(data=s,target=train$Genus,type=5,cost=co,bias=1,cross=10,verbose=FALSE)\n",
    "# cat(\"Results for C=\",co,\" : \",1-acc,\" error.\\n\",sep=\"\")\n",
    "if(acc>bestAcc){\n",
    "bestCost=co\n",
    "bestAcc=acc\n",
    "}\n",
    "    }\n",
    "model = LiblineaR(data = s,target=train$Genus,type=5,cost=bestCost,bias=1,verbose=FALSE)\n",
    "p=predict(model, sb)\n",
    "print(\"Best cost of class 'Genus' is: \")\n",
    "print(bestCost)\n",
    "# Display confusion matrix\n",
    "res=table(p$predictions,test$Genus)\n",
    "err=(res[2]+res[3])/sum(res)\n",
    "cat(\"Test Error rate for class 'Genus' is\", err)"
   ]
  },
  {
   "cell_type": "code",
   "execution_count": 34,
   "metadata": {},
   "outputs": [
    {
     "name": "stdout",
     "output_type": "stream",
     "text": [
      "[1] \"Best cost of class 'Species' is: \"\n",
      "[1] 100\n",
      "Test Error rate for class 'Species' is 0.002779064"
     ]
    }
   ],
   "source": [
    "#species\n",
    "for(co in tryCosts){\n",
    "acc=LiblineaR(data=s,target=train$Species,type=5,cost=co,bias=1,cross=10,verbose=FALSE)\n",
    "# cat(\"Results for C=\",co,\" : \",1-acc,\" error.\\n\",sep=\"\")\n",
    "if(acc>bestAcc){\n",
    "bestCost=co\n",
    "bestAcc=acc\n",
    "}\n",
    "    }\n",
    "model = LiblineaR(data = s,target=train$Species,type=5,cost=bestCost,bias=1,verbose=FALSE)\n",
    "p=predict(model, sb)\n",
    "print(\"Best cost of class 'Species' is: \")\n",
    "print(bestCost)\n",
    "# Display confusion matrix\n",
    "res=table(p$predictions,test$Species)\n",
    "err=(res[2]+res[3])/sum(res)\n",
    "cat(\"Test Error rate for class 'Species' is\", err)"
   ]
  },
  {
   "cell_type": "code",
   "execution_count": 8,
   "metadata": {},
   "outputs": [
    {
     "name": "stdout",
     "output_type": "stream",
     "text": [
      "[1] \"The best tuned Gaussian model for class 'Family' is:\"\n",
      "       sigma C\n",
      "3 0.06860767 1\n",
      "Test Error rate for class 'Family' is 0.01376936[1] \"The best tuned Gaussian model for class 'Genus' is:\"\n",
      "       sigma C\n",
      "3 0.07057995 1\n",
      "Test Error rate for class 'Genus' is 0.02237522[1] \"The best tuned Gaussian model for class 'Species' is:\"\n",
      "       sigma C\n",
      "3 0.06896897 1\n",
      "Test Error rate for class 'Species' is 0.01290878"
     ]
    }
   ],
   "source": [
    "#SMOTE on normalized data\n",
    "\n",
    "\n",
    "\n",
    "library(DMwR)\n",
    "s = scale(train[1:22], center = TRUE, scale = TRUE)\n",
    "sb = scale(test[1:22], center = TRUE, scale = TRUE)\n",
    "norm_train = cbind(s, train[23:26])\n",
    "norm_test = cbind(sb,test[23:26])\n",
    "norm_train_f <- SMOTE(Family ~ ., norm_train,  perc.under=10000)\n",
    "norm_train_g <- SMOTE(Genus ~ ., norm_train,  perc.under=10000)\n",
    "norm_train_s <- SMOTE(Species ~ ., norm_train, perc.under=10000)\n",
    "\n",
    "\n",
    "norm_test_f <- SMOTE(Family ~ ., norm_test,  perc.under=4000)\n",
    "norm_test_g <- SMOTE(Genus ~ ., norm_test,  perc.under=4000)\n",
    "norm_test_s <- SMOTE(Species ~ ., norm_test, perc.under=4000)\n",
    "train_control<-trainControl(method=\"cv\", number = 10)\n",
    "gasvm <- train(Family~.-Genus-Species-RecordID, data= norm_train_f, trControl = train_control, method = \"svmRadial\")\n",
    "print(\"The best tuned Gaussian model for class 'Family' is:\")\n",
    "print(gasvm$bestTune )\n",
    "cm=confusionMatrix(predict(gasvm, newdata = norm_test_f), norm_test_f$Family)\n",
    "err=1-cm$overall['Accuracy']\n",
    "cat(\"Test Error rate for class 'Family' is\", err)\n",
    "\n",
    "train_control<-trainControl(method=\"cv\", number = 10)\n",
    "gasvm <- train(Genus~.-Family-Species-RecordID, data= norm_train_g, trControl = train_control, method = \"svmRadial\")\n",
    "print(\"The best tuned Gaussian model for class 'Genus' is:\")\n",
    "print(gasvm$bestTune )\n",
    "cm=confusionMatrix(predict(gasvm, newdata = norm_test_g), norm_test_g$Genus)\n",
    "err=1-cm$overall['Accuracy']\n",
    "cat(\"Test Error rate for class 'Genus' is\", err)\n",
    "\n",
    "train_control<-trainControl(method=\"cv\", number = 10)\n",
    "gasvm <- train(Species~.-Family-Genus-RecordID, data= norm_train_s, trControl = train_control, method = \"svmRadial\")\n",
    "print(\"The best tuned Gaussian model for class 'Species' is:\")\n",
    "print(gasvm$bestTune )\n",
    "cm=confusionMatrix(predict(gasvm, newdata = norm_test_s), norm_test_s$Species)\n",
    "err=1-cm$overall['Accuracy']\n",
    "cat(\"Test Error rate for class 'Species' is\", err)"
   ]
  },
  {
   "cell_type": "code",
   "execution_count": null,
   "metadata": {},
   "outputs": [],
   "source": []
  },
  {
   "cell_type": "code",
   "execution_count": null,
   "metadata": {},
   "outputs": [],
   "source": []
  },
  {
   "cell_type": "code",
   "execution_count": null,
   "metadata": {},
   "outputs": [],
   "source": []
  }
 ],
 "metadata": {
  "kernelspec": {
   "display_name": "R",
   "language": "R",
   "name": "ir"
  },
  "language_info": {
   "codemirror_mode": "r",
   "file_extension": ".r",
   "mimetype": "text/x-r-source",
   "name": "R",
   "pygments_lexer": "r",
   "version": "3.4.3"
  }
 },
 "nbformat": 4,
 "nbformat_minor": 2
}
